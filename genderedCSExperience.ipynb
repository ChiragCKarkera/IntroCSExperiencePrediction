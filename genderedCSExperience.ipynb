{
 "cells": [
  {
   "cell_type": "markdown",
   "metadata": {},
   "source": [
    "# Task: Model the dynamics of gender in intro CS\n"
   ]
  },
  {
   "cell_type": "code",
   "execution_count": 1,
   "metadata": {
    "collapsed": false
   },
   "outputs": [
    {
     "name": "stdout",
     "output_type": "stream",
     "text": [
      "Populating the interactive namespace from numpy and matplotlib\n"
     ]
    }
   ],
   "source": [
    "%pylab inline"
   ]
  },
  {
   "cell_type": "code",
   "execution_count": 2,
   "metadata": {
    "collapsed": false
   },
   "outputs": [],
   "source": [
    "# Import libraries\n",
    "\n",
    "\n",
    "import sys\n",
    "sys.path.append('tools/')\n",
    "\n",
    "import numpy as np\n",
    "import pandas as pd\n",
    "import matplotlib.pyplot as pyplt\n",
    "import seaborn as sns\n",
    "import tools\n",
    "import inputData\n",
    "   \n",
    "plt.style.use('ggplot')"
   ]
  },
  {
   "cell_type": "markdown",
   "metadata": {},
   "source": [
    "## Exploring the Data\n",
    "\n",
    "Let's go ahead and read in the student dataset first.\n"
   ]
  },
  {
   "cell_type": "code",
   "execution_count": 3,
   "metadata": {
    "collapsed": false
   },
   "outputs": [],
   "source": [
    "dataset = inputData.preprocess()"
   ]
  },
  {
   "cell_type": "code",
   "execution_count": 4,
   "metadata": {
    "collapsed": false
   },
   "outputs": [
    {
     "name": "stdout",
     "output_type": "stream",
     "text": [
      "494 male students, and 388 female students consented to participate in this study\n"
     ]
    }
   ],
   "source": [
    "dataset = dataset.query('gender == \"Female\" or gender == \"Male\"')\n",
    "dataset = dataset.reset_index(drop=True)\n",
    "\n",
    "\n",
    "print '{:d}{:20}{:d}{:20}'.format(len(dataset.query('gender == \"Male\"')), ' male students, and ',\n",
    "                                  len(dataset.query('gender == \"Female\"')),\n",
    "                                  ' female students consented to participate in this study')\n",
    "                        "
   ]
  },
  {
   "cell_type": "markdown",
   "metadata": {},
   "source": [
    "#### Drop the columns that aren't needed for the model"
   ]
  },
  {
   "cell_type": "code",
   "execution_count": 5,
   "metadata": {
    "collapsed": false
   },
   "outputs": [],
   "source": [
    "columnsNotNeeded = ['timestamp', 'consent','name', 'name_1', 'name_2', \n",
    "                    'morecs','snap_python','hiphop_d1','hiphop_d2','song_ct', 'major'] \n",
    "dataset.drop(columnsNotNeeded, axis=1, inplace=True)\n",
    "                   "
   ]
  },
  {
   "cell_type": "markdown",
   "metadata": {},
   "source": [
    "### Preprocess feature columns\n",
    "\n",
    "There are several non-numeric columns that need to be converted! Many of them are simply `yes`/`no`, e.g. `prcs_2`. These can be reasonably converted into `1`/`0` (binary) values. For the columns whose values are `Nan`, I am going to convert these to `0`. \n",
    "\n",
    "\n",
    "**Note**: These generated columns are sometimes called _dummy variables_, and we will use the [`pandas.get_dummies()`](http://pandas.pydata.org/pandas-docs/stable/generated/pandas.get_dummies.html?highlight=get_dummies#pandas.get_dummies) function to perform this transformation."
   ]
  },
  {
   "cell_type": "code",
   "execution_count": 6,
   "metadata": {
    "collapsed": false
   },
   "outputs": [],
   "source": [
    "# Preprocess feature columns\n",
    "def preprocess_features(X):\n",
    "    outX = pd.DataFrame(index=X.index)  # output dataframe, initially empty\n",
    "\n",
    "    # Check each column\n",
    "    for col, col_data in X.iteritems():\n",
    "        # If data type is non-numeric, try to replace all yes/no values with 1/0\n",
    "        if col_data.dtype == object:\n",
    "            col_data = col_data.replace(['Yes', 'No'], [1, 0])\n",
    "        # Note: This should change the data type for yes/no columns to int\n",
    "\n",
    "        # If still non-numeric, convert to one or more dummy variables\n",
    "        if col_data.dtype == object:\n",
    "            # e.g. 'reason' => 'reason_class_Interested' , 'reason_class_Other'\n",
    "            col_data = pd.get_dummies(col_data, prefix=col)\n",
    "\n",
    "        outX = outX.join(col_data)  # collect column(s) in output dataframe\n",
    "        outX.fillna(0, inplace=True) # make sure all NaN <missing> values are set to 0\n",
    "\n",
    "    return outX\n",
    "\n"
   ]
  },
  {
   "cell_type": "code",
   "execution_count": 7,
   "metadata": {
    "collapsed": false
   },
   "outputs": [
    {
     "name": "stdout",
     "output_type": "stream",
     "text": [
      "Processed feature columns (47):- ['atcs_1', 'atcs_2', 'atcs_3', 'atcs_4', 'atcs_5', 'atcs_6', 'atcs_7', 'atcs_8', 'atcs_9', 'atcsgender_1', 'atcsgender_2', 'atcsgender_3', 'atcsjob_1', 'atcsjob_2', 'atct_1', 'atct_2', 'atct_3', 'atct_4', 'atct_5', 'atct_6', 'atct_7', 'atct_8', 'blg_1', 'blg_2', 'blg_3', 'blg_4', 'classmtr', 'clet_1', 'clet_2', 'cltrcmp_1', 'cltrcmp_2', 'gender_Female', 'gender_Male', 'grade_B or above', 'grade_B or below', 'mtr_1', 'mtr_2', 'mtr_3', 'prcs_1', 'prcs_2', 'prcs_3', 'prcs_4', 'prcs_5', 'prepared', 'priorcs10', 'reason_class_Interested', 'reason_class_Other']\n"
     ]
    }
   ],
   "source": [
    "dataset = preprocess_features(dataset)\n",
    "print \"Processed feature columns ({}):- {}\".format(len(dataset.columns), list(dataset.columns))\n"
   ]
  },
  {
   "cell_type": "markdown",
   "metadata": {},
   "source": [
    "## Scaling\n",
    "Linearly scale each attribute to the range [−1, +1] or [0, 1].\n",
    "\n"
   ]
  },
  {
   "cell_type": "code",
   "execution_count": 8,
   "metadata": {
    "collapsed": false
   },
   "outputs": [
    {
     "data": {
      "text/html": [
       "<div>\n",
       "<table border=\"1\" class=\"dataframe\">\n",
       "  <thead>\n",
       "    <tr style=\"text-align: right;\">\n",
       "      <th></th>\n",
       "      <th>atcs_1</th>\n",
       "      <th>atcs_2</th>\n",
       "      <th>atcs_3</th>\n",
       "      <th>atcs_4</th>\n",
       "      <th>atcs_5</th>\n",
       "      <th>atcs_6</th>\n",
       "      <th>atcs_7</th>\n",
       "      <th>atcs_8</th>\n",
       "      <th>atcs_9</th>\n",
       "      <th>atcsgender_1</th>\n",
       "      <th>...</th>\n",
       "      <th>mtr_3</th>\n",
       "      <th>prcs_1</th>\n",
       "      <th>prcs_2</th>\n",
       "      <th>prcs_3</th>\n",
       "      <th>prcs_4</th>\n",
       "      <th>prcs_5</th>\n",
       "      <th>prepared</th>\n",
       "      <th>priorcs10</th>\n",
       "      <th>reason_class_Interested</th>\n",
       "      <th>reason_class_Other</th>\n",
       "    </tr>\n",
       "  </thead>\n",
       "  <tbody>\n",
       "    <tr>\n",
       "      <th>877</th>\n",
       "      <td>1.00</td>\n",
       "      <td>1.00</td>\n",
       "      <td>1.00</td>\n",
       "      <td>0.00</td>\n",
       "      <td>1.00</td>\n",
       "      <td>1.00</td>\n",
       "      <td>1.00</td>\n",
       "      <td>1.00</td>\n",
       "      <td>1.00</td>\n",
       "      <td>0.0</td>\n",
       "      <td>...</td>\n",
       "      <td>1.0</td>\n",
       "      <td>1.0</td>\n",
       "      <td>1.0</td>\n",
       "      <td>1.0</td>\n",
       "      <td>1.0</td>\n",
       "      <td>1.0</td>\n",
       "      <td>1.00</td>\n",
       "      <td>0.0</td>\n",
       "      <td>1.0</td>\n",
       "      <td>0.0</td>\n",
       "    </tr>\n",
       "    <tr>\n",
       "      <th>878</th>\n",
       "      <td>0.00</td>\n",
       "      <td>0.50</td>\n",
       "      <td>0.25</td>\n",
       "      <td>1.00</td>\n",
       "      <td>0.00</td>\n",
       "      <td>0.00</td>\n",
       "      <td>0.00</td>\n",
       "      <td>0.00</td>\n",
       "      <td>0.00</td>\n",
       "      <td>0.0</td>\n",
       "      <td>...</td>\n",
       "      <td>0.0</td>\n",
       "      <td>0.0</td>\n",
       "      <td>0.0</td>\n",
       "      <td>0.0</td>\n",
       "      <td>0.0</td>\n",
       "      <td>0.0</td>\n",
       "      <td>0.00</td>\n",
       "      <td>0.0</td>\n",
       "      <td>0.0</td>\n",
       "      <td>1.0</td>\n",
       "    </tr>\n",
       "    <tr>\n",
       "      <th>879</th>\n",
       "      <td>1.00</td>\n",
       "      <td>1.00</td>\n",
       "      <td>1.00</td>\n",
       "      <td>0.25</td>\n",
       "      <td>0.75</td>\n",
       "      <td>1.00</td>\n",
       "      <td>1.00</td>\n",
       "      <td>0.75</td>\n",
       "      <td>1.00</td>\n",
       "      <td>0.0</td>\n",
       "      <td>...</td>\n",
       "      <td>0.0</td>\n",
       "      <td>1.0</td>\n",
       "      <td>1.0</td>\n",
       "      <td>0.0</td>\n",
       "      <td>1.0</td>\n",
       "      <td>1.0</td>\n",
       "      <td>1.00</td>\n",
       "      <td>0.0</td>\n",
       "      <td>0.0</td>\n",
       "      <td>0.0</td>\n",
       "    </tr>\n",
       "    <tr>\n",
       "      <th>880</th>\n",
       "      <td>1.00</td>\n",
       "      <td>1.00</td>\n",
       "      <td>0.75</td>\n",
       "      <td>0.25</td>\n",
       "      <td>0.50</td>\n",
       "      <td>0.75</td>\n",
       "      <td>0.50</td>\n",
       "      <td>0.50</td>\n",
       "      <td>0.75</td>\n",
       "      <td>0.0</td>\n",
       "      <td>...</td>\n",
       "      <td>0.0</td>\n",
       "      <td>0.0</td>\n",
       "      <td>0.0</td>\n",
       "      <td>0.0</td>\n",
       "      <td>0.0</td>\n",
       "      <td>0.0</td>\n",
       "      <td>0.00</td>\n",
       "      <td>0.0</td>\n",
       "      <td>1.0</td>\n",
       "      <td>0.0</td>\n",
       "    </tr>\n",
       "    <tr>\n",
       "      <th>881</th>\n",
       "      <td>0.75</td>\n",
       "      <td>0.75</td>\n",
       "      <td>0.50</td>\n",
       "      <td>0.25</td>\n",
       "      <td>0.25</td>\n",
       "      <td>1.00</td>\n",
       "      <td>0.75</td>\n",
       "      <td>0.50</td>\n",
       "      <td>1.00</td>\n",
       "      <td>0.0</td>\n",
       "      <td>...</td>\n",
       "      <td>0.0</td>\n",
       "      <td>0.0</td>\n",
       "      <td>0.0</td>\n",
       "      <td>0.0</td>\n",
       "      <td>0.0</td>\n",
       "      <td>1.0</td>\n",
       "      <td>0.25</td>\n",
       "      <td>0.0</td>\n",
       "      <td>1.0</td>\n",
       "      <td>0.0</td>\n",
       "    </tr>\n",
       "  </tbody>\n",
       "</table>\n",
       "<p>5 rows × 47 columns</p>\n",
       "</div>"
      ],
      "text/plain": [
       "     atcs_1  atcs_2  atcs_3  atcs_4  atcs_5  atcs_6  atcs_7  atcs_8  atcs_9  \\\n",
       "877    1.00    1.00    1.00    0.00    1.00    1.00    1.00    1.00    1.00   \n",
       "878    0.00    0.50    0.25    1.00    0.00    0.00    0.00    0.00    0.00   \n",
       "879    1.00    1.00    1.00    0.25    0.75    1.00    1.00    0.75    1.00   \n",
       "880    1.00    1.00    0.75    0.25    0.50    0.75    0.50    0.50    0.75   \n",
       "881    0.75    0.75    0.50    0.25    0.25    1.00    0.75    0.50    1.00   \n",
       "\n",
       "     atcsgender_1         ...          mtr_3  prcs_1  prcs_2  prcs_3  prcs_4  \\\n",
       "877           0.0         ...            1.0     1.0     1.0     1.0     1.0   \n",
       "878           0.0         ...            0.0     0.0     0.0     0.0     0.0   \n",
       "879           0.0         ...            0.0     1.0     1.0     0.0     1.0   \n",
       "880           0.0         ...            0.0     0.0     0.0     0.0     0.0   \n",
       "881           0.0         ...            0.0     0.0     0.0     0.0     0.0   \n",
       "\n",
       "     prcs_5  prepared  priorcs10  reason_class_Interested  reason_class_Other  \n",
       "877     1.0      1.00        0.0                      1.0                 0.0  \n",
       "878     0.0      0.00        0.0                      0.0                 1.0  \n",
       "879     1.0      1.00        0.0                      0.0                 0.0  \n",
       "880     0.0      0.00        0.0                      1.0                 0.0  \n",
       "881     1.0      0.25        0.0                      1.0                 0.0  \n",
       "\n",
       "[5 rows x 47 columns]"
      ]
     },
     "execution_count": 8,
     "metadata": {},
     "output_type": "execute_result"
    }
   ],
   "source": [
    "from sklearn.preprocessing import MinMaxScaler\n",
    "\n",
    "scaler = MinMaxScaler()\n",
    "df = dataset\n",
    "\n",
    "df_scaled = pd.DataFrame(scaler.fit_transform(df), columns=df.columns)\n",
    "\n",
    "dataset = df_scaled\n",
    "dataset.tail()"
   ]
  },
  {
   "cell_type": "markdown",
   "metadata": {},
   "source": [
    "### Implementation: Feature Relevance\n",
    "One interesting thought to consider is if one (or more) of the 47 features is actually relevant for understanding the impact of gender on belonging. We can make this determination quite easily by training a supervised regression learner on a subset of the data with one feature removed, and then score how well that model can predict the removed feature.\n",
    "\n",
    "- Based on domain knowledge, we will limit the features to three dimensions:\n",
    "    - atcs: Attitudes about CS competency.\n",
    "    - blg: Sense of belonging in the CS classroom.\n",
    "    - atct: Understanding of computational thinking.\n",
    "    \n",
    "This reduces the set of features from 47 to 21.   \n",
    "We are going to use the feature **`'blg_1'`** as our target \n"
   ]
  },
  {
   "cell_type": "code",
   "execution_count": 9,
   "metadata": {
    "collapsed": true
   },
   "outputs": [],
   "source": [
    "atcs = ['atcs_1', 'atcs_2', 'atcs_3', 'atcs_4', 'atcs_5', \n",
    "        'atcs_6', 'atcs_7', 'atcs_8', 'atcs_9']# self reported attitude about CS competency\n",
    "atct = ['atct_1', 'atct_2', 'atct_3', 'atct_4', \n",
    "        'atct_5', 'atct_6', 'atct_7', 'atct_8'] # Self reported attitudes about computational thinking\n",
    "blg = ['blg_1', 'blg_2', 'blg_3', 'blg_4'] # Sense of belonging in the class room\n",
    "clet = ['clet_1', 'clet_2'] # Social implications and ethics\n",
    "gender = ['gender_Female', 'gender_Male' ]\n",
    "atcsgender = ['atcsgender_1','atcsgender_2','atcsgender_3'] \n",
    "atcsjob = ['atcsjob_1','atcsjob_2']\n",
    "clet = ['clet_1','clet_2']\n",
    "cltrcmp = ['cltrcmp_1','cltrcmp_2']\n",
    "mtr = ['mtr_1','mtr_2','mtr_3']\n",
    "prepared = ['prepared']\n",
    "\n",
    "itemDimensions = {}\n",
    "itemDimensions['atcs'] = atcs\n",
    "itemDimensions['atct'] = atct\n",
    "itemDimensions['blg'] = blg\n",
    "itemDimensions['gender'] = gender\n",
    "itemDimensions['atcsgender'] = atcsgender\n",
    "itemDimensions['atcsjob'] = atcsjob\n",
    "itemDimensions['clet'] = clet\n",
    "itemDimensions['cltrcmp'] = cltrcmp\n",
    "itemDimensions['mtr'] = mtr\n",
    "itemDimensions['prepared'] = prepared\n",
    "\n"
   ]
  },
  {
   "cell_type": "code",
   "execution_count": 10,
   "metadata": {
    "collapsed": false
   },
   "outputs": [],
   "source": [
    "list_of_lists = [\n",
    "itemDimensions['atcs'], \n",
    "itemDimensions['blg'],\n",
    "itemDimensions['atct'],\n",
    "itemDimensions['gender'],\n",
    "itemDimensions['atcsgender'],\n",
    "itemDimensions['atcsjob'],\n",
    "itemDimensions['clet'],\n",
    "itemDimensions['cltrcmp'],\n",
    "itemDimensions['mtr'],   \n",
    "itemDimensions['prepared']\n",
    "]\n",
    "\n",
    "flattened = [val for sublist in list_of_lists for val in sublist]"
   ]
  },
  {
   "cell_type": "code",
   "execution_count": 11,
   "metadata": {
    "collapsed": false
   },
   "outputs": [
    {
     "name": "stdout",
     "output_type": "stream",
     "text": [
      "atct_1         I am good at solving a problem by thinking about similar problems I’ve solved before.\n",
      "atct_2         I have good research skills.\n",
      "atct_3         I am good at using online search tools.\n",
      "atct_4         I am persistent at solving puzzles or logic problems.\n",
      "atct_5         I know how to write computer programs\n",
      "atct_6         I am good at building things.\n",
      "atct_7         I’m good at ignoring irrelevant details to solve a problem.\n",
      "atct_8         I know how to write a computer program to solve a problem.\n",
      "atcsgender_1   Women are less capable of success in CS than men.\n",
      "atcsgender_2   Women are smarter than men.\n",
      "atcsgender_3   Men have better math and science abilities than women.\n",
      "atcs_1         I like to use computer science to solve problems.\n",
      "atcs_2         I can learn to understand computing concepts.\n",
      "atcs_3         I can achieve good grades (C or better) in computing courses.\n",
      "atcs_4         I do not like using computer science to solve problems.\n",
      "atcs_5         I am confident that I can solve problems by using computation\n",
      "atcs_6         The challenge of solving problems using computer science appeals to me.\n",
      "atcs_7         I am comfortable with learning computing concepts.\n",
      "atcs_8         I am confident about my abilities with regards to computer science.\n",
      "atcs_9         I do think I can learn to understand computing concepts.\n",
      "mtr_1          Before I came to UC Berkeley, I knew people who have careers in Computer Science.\n",
      "mtr_2          There are people with careers in Computer Science who look like me.\n",
      "mtr_3          I have role models within the Computer Science field that look like me.\n",
      "gender         Preprocessed feature, no description\n",
      "clet_1         I work well in teams.\n",
      "clet_2         I think about the ethical, legal, and social implications of computing.\n",
      "prepared       How prepared did you feel about this class before it started?\n",
      "cltrcmp_1      I am comfortable interacting with peers from different backgrounds than my own (based on race, sexuality, income, and so on.)\n",
      "cltrcmp_2      I have good cultural competence, or the ability to interact effectively with people from diverse backgrounds.\n",
      "atcsjob_1      Knowledge of computing will allow me to secure a good job.\n",
      "atcsjob_2      My career goals do not require that I learn computing skills.\n",
      "blg_1          In this class, I feel I belong.\n",
      "blg_2          In this class, I feel awkward and out of place.\n",
      "blg_3          In this class, I feel like my ideas count.\n",
      "blg_4          In this class, I feel like I matter.\n"
     ]
    }
   ],
   "source": [
    "for key in itemDimensions:\n",
    "    try:\n",
    "        inputData.describeData(itemDimensions[key])\n",
    "    except:\n",
    "        print\"{:15}{:20}\".format(key, 'Preprocessed feature, no description')"
   ]
  },
  {
   "cell_type": "code",
   "execution_count": 12,
   "metadata": {
    "collapsed": false
   },
   "outputs": [
    {
     "name": "stdout",
     "output_type": "stream",
     "text": [
      "\n",
      "Feature values:-\n",
      "   atcs_1  atcs_2  atcs_3  atcs_4  atcs_5  atcs_6  atcs_7  atcs_8  atcs_9  \\\n",
      "0     0.5    0.75    1.00    0.50    0.75    0.75    0.75    0.50    0.75   \n",
      "1     0.0    0.00    0.00    1.00    0.00    0.00    0.00    0.00    0.25   \n",
      "2     1.0    1.00    1.00    0.00    1.00    1.00    1.00    1.00    1.00   \n",
      "3     1.0    0.75    0.75    0.00    0.75    0.75    0.75    1.00    1.00   \n",
      "4     0.5    0.50    0.75    0.25    0.50    0.75    1.00    0.25    0.75   \n",
      "\n",
      "   atcsgender_1         ...          mtr_3  prcs_1  prcs_2  prcs_3  prcs_4  \\\n",
      "0           0.0         ...            0.0     0.0     0.0     0.0     0.0   \n",
      "1           0.0         ...            0.0     0.0     0.0     1.0     1.0   \n",
      "2           0.0         ...            1.0     0.0     0.0     0.0     0.0   \n",
      "3           0.0         ...            0.0     0.0     0.0     0.0     0.0   \n",
      "4           0.0         ...            0.0     0.0     0.0     0.0     0.0   \n",
      "\n",
      "   prcs_5  prepared  priorcs10  reason_class_Interested  reason_class_Other  \n",
      "0     1.0      0.50        0.0                      1.0                 0.0  \n",
      "1     0.0      0.25        0.0                      1.0                 0.0  \n",
      "2     1.0      0.50        0.0                      1.0                 0.0  \n",
      "3     1.0      0.75        0.0                      1.0                 0.0  \n",
      "4     0.0      0.50        0.0                      1.0                 0.0  \n",
      "\n",
      "[5 rows x 45 columns]\n",
      "0    1.0\n",
      "1    1.0\n",
      "2    1.0\n",
      "3    1.0\n",
      "4    1.0\n",
      "Name: gender_Female, dtype: float64\n"
     ]
    }
   ],
   "source": [
    "# Extract feature (X) and target (y) columns\n",
    "\n",
    "target_col = dataset['gender_Female']  #  column is the target/label \n",
    "\n",
    "y = target_col  # corresponding targets/labels\n",
    "X = dataset.drop(['gender_Female', 'gender_Male'], axis=1, inplace=False)\n",
    "\n",
    "print \"\\nFeature values:-\"\n",
    "print X.head()  \n",
    "print y.head()"
   ]
  },
  {
   "cell_type": "markdown",
   "metadata": {},
   "source": [
    "### Exploratory Visualization\n",
    "- As we can see the dataset is unbalanced, we have more males than females.\n",
    "\n",
    "\n"
   ]
  },
  {
   "cell_type": "code",
   "execution_count": 13,
   "metadata": {
    "collapsed": false
   },
   "outputs": [
    {
     "data": {
      "image/png": "[encoded data removed]",
      "text/plain": [
       "<matplotlib.figure.Figure at 0x11523fad0>"
      ]
     },
     "metadata": {},
     "output_type": "display_data"
    }
   ],
   "source": [
    "y.plot.hist()\n",
    "\n",
    "_= pyplt.xlabel('Value')\n",
    "_= pyplt.title('Histogram of y_all')\n",
    "_= pyplt.legend(loc='upper center', shadow=True, fontsize='medium')\n",
    "_= pyplt.yticks(np.arange(0, 1000, 100))\n"
   ]
  },
  {
   "cell_type": "code",
   "execution_count": 14,
   "metadata": {
    "collapsed": false
   },
   "outputs": [
    {
     "name": "stdout",
     "output_type": "stream",
     "text": [
      "Feature column(s):- ['atcs_1', 'atcs_2', 'atcs_3', 'atcs_4', 'atcs_5', 'atcs_6', 'atcs_7', 'atcs_8', 'atcs_9', 'atcsgender_1', 'atcsgender_2', 'atcsgender_3', 'atcsjob_1', 'atcsjob_2', 'atct_1', 'atct_2', 'atct_3', 'atct_4', 'atct_5', 'atct_6', 'atct_7', 'atct_8', 'blg_1', 'blg_2', 'blg_3', 'blg_4', 'classmtr', 'clet_1', 'clet_2', 'cltrcmp_1', 'cltrcmp_2', 'grade_B or above', 'grade_B or below', 'mtr_1', 'mtr_2', 'mtr_3', 'prcs_1', 'prcs_2', 'prcs_3', 'prcs_4', 'prcs_5', 'prepared', 'priorcs10', 'reason_class_Interested', 'reason_class_Other']\n"
     ]
    }
   ],
   "source": [
    "## Make sure we drop the target from the table, otherwise we will be including the labeled data\n",
    "\n",
    "print \"Feature column(s):-\", list(X)"
   ]
  },
  {
   "cell_type": "code",
   "execution_count": null,
   "metadata": {
    "collapsed": true
   },
   "outputs": [],
   "source": []
  },
  {
   "cell_type": "markdown",
   "metadata": {},
   "source": [
    "## Feature Transformation\n",
    "We will use principal component analysis (PCA) to draw conclusions about the underlying structure of the data. Since using PCA on a dataset calculates the dimensions which best maximize variance, we will find which compound combinations of features best describe students."
   ]
  },
  {
   "cell_type": "code",
   "execution_count": 15,
   "metadata": {
    "collapsed": false
   },
   "outputs": [],
   "source": [
    "# TODO: Apply PCA by fitting the good data with the same number of dimensions as features\n",
    "from sklearn.decomposition import PCA\n",
    "\n",
    "pca_data = dataset.drop(['gender_Female', 'gender_Male'], axis=1, inplace=False)\n",
    "\n",
    "pca = PCA(n_components=3)\n",
    "pca.fit(pca_data)\n",
    "\n",
    "# Generate PCA results plot\n",
    "pca_results = tools.pca_results(pca_data, pca)"
   ]
  },
  {
   "cell_type": "code",
   "execution_count": 16,
   "metadata": {
    "collapsed": false
   },
   "outputs": [
    {
     "data": {
      "image/png": "[encoded data removed]",
      "text/plain": [
       "<matplotlib.figure.Figure at 0x11523f990>"
      ]
     },
     "metadata": {},
     "output_type": "display_data"
    }
   ],
   "source": [
    "pca_results['Explained Variance'].plot();"
   ]
  },
  {
   "cell_type": "code",
   "execution_count": 17,
   "metadata": {
    "collapsed": false
   },
   "outputs": [
    {
     "data": {
      "image/png": "[encoded data removed]",
      "text/plain": [
       "<matplotlib.figure.Figure at 0x11523f850>"
      ]
     },
     "metadata": {},
     "output_type": "display_data"
    }
   ],
   "source": [
    "cols = [col for col in pca_results.columns if col not in ['Explained Variance']]\n",
    "df2 = pca_results[cols]\n",
    "\n",
    "myFileName='report/figures' + '/' + 'pcaStudentData' +'.png'\n",
    "rcParams['figure.figsize'] = 20, 10\n",
    "fig = figure(dpi=80) # no frame\n",
    "\n",
    "with sns.axes_style(\"white\"):\n",
    "    ax = sns.heatmap(df2, square=False, annot=True, vmin=-1, vmax=1, cmap='RdBu', fmt='+.1f')\n",
    "    plt.xticks(rotation=70, ha='right');\n",
    "    \n",
    "fig.savefig(myFileName)"
   ]
  },
  {
   "cell_type": "markdown",
   "metadata": {},
   "source": [
    "Unsurprisingly, dimensions 1 and 2 account for almost 50% of the variance in the data. One of the interesting aspects of PCA is that the most interesting dynamics occur only in the first *k* dimension, and then they fall off. In this case, I would say the first **2** components highlight some clear student segments.    \n",
    "\n",
    " \n",
    "\n",
    "#### First Principal Component Analysis - Dimension 1\n",
    "\n",
    "#### Second Principal Component Analysis - Dimension 2\n"
   ]
  },
  {
   "cell_type": "code",
   "execution_count": 18,
   "metadata": {
    "collapsed": false
   },
   "outputs": [
    {
     "name": "stdout",
     "output_type": "stream",
     "text": [
      "Projecting the input data on the eigenfaces orthonormal basis\n"
     ]
    }
   ],
   "source": [
    "from time import time\n",
    "\n",
    "\n",
    "print(\"Projecting the input data on the eigenfaces orthonormal basis\")\n",
    "X_all_pca = pca.transform(X)"
   ]
  },
  {
   "cell_type": "code",
   "execution_count": 19,
   "metadata": {
    "collapsed": false
   },
   "outputs": [
    {
     "data": {
      "text/html": [
       "<div>\n",
       "<table border=\"1\" class=\"dataframe\">\n",
       "  <thead>\n",
       "    <tr style=\"text-align: right;\">\n",
       "      <th></th>\n",
       "      <th>pca_1</th>\n",
       "      <th>pca_2</th>\n",
       "      <th>pca_3</th>\n",
       "    </tr>\n",
       "  </thead>\n",
       "  <tbody>\n",
       "    <tr>\n",
       "      <th>0</th>\n",
       "      <td>-0.283988</td>\n",
       "      <td>0.602065</td>\n",
       "      <td>0.231407</td>\n",
       "    </tr>\n",
       "    <tr>\n",
       "      <th>1</th>\n",
       "      <td>-2.041676</td>\n",
       "      <td>-1.728263</td>\n",
       "      <td>-0.808885</td>\n",
       "    </tr>\n",
       "    <tr>\n",
       "      <th>2</th>\n",
       "      <td>0.702112</td>\n",
       "      <td>0.529915</td>\n",
       "      <td>-0.169924</td>\n",
       "    </tr>\n",
       "    <tr>\n",
       "      <th>3</th>\n",
       "      <td>0.303765</td>\n",
       "      <td>0.539674</td>\n",
       "      <td>0.212410</td>\n",
       "    </tr>\n",
       "    <tr>\n",
       "      <th>4</th>\n",
       "      <td>-0.916082</td>\n",
       "      <td>0.962346</td>\n",
       "      <td>0.136683</td>\n",
       "    </tr>\n",
       "  </tbody>\n",
       "</table>\n",
       "</div>"
      ],
      "text/plain": [
       "      pca_1     pca_2     pca_3\n",
       "0 -0.283988  0.602065  0.231407\n",
       "1 -2.041676 -1.728263 -0.808885\n",
       "2  0.702112  0.529915 -0.169924\n",
       "3  0.303765  0.539674  0.212410\n",
       "4 -0.916082  0.962346  0.136683"
      ]
     },
     "execution_count": 19,
     "metadata": {},
     "output_type": "execute_result"
    }
   ],
   "source": [
    "X_all_pca = pd.DataFrame(X_all_pca)\n",
    "X_all_pca.columns = ['pca_1', 'pca_2', 'pca_3']\n",
    "X_all_pca.head()"
   ]
  },
  {
   "cell_type": "code",
   "execution_count": 37,
   "metadata": {
    "collapsed": true
   },
   "outputs": [],
   "source": [
    "\n",
    "X_all = X\n",
    "X_all['pca_1'] = X_all_pca['pca_1']\n",
    "X_all['pca_2'] = X_all_pca['pca_2']\n",
    "X_all['pca_3'] = X_all_pca['pca_3']"
   ]
  },
  {
   "cell_type": "code",
   "execution_count": 46,
   "metadata": {
    "collapsed": false
   },
   "outputs": [],
   "source": [
    "# First, decide how many training vs test samples you want\n",
    "num_all = X.shape[0]  # same as len(student_data)\n",
    "num_train = 662  # about 75% of the data\n",
    "num_test = num_all - num_train"
   ]
  },
  {
   "cell_type": "code",
   "execution_count": 47,
   "metadata": {
    "collapsed": false
   },
   "outputs": [
    {
     "data": {
      "text/plain": [
       "662"
      ]
     },
     "execution_count": 47,
     "metadata": {},
     "output_type": "execute_result"
    }
   ],
   "source": [
    "num_train"
   ]
  },
  {
   "cell_type": "code",
   "execution_count": 49,
   "metadata": {
    "collapsed": false
   },
   "outputs": [],
   "source": [
    "from sklearn import cross_validation\n",
    "\n",
    "\n",
    "\n",
    "def shuffle_split_data(X, y):\n",
    "    \"\"\" Shuffles and splits data into 75% training and 25% testing subsets,\n",
    "        then returns the training and testing subsets. \"\"\"\n",
    "    X_train, X_test, y_train, y_test = cross_validation.train_test_split(X, y, \n",
    "                                                                        train_size=num_train, random_state=42)\n",
    "    \n",
    "    \n",
    "    \n",
    "\n",
    "\n",
    "    # Return the training and testing data subsets\n",
    "    return X_train, y_train, X_test, y_test"
   ]
  },
  {
   "cell_type": "code",
   "execution_count": 52,
   "metadata": {
    "collapsed": false
   },
   "outputs": [
    {
     "name": "stdout",
     "output_type": "stream",
     "text": [
      "Successfully shuffled and split the data!\n",
      "Training set: 662 samples\n",
      "Test set: 220 samples\n"
     ]
    }
   ],
   "source": [
    "try:\n",
    "    X_train, y_train, X_test, y_test = shuffle_split_data(X, y)\n",
    "    print \"Successfully shuffled and split the data!\"\n",
    "except:\n",
    "    print \"Something went wrong with shuffling and splitting the data.\"\n",
    "\n",
    "\n",
    "print \"Training set: {} samples\".format(X_train.shape[0])\n",
    "print \"Test set: {} samples\".format(X_test.shape[0])\n",
    "# Note: If you need a validation set, extract it from within training data"
   ]
  },
  {
   "cell_type": "markdown",
   "metadata": {},
   "source": [
    "## Modeling and Validating\n",
    "\n",
    "#### Dictionary of models to run\n",
    "\n"
   ]
  },
  {
   "cell_type": "code",
   "execution_count": 53,
   "metadata": {
    "collapsed": false
   },
   "outputs": [
    {
     "name": "stdout",
     "output_type": "stream",
     "text": [
      "\n",
      "Feature values:-\n",
      "     atcs_1  atcs_2  atcs_3  atcs_4  atcs_5  atcs_6  atcs_7  atcs_8  atcs_9  \\\n",
      "292    1.00    1.00    0.75    0.00    0.75    1.00    1.00    0.50    0.75   \n",
      "596    0.75    0.75    0.75    0.25    0.75    0.75    0.75    0.75    0.75   \n",
      "516    1.00    1.00    1.00    0.00    0.75    1.00    0.75    0.75    0.75   \n",
      "447    0.75    0.75    0.75    0.50    0.75    0.75    0.75    0.75    0.75   \n",
      "813    1.00    0.75    0.50    0.00    0.75    1.00    0.75    0.75    0.75   \n",
      "\n",
      "     atcsgender_1         ...          mtr_3  prcs_1  prcs_2  prcs_3  prcs_4  \\\n",
      "292           0.0         ...            0.0     0.0     0.0     0.0     0.0   \n",
      "596           0.0         ...            0.0     1.0     1.0     0.0     1.0   \n",
      "516           0.0         ...            0.0     0.0     0.0     0.0     0.0   \n",
      "447           0.0         ...            1.0     1.0     1.0     1.0     1.0   \n",
      "813           0.0         ...            1.0     0.0     0.0     0.0     0.0   \n",
      "\n",
      "     prcs_5  prepared  priorcs10  reason_class_Interested  reason_class_Other  \n",
      "292     0.0      0.00        0.0                      1.0                 0.0  \n",
      "596     1.0      0.50        0.0                      1.0                 0.0  \n",
      "516     0.0      0.25        0.0                      1.0                 0.0  \n",
      "447     1.0      0.75        0.0                      1.0                 0.0  \n",
      "813     1.0      0.25        1.0                      1.0                 0.0  \n",
      "\n",
      "[5 rows x 45 columns]\n"
     ]
    }
   ],
   "source": [
    "X = X_train.drop(['pca_1','pca_2','pca_3'], axis=1, inplace=False)\n",
    "print \"\\nFeature values:-\"\n",
    "print X.head() "
   ]
  },
  {
   "cell_type": "code",
   "execution_count": 54,
   "metadata": {
    "collapsed": true
   },
   "outputs": [],
   "source": [
    "\n",
    "import xgboost as xgb\n",
    "from xgboost import XGBClassifier\n",
    "from sklearn.metrics import accuracy_score, precision_score, recall_score\n",
    "from sklearn.cross_validation import StratifiedKFold\n",
    "from sklearn.cross_validation import cross_val_score\n",
    "\n",
    "\n",
    "models = {\n",
    "          'XGBoost': XGBClassifier()\n",
    "         }\n"
   ]
  },
  {
   "cell_type": "code",
   "execution_count": 75,
   "metadata": {
    "collapsed": false
   },
   "outputs": [
    {
     "name": "stdout",
     "output_type": "stream",
     "text": [
      "XGBoost\n",
      "Accuracy: 67.95% (11.20%) \n",
      "\n"
     ]
    }
   ],
   "source": [
    "for model_name, model in models.iteritems():\n",
    "    print model_name\n",
    "    kfold = StratifiedKFold(y_train, n_folds=50, random_state=7)\n",
    "    results = cross_val_score(model, X, y_train, cv=kfold)\n",
    "    print(\"Accuracy: %.2f%% (%.2f%%)\" % (results.mean()*100, results.std()*100)), '\\n'\n",
    "    "
   ]
  },
  {
   "cell_type": "code",
   "execution_count": 76,
   "metadata": {
    "collapsed": false
   },
   "outputs": [
    {
     "name": "stdout",
     "output_type": "stream",
     "text": [
      "XGBClassifier(base_score=0.5, colsample_bylevel=1, colsample_bytree=1,\n",
      "       gamma=0, learning_rate=0.1, max_delta_step=0, max_depth=3,\n",
      "       min_child_weight=1, missing=None, n_estimators=100, nthread=-1,\n",
      "       objective='binary:logistic', reg_alpha=0, reg_lambda=1,\n",
      "       scale_pos_weight=1, seed=0, silent=True, subsample=1)\n"
     ]
    }
   ],
   "source": [
    "print model"
   ]
  },
  {
   "cell_type": "code",
   "execution_count": 77,
   "metadata": {
    "collapsed": false
   },
   "outputs": [
    {
     "data": {
      "text/plain": [
       "'report/figures/X_graph.gv.pdf'"
      ]
     },
     "execution_count": 77,
     "metadata": {},
     "output_type": "execute_result"
    }
   ],
   "source": [
    "model.fit(X, y_train)\n",
    "g = xgb.to_graphviz(model, rankdir='LR')\n",
    "g.render('report/figures/X_graph.gv', view=True)\n",
    "    "
   ]
  },
  {
   "cell_type": "markdown",
   "metadata": {},
   "source": [
    "### Predict "
   ]
  },
  {
   "cell_type": "code",
   "execution_count": 79,
   "metadata": {
    "collapsed": false
   },
   "outputs": [
    {
     "name": "stdout",
     "output_type": "stream",
     "text": [
      "Accuracy: 72.27%\n"
     ]
    }
   ],
   "source": [
    "Features_test = X_test.drop(['pca_1','pca_2','pca_3'], axis=1, inplace=False)\n",
    "\n",
    "\n",
    "# make predictions for test data\n",
    "y_pred = model.predict(Features_test)\n",
    "predictions = [round(value) for value in y_pred]\n",
    "# evaluate predictions\n",
    "accuracy = accuracy_score(y_test, predictions)\n",
    "print(\"Accuracy: %.2f%%\" % (accuracy * 100.0))"
   ]
  },
  {
   "cell_type": "markdown",
   "metadata": {},
   "source": [
    "#### Generate Features from XGBoost classifier "
   ]
  },
  {
   "cell_type": "code",
   "execution_count": 63,
   "metadata": {
    "collapsed": false
   },
   "outputs": [
    {
     "data": {
      "image/png": "[encoded data removed]",
      "text/plain": [
       "<matplotlib.figure.Figure at 0x11501ed50>"
      ]
     },
     "metadata": {},
     "output_type": "display_data"
    }
   ],
   "source": [
    "# plot feature importance\n",
    "from xgboost import plot_importance\n",
    "\n",
    "\n",
    "model.fit(X, y_train)\n",
    "plot_importance(model)\n",
    "pyplot.show()"
   ]
  },
  {
   "cell_type": "markdown",
   "metadata": {},
   "source": [
    "### Use a reduced set of features"
   ]
  },
  {
   "cell_type": "code",
   "execution_count": 81,
   "metadata": {
    "collapsed": false
   },
   "outputs": [
    {
     "name": "stdout",
     "output_type": "stream",
     "text": [
      "\n",
      "Feature values:-\n",
      "        pca_2     pca_3     pca_1  atcsgender_2  atcsgender_3  atcs_1  atcs_8  \\\n",
      "292  0.986567 -0.197879  0.112872           0.0          0.00    1.00    0.50   \n",
      "596 -1.059993  0.841326  0.231971           0.5          0.25    0.75    0.75   \n",
      "516  1.079665  0.488755 -0.458591           0.0          0.25    1.00    0.75   \n",
      "447 -0.802772 -0.109498  1.487035           0.0          0.25    0.75    0.75   \n",
      "813 -0.052392 -0.022940 -0.586108           0.0          0.00    1.00    0.75   \n",
      "\n",
      "     cltrcmp_2  atcsjob_2  clet_2  atct_3  blg_1  atcsgender_1  \n",
      "292       1.00       0.00    0.75    1.00   0.75           0.0  \n",
      "596       0.75       0.75    0.50    0.75   0.75           0.0  \n",
      "516       0.50       0.00    0.00    0.75   0.75           0.0  \n",
      "447       1.00       0.00    0.50    0.75   1.00           0.0  \n",
      "813       1.00       0.75    0.75    0.50   0.50           0.0  \n"
     ]
    }
   ],
   "source": [
    "# Extract feature (X) and target (y) columns\n",
    "\n",
    "\n",
    "X_all_Reduced = X_train[['pca_2', 'pca_3', 'pca_1', \n",
    "                'atcsgender_2', 'atcsgender_3', \n",
    "                'atcs_1', 'atcs_8',\n",
    "                'cltrcmp_2', 'atcsjob_2', 'clet_2', 'atct_3',\n",
    "                'blg_1', 'atcsgender_1']]\n",
    "\n",
    "\n",
    "print \"\\nFeature values:-\"\n",
    "print X_all_Reduced.head()  "
   ]
  },
  {
   "cell_type": "code",
   "execution_count": 82,
   "metadata": {
    "collapsed": false
   },
   "outputs": [
    {
     "name": "stdout",
     "output_type": "stream",
     "text": [
      "XGBoost\n",
      "Accuracy: 67.24% (11.32%) \n",
      "\n"
     ]
    }
   ],
   "source": [
    "for model_name, model in models.iteritems():\n",
    "    print model_name\n",
    "    kfold = StratifiedKFold(y_train, n_folds=50, random_state=7)\n",
    "    results = cross_val_score(model, X_all_Reduced, y_train, cv=kfold)\n",
    "    print(\"Accuracy: %.2f%% (%.2f%%)\" % (results.mean()*100, results.std()*100)), '\\n'\n",
    "\n"
   ]
  },
  {
   "cell_type": "code",
   "execution_count": 83,
   "metadata": {
    "collapsed": false
   },
   "outputs": [
    {
     "data": {
      "text/plain": [
       "'report/figures/X_all_Reduced_graph.gv.pdf'"
      ]
     },
     "execution_count": 83,
     "metadata": {},
     "output_type": "execute_result"
    }
   ],
   "source": [
    "model.fit(X_all_Reduced, y_train)\n",
    "g = xgb.to_graphviz(model, rankdir='LR')\n",
    "g.render('report/figures/X_all_Reduced_graph.gv', view=True)"
   ]
  },
  {
   "cell_type": "code",
   "execution_count": 84,
   "metadata": {
    "collapsed": false
   },
   "outputs": [
    {
     "name": "stdout",
     "output_type": "stream",
     "text": [
      "Accuracy: 67.27%\n"
     ]
    }
   ],
   "source": [
    "Features_test = X_test[['pca_2', 'pca_3', 'pca_1', \n",
    "                'atcsgender_2', 'atcsgender_3', \n",
    "                'atcs_1', 'atcs_8',\n",
    "                'cltrcmp_2', 'atcsjob_2', 'clet_2', 'atct_3',\n",
    "                'blg_1', 'atcsgender_1']]\n",
    "\n",
    "\n",
    "# make predictions for test data\n",
    "y_pred = model.predict(Features_test)\n",
    "predictions = [round(value) for value in y_pred]\n",
    "# evaluate predictions\n",
    "accuracy = accuracy_score(y_test, predictions)\n",
    "print(\"Accuracy: %.2f%%\" % (accuracy * 100.0))"
   ]
  },
  {
   "cell_type": "code",
   "execution_count": null,
   "metadata": {
    "collapsed": true
   },
   "outputs": [],
   "source": []
  },
  {
   "cell_type": "markdown",
   "metadata": {},
   "source": [
    "## Remove all gendered questions"
   ]
  },
  {
   "cell_type": "code",
   "execution_count": 85,
   "metadata": {
    "collapsed": false
   },
   "outputs": [
    {
     "name": "stdout",
     "output_type": "stream",
     "text": [
      "\n",
      "Feature values:-\n",
      "     atcs_1  atcs_2  atcs_3  atcs_4  atcs_5  atcs_6  atcs_7  atcs_8  atcs_9  \\\n",
      "292    1.00    1.00    0.75    0.00    0.75    1.00    1.00    0.50    0.75   \n",
      "596    0.75    0.75    0.75    0.25    0.75    0.75    0.75    0.75    0.75   \n",
      "516    1.00    1.00    1.00    0.00    0.75    1.00    0.75    0.75    0.75   \n",
      "447    0.75    0.75    0.75    0.50    0.75    0.75    0.75    0.75    0.75   \n",
      "813    1.00    0.75    0.50    0.00    0.75    1.00    0.75    0.75    0.75   \n",
      "\n",
      "     atcsjob_1         ...          mtr_3  prcs_1  prcs_2  prcs_3  prcs_4  \\\n",
      "292       0.75         ...            0.0     0.0     0.0     0.0     0.0   \n",
      "596       0.75         ...            0.0     1.0     1.0     0.0     1.0   \n",
      "516       1.00         ...            0.0     0.0     0.0     0.0     0.0   \n",
      "447       1.00         ...            1.0     1.0     1.0     1.0     1.0   \n",
      "813       0.75         ...            1.0     0.0     0.0     0.0     0.0   \n",
      "\n",
      "     prcs_5  prepared  priorcs10  reason_class_Interested  reason_class_Other  \n",
      "292     0.0      0.00        0.0                      1.0                 0.0  \n",
      "596     1.0      0.50        0.0                      1.0                 0.0  \n",
      "516     0.0      0.25        0.0                      1.0                 0.0  \n",
      "447     1.0      0.75        0.0                      1.0                 0.0  \n",
      "813     1.0      0.25        1.0                      1.0                 0.0  \n",
      "\n",
      "[5 rows x 42 columns]\n"
     ]
    }
   ],
   "source": [
    "X_all_No_Gender = X_train.drop(['pca_1','pca_2','pca_3','atcsgender_1','atcsgender_2','atcsgender_3',], \n",
    "                            axis=1, inplace=False)\n",
    "\n",
    "\n",
    "print \"\\nFeature values:-\"\n",
    "print X_all_No_Gender.head()  "
   ]
  },
  {
   "cell_type": "code",
   "execution_count": 86,
   "metadata": {
    "collapsed": false
   },
   "outputs": [
    {
     "name": "stdout",
     "output_type": "stream",
     "text": [
      "XGBoost\n",
      "Accuracy: 65.23% (12.90%) \n",
      "\n"
     ]
    }
   ],
   "source": [
    "for model_name, model in models.iteritems():\n",
    "    print model_name\n",
    "    kfold = StratifiedKFold(y_train, n_folds=50, random_state=7)\n",
    "    results = cross_val_score(model, X_all_No_Gender, y_train, cv=kfold)\n",
    "    print(\"Accuracy: %.2f%% (%.2f%%)\" % (results.mean()*100, results.std()*100)), '\\n'\n"
   ]
  },
  {
   "cell_type": "code",
   "execution_count": 87,
   "metadata": {
    "collapsed": false
   },
   "outputs": [
    {
     "data": {
      "text/plain": [
       "'report/figures/X_all_No_Gender_graph.gv.pdf'"
      ]
     },
     "execution_count": 87,
     "metadata": {},
     "output_type": "execute_result"
    }
   ],
   "source": [
    "model.fit(X_all_No_Gender, y_train)\n",
    "g = xgb.to_graphviz(model, rankdir='LR')\n",
    "g.render('report/figures/X_all_No_Gender_graph.gv', view=True)"
   ]
  },
  {
   "cell_type": "code",
   "execution_count": 88,
   "metadata": {
    "collapsed": false
   },
   "outputs": [
    {
     "name": "stdout",
     "output_type": "stream",
     "text": [
      "Accuracy: 65.00%\n"
     ]
    }
   ],
   "source": [
    "Features_test = X_test.drop(['pca_1','pca_2','pca_3','atcsgender_1','atcsgender_2','atcsgender_3',], \n",
    "                            axis=1, inplace=False)\n",
    "\n",
    "\n",
    "# make predictions for test data\n",
    "y_pred = model.predict(Features_test)\n",
    "predictions = [round(value) for value in y_pred]\n",
    "# evaluate predictions\n",
    "accuracy = accuracy_score(y_test, predictions)\n",
    "print(\"Accuracy: %.2f%%\" % (accuracy * 100.0))"
   ]
  },
  {
   "cell_type": "code",
   "execution_count": null,
   "metadata": {
    "collapsed": true
   },
   "outputs": [],
   "source": []
  },
  {
   "cell_type": "markdown",
   "metadata": {},
   "source": [
    "## Investigate important features"
   ]
  },
  {
   "cell_type": "code",
   "execution_count": 72,
   "metadata": {
    "collapsed": false
   },
   "outputs": [
    {
     "data": {
      "image/png": "[encoded data removed]",
      "text/plain": [
       "<matplotlib.figure.Figure at 0x11a5bfa50>"
      ]
     },
     "metadata": {},
     "output_type": "display_data"
    }
   ],
   "source": [
    "\n",
    "pre_males = dataset.query('gender_Female == 0')\n",
    "pre_males = pre_males[['prepared']]\n",
    "\n",
    "axes = pre_males.plot.hist()\n",
    "axes.set_xlabel('Male Students')\n",
    "axes.set_title('Measurement of Preparedness for Intro CS')\n",
    "\n",
    "\n",
    "a=axes.get_xticks().tolist()\n",
    "a[0] = 'Strongly Unprepared'\n",
    "a[1] = 'UnPrepared'\n",
    "a[3] = 'Neutral'\n",
    "a[4] = 'Prepared'\n",
    "a[5] = 'Strongly Prepared'\n",
    "axes.set_xticklabels(a);"
   ]
  },
  {
   "cell_type": "code",
   "execution_count": 73,
   "metadata": {
    "collapsed": false
   },
   "outputs": [
    {
     "data": {
      "image/png": "[encoded data removed]",
      "text/plain": [
       "<matplotlib.figure.Figure at 0x11503ed50>"
      ]
     },
     "metadata": {},
     "output_type": "display_data"
    }
   ],
   "source": [
    "pre_females = dataset.query('gender_Female == 1')\n",
    "pre_females = pre_females[['prepared']]\n",
    "\n",
    "axes = pre_females.plot.hist()\n",
    "axes.set_xlabel('Female Students')\n",
    "axes.set_title('Measurement of Preparedness for Intro CS')\n",
    "\n",
    "\n",
    "a=axes.get_xticks().tolist()\n",
    "a[0] = 'Strongly Unprepared'\n",
    "a[1] = 'UnPrepared'\n",
    "a[3] = 'Neutral'\n",
    "a[4] = 'Prepared'\n",
    "a[5] = 'Strongly Prepared'\n",
    "axes.set_xticklabels(a);"
   ]
  },
  {
   "cell_type": "markdown",
   "metadata": {},
   "source": [
    "## Tune Estimator"
   ]
  },
  {
   "cell_type": "markdown",
   "metadata": {},
   "source": [
    "### Ideal choices of parameters as taken from Xgboost With Python ebook\n",
    "\n",
    "- Number of Trees (n estimators) set to a fixed value between 100 and 1000, depending on the dataset size.\n",
    "- Learning Rate (learning rate) simplified to the ratio: [2 to 10]/trees, depending on the trees number of trees.\n",
    "- Row Sampling (subsample) grid searched values in the range [0.5, 0.75, 1.0].\n",
    "- Column Sampling (colsample bytree and maybe colsample bylevel) grid searched values in the range [0.4, 0.6, 0.8, 1.0].\n",
    "- Min Leaf Weight (min child weight) simplified to the ratio 3/rare_events , where rare events rare events is the percentage of rare event observations in the dataset.\n",
    "- Tree Size (max depth) grid searched values in the rage [4, 6, 8, 10].\n",
    "- Min Split Gain (gamma) fixed with a value of zero.\n"
   ]
  },
  {
   "cell_type": "code",
   "execution_count": 35,
   "metadata": {
    "collapsed": false
   },
   "outputs": [],
   "source": [
    "from __future__ import division\n",
    "\n",
    "\n",
    "trees = range(100, 1000, 100)\n",
    "\n",
    "lRate = range(2, 10, 2)\n",
    "lRate = [x/9 for x in lRate]"
   ]
  },
  {
   "cell_type": "code",
   "execution_count": 36,
   "metadata": {
    "collapsed": false
   },
   "outputs": [
    {
     "name": "stdout",
     "output_type": "stream",
     "text": [
      "____________________ Tuning XGBoost ____________________\n",
      "Training the data\n"
     ]
    },
    {
     "ename": "KeyboardInterrupt",
     "evalue": "",
     "output_type": "error",
     "traceback": [
      "\u001b[0;31m---------------------------------------------------------------------------\u001b[0m",
      "\u001b[0;31mKeyboardInterrupt\u001b[0m                         Traceback (most recent call last)",
      "\u001b[0;32m<ipython-input-36-8c5ef0eaa369>\u001b[0m in \u001b[0;36m<module>\u001b[0;34m()\u001b[0m\n\u001b[1;32m     37\u001b[0m grid = GridSearchCV(XGBC(**params), \n\u001b[1;32m     38\u001b[0m                             cv_params, cv=ssscv, scoring=scoring_function, n_jobs = -1) \n\u001b[0;32m---> 39\u001b[0;31m \u001b[0mgrid\u001b[0m\u001b[0;34m.\u001b[0m\u001b[0mfit\u001b[0m\u001b[0;34m(\u001b[0m\u001b[0mX\u001b[0m\u001b[0;34m,\u001b[0m \u001b[0my\u001b[0m\u001b[0;34m)\u001b[0m\u001b[0;34m\u001b[0m\u001b[0m\n\u001b[0m",
      "\u001b[0;32m/Users/omojumiller/anaconda/lib/python2.7/site-packages/sklearn/grid_search.pyc\u001b[0m in \u001b[0;36mfit\u001b[0;34m(self, X, y)\u001b[0m\n\u001b[1;32m    802\u001b[0m \u001b[0;34m\u001b[0m\u001b[0m\n\u001b[1;32m    803\u001b[0m         \"\"\"\n\u001b[0;32m--> 804\u001b[0;31m         \u001b[0;32mreturn\u001b[0m \u001b[0mself\u001b[0m\u001b[0;34m.\u001b[0m\u001b[0m_fit\u001b[0m\u001b[0;34m(\u001b[0m\u001b[0mX\u001b[0m\u001b[0;34m,\u001b[0m \u001b[0my\u001b[0m\u001b[0;34m,\u001b[0m \u001b[0mParameterGrid\u001b[0m\u001b[0;34m(\u001b[0m\u001b[0mself\u001b[0m\u001b[0;34m.\u001b[0m\u001b[0mparam_grid\u001b[0m\u001b[0;34m)\u001b[0m\u001b[0;34m)\u001b[0m\u001b[0;34m\u001b[0m\u001b[0m\n\u001b[0m\u001b[1;32m    805\u001b[0m \u001b[0;34m\u001b[0m\u001b[0m\n\u001b[1;32m    806\u001b[0m \u001b[0;34m\u001b[0m\u001b[0m\n",
      "\u001b[0;32m/Users/omojumiller/anaconda/lib/python2.7/site-packages/sklearn/grid_search.pyc\u001b[0m in \u001b[0;36m_fit\u001b[0;34m(self, X, y, parameter_iterable)\u001b[0m\n\u001b[1;32m    551\u001b[0m                                     \u001b[0mself\u001b[0m\u001b[0;34m.\u001b[0m\u001b[0mfit_params\u001b[0m\u001b[0;34m,\u001b[0m \u001b[0mreturn_parameters\u001b[0m\u001b[0;34m=\u001b[0m\u001b[0mTrue\u001b[0m\u001b[0;34m,\u001b[0m\u001b[0;34m\u001b[0m\u001b[0m\n\u001b[1;32m    552\u001b[0m                                     error_score=self.error_score)\n\u001b[0;32m--> 553\u001b[0;31m                 \u001b[0;32mfor\u001b[0m \u001b[0mparameters\u001b[0m \u001b[0;32min\u001b[0m \u001b[0mparameter_iterable\u001b[0m\u001b[0;34m\u001b[0m\u001b[0m\n\u001b[0m\u001b[1;32m    554\u001b[0m                 for train, test in cv)\n\u001b[1;32m    555\u001b[0m \u001b[0;34m\u001b[0m\u001b[0m\n",
      "\u001b[0;32m/Users/omojumiller/anaconda/lib/python2.7/site-packages/sklearn/externals/joblib/parallel.pyc\u001b[0m in \u001b[0;36m__call__\u001b[0;34m(self, iterable)\u001b[0m\n\u001b[1;32m    808\u001b[0m                 \u001b[0;31m# consumption.\u001b[0m\u001b[0;34m\u001b[0m\u001b[0;34m\u001b[0m\u001b[0m\n\u001b[1;32m    809\u001b[0m                 \u001b[0mself\u001b[0m\u001b[0;34m.\u001b[0m\u001b[0m_iterating\u001b[0m \u001b[0;34m=\u001b[0m \u001b[0mFalse\u001b[0m\u001b[0;34m\u001b[0m\u001b[0m\n\u001b[0;32m--> 810\u001b[0;31m             \u001b[0mself\u001b[0m\u001b[0;34m.\u001b[0m\u001b[0mretrieve\u001b[0m\u001b[0;34m(\u001b[0m\u001b[0;34m)\u001b[0m\u001b[0;34m\u001b[0m\u001b[0m\n\u001b[0m\u001b[1;32m    811\u001b[0m             \u001b[0;31m# Make sure that we get a last message telling us we are done\u001b[0m\u001b[0;34m\u001b[0m\u001b[0;34m\u001b[0m\u001b[0m\n\u001b[1;32m    812\u001b[0m             \u001b[0melapsed_time\u001b[0m \u001b[0;34m=\u001b[0m \u001b[0mtime\u001b[0m\u001b[0;34m.\u001b[0m\u001b[0mtime\u001b[0m\u001b[0;34m(\u001b[0m\u001b[0;34m)\u001b[0m \u001b[0;34m-\u001b[0m \u001b[0mself\u001b[0m\u001b[0;34m.\u001b[0m\u001b[0m_start_time\u001b[0m\u001b[0;34m\u001b[0m\u001b[0m\n",
      "\u001b[0;32m/Users/omojumiller/anaconda/lib/python2.7/site-packages/sklearn/externals/joblib/parallel.pyc\u001b[0m in \u001b[0;36mretrieve\u001b[0;34m(self)\u001b[0m\n\u001b[1;32m    755\u001b[0m                     \u001b[0;31m# a working pool as they expect.\u001b[0m\u001b[0;34m\u001b[0m\u001b[0;34m\u001b[0m\u001b[0m\n\u001b[1;32m    756\u001b[0m                     \u001b[0mself\u001b[0m\u001b[0;34m.\u001b[0m\u001b[0m_initialize_pool\u001b[0m\u001b[0;34m(\u001b[0m\u001b[0;34m)\u001b[0m\u001b[0;34m\u001b[0m\u001b[0m\n\u001b[0;32m--> 757\u001b[0;31m                 \u001b[0;32mraise\u001b[0m \u001b[0mexception\u001b[0m\u001b[0;34m\u001b[0m\u001b[0m\n\u001b[0m\u001b[1;32m    758\u001b[0m \u001b[0;34m\u001b[0m\u001b[0m\n\u001b[1;32m    759\u001b[0m     \u001b[0;32mdef\u001b[0m \u001b[0m__call__\u001b[0m\u001b[0;34m(\u001b[0m\u001b[0mself\u001b[0m\u001b[0;34m,\u001b[0m \u001b[0miterable\u001b[0m\u001b[0;34m)\u001b[0m\u001b[0;34m:\u001b[0m\u001b[0;34m\u001b[0m\u001b[0m\n",
      "\u001b[0;31mKeyboardInterrupt\u001b[0m: "
     ]
    }
   ],
   "source": [
    "from sklearn.grid_search import GridSearchCV\n",
    "from sklearn.cross_validation import StratifiedShuffleSplit\n",
    "from sklearn.metrics import f1_score, make_scorer\n",
    "from xgboost import XGBClassifier as XGBC\n",
    "\n",
    "\n",
    "\n",
    "print '_'*20, 'Tuning XGBoost', '_'*20\n",
    "print \"Training the data\"\n",
    "\n",
    "\n",
    "# max_delta_step, Maximum delta step we allow each tree's weight estimation to be. \n",
    "# If the value is set to 0, it means there is no constraint. If it is set to a positive value, \n",
    "# it can help making the update step more conservative. Usually this parameter is not needed, \n",
    "# but it might help in logistic regression when class is extremely imbalanced. \n",
    "# Set it to value of 1-10 might help control the update\n",
    "\n",
    "cv_params = {\n",
    "             'n_estimators': range(100, 1100, 100),\n",
    "             'colsample_bylevel': [0.4, 0.6, 0.8, 1.0], \n",
    "             'colsample_bytree': [0.4, 0.6, 0.8, 1.0],\n",
    "             'learning_rate': [0.2222, 0.4444, 0.6666, 0.8888],\n",
    "             'max_depth': [4, 6, 8, 10],\n",
    "             'subsample': [0.5, 0.75, 1.0]}\n",
    "\n",
    "params = {}\n",
    "params['objective'] = 'binary:logistic'\n",
    "\n",
    "# Build a stratified shuffle object because of unbalanced data\n",
    "folds = 50\n",
    "ssscv = StratifiedShuffleSplit(y_train, folds, random_state = 42)\n",
    "\n",
    "# Make an appropriate scoring function\n",
    "scoring_function = make_scorer(f1_score)\n",
    "\n",
    "\n",
    "grid = GridSearchCV(XGBC(**params), \n",
    "                            cv_params, cv=ssscv, scoring=scoring_function, n_jobs = -1) \n",
    "grid.fit(X_train, y)\n"
   ]
  },
  {
   "cell_type": "code",
   "execution_count": null,
   "metadata": {
    "collapsed": false
   },
   "outputs": [],
   "source": [
    "model =  grid.best_estimator_\n",
    "print model"
   ]
  },
  {
   "cell_type": "code",
   "execution_count": null,
   "metadata": {
    "collapsed": false
   },
   "outputs": [],
   "source": [
    "print model\n",
    "\n",
    "kfold = StratifiedKFold(y, n_folds=50, random_state=7)\n",
    "results = cross_val_score(model, X, y, cv=kfold)\n",
    "print(\"Accuracy: %.2f%% (%.2f%%)\" % (results.mean()*100, results.std()*100)), '\\n'"
   ]
  },
  {
   "cell_type": "code",
   "execution_count": null,
   "metadata": {
    "collapsed": true
   },
   "outputs": [],
   "source": []
  }
 ],
 "metadata": {
  "kernelspec": {
   "display_name": "Python 2",
   "language": "python",
   "name": "python2"
  },
  "language_info": {
   "codemirror_mode": {
    "name": "ipython",
    "version": 2
   },
   "file_extension": ".py",
   "mimetype": "text/x-python",
   "name": "python",
   "nbconvert_exporter": "python",
   "pygments_lexer": "ipython2",
   "version": "2.7.12"
  }
 },
 "nbformat": 4,
 "nbformat_minor": 0
}
