{
 "cells": [
  {
   "cell_type": "markdown",
   "metadata": {},
   "source": [
    "# Task: Model the dynamics of gender in intro CS\n"
   ]
  },
  {
   "cell_type": "code",
   "execution_count": 33,
   "metadata": {
    "collapsed": false
   },
   "outputs": [
    {
     "name": "stdout",
     "output_type": "stream",
     "text": [
      "Populating the interactive namespace from numpy and matplotlib\n"
     ]
    }
   ],
   "source": [
    "%pylab inline"
   ]
  },
  {
   "cell_type": "code",
   "execution_count": 34,
   "metadata": {
    "collapsed": false
   },
   "outputs": [],
   "source": [
    "# Import libraries\n",
    "\n",
    "\n",
    "import sys\n",
    "sys.path.append('tools/')\n",
    "\n",
    "import numpy as np\n",
    "import pandas as pd\n",
    "import matplotlib.pyplot as pyplt\n",
    "import seaborn as sns\n",
    "import tools\n",
    "import inputData\n",
    "   \n",
    "plt.style.use('ggplot')"
   ]
  },
  {
   "cell_type": "markdown",
   "metadata": {},
   "source": [
    "## Exploring the Data\n",
    "\n",
    "Let's go ahead and read in the student dataset first.\n"
   ]
  },
  {
   "cell_type": "code",
   "execution_count": 35,
   "metadata": {
    "collapsed": false
   },
   "outputs": [],
   "source": [
    "dataset = inputData.preprocess()"
   ]
  },
  {
   "cell_type": "code",
   "execution_count": 36,
   "metadata": {
    "collapsed": false
   },
   "outputs": [
    {
     "name": "stdout",
     "output_type": "stream",
     "text": [
      "494 male students, and 388 female students consented to participate in this study\n"
     ]
    }
   ],
   "source": [
    "dataset = dataset.query('gender == \"Female\" or gender == \"Male\"')\n",
    "dataset = dataset.reset_index(drop=True)\n",
    "\n",
    "\n",
    "print '{:d}{:20}{:d}{:20}'.format(len(dataset.query('gender == \"Male\"')), ' male students, and ',\n",
    "                                  len(dataset.query('gender == \"Female\"')),\n",
    "                                  ' female students consented to participate in this study')\n",
    "                        "
   ]
  },
  {
   "cell_type": "markdown",
   "metadata": {},
   "source": [
    "#### Drop the columns that aren't needed for the model"
   ]
  },
  {
   "cell_type": "code",
   "execution_count": 37,
   "metadata": {
    "collapsed": false
   },
   "outputs": [],
   "source": [
    "columnsNotNeeded = ['timestamp', 'consent','name', 'name_1', 'name_2', \n",
    "                    'morecs','snap_python','hiphop_d1','hiphop_d2','song_ct', 'major'] \n",
    "dataset.drop(columnsNotNeeded, axis=1, inplace=True)\n",
    "                   "
   ]
  },
  {
   "cell_type": "markdown",
   "metadata": {},
   "source": [
    "## Preprocess Data\n",
    "\n",
    "### Preprocess feature columns\n",
    "To prepare our data for classification, we need to devise a scheme to transform all features into numeric data. This dataset as several non-numeric columns that need converting. Many of them are simply `yes`/`no`, e.g. `prcs_2`. We can reasonably convert these into `1`/`0` (binary) values. For the columns whose values are `Nan`, we will convert these to `0`. \n",
    "\n",
    "\n",
    "**Note**: These generated columns are sometimes called _dummy variables_, and we will use the [`pandas.get_dummies()`](http://pandas.pydata.org/pandas-docs/stable/generated/pandas.get_dummies.html?highlight=get_dummies#pandas.get_dummies) function to perform this transformation."
   ]
  },
  {
   "cell_type": "code",
   "execution_count": 38,
   "metadata": {
    "collapsed": false
   },
   "outputs": [],
   "source": [
    "# Preprocess feature columns\n",
    "def preprocess_features(X):\n",
    "    outX = pd.DataFrame(index=X.index)  # output dataframe, initially empty\n",
    "\n",
    "    # Check each column\n",
    "    for col, col_data in X.iteritems():\n",
    "        # If data type is non-numeric, try to replace all yes/no values with 1/0\n",
    "        if col_data.dtype == object:\n",
    "            col_data = col_data.replace(['Yes', 'No'], [1, 0])\n",
    "        # Note: This should change the data type for yes/no columns to int\n",
    "\n",
    "        # If still non-numeric, convert to one or more dummy variables\n",
    "        if col_data.dtype == object:\n",
    "            # e.g. 'reason' => 'reason_class_Interested' , 'reason_class_Other'\n",
    "            col_data = pd.get_dummies(col_data, prefix=col)\n",
    "\n",
    "        outX = outX.join(col_data)  # collect column(s) in output dataframe\n",
    "        outX.fillna(0, inplace=True) # make sure all NaN <missing> values are set to 0\n",
    "\n",
    "    return outX\n",
    "\n"
   ]
  },
  {
   "cell_type": "code",
   "execution_count": 39,
   "metadata": {
    "collapsed": false
   },
   "outputs": [
    {
     "name": "stdout",
     "output_type": "stream",
     "text": [
      "Processed feature columns (47):- ['atcs_1', 'atcs_2', 'atcs_3', 'atcs_4', 'atcs_5', 'atcs_6', 'atcs_7', 'atcs_8', 'atcs_9', 'atcsgender_1', 'atcsgender_2', 'atcsgender_3', 'atcsjob_1', 'atcsjob_2', 'atct_1', 'atct_2', 'atct_3', 'atct_4', 'atct_5', 'atct_6', 'atct_7', 'atct_8', 'blg_1', 'blg_2', 'blg_3', 'blg_4', 'classmtr', 'clet_1', 'clet_2', 'cltrcmp_1', 'cltrcmp_2', 'gender_Female', 'gender_Male', 'grade_B or above', 'grade_B or below', 'mtr_1', 'mtr_2', 'mtr_3', 'prcs_1', 'prcs_2', 'prcs_3', 'prcs_4', 'prcs_5', 'prepared', 'priorcs10', 'reason_class_Interested', 'reason_class_Other']\n"
     ]
    }
   ],
   "source": [
    "dataset = preprocess_features(dataset)\n",
    "print \"Processed feature columns ({}):- {}\".format(len(dataset.columns), list(dataset.columns))\n"
   ]
  },
  {
   "cell_type": "markdown",
   "metadata": {},
   "source": [
    "### Preprocess feature columns - Rename columns\n",
    "\n",
    "There are some columns that have spaces in their names, these makes it difficult for the tree plotting algorithms that we will be using later to graph these features. As a result, we will change these spaces to hypens."
   ]
  },
  {
   "cell_type": "code",
   "execution_count": 64,
   "metadata": {
    "collapsed": false
   },
   "outputs": [],
   "source": [
    "dataset.rename(columns = {'grade_B or above':'grade_B_or_above'}, inplace = True)\n",
    "dataset.rename(columns = {'grade_B or below':'grade_B_or_below'}, inplace = True)"
   ]
  },
  {
   "cell_type": "markdown",
   "metadata": {},
   "source": [
    "### Assign features to dimension\n",
    "\n",
    "We are assigning features to dimensions to support analysis and interpretability of the model.\n",
    "\n",
    "\n",
    "| Code|  Dimension|\n",
    "| ------------- |-------------|\n",
    "|atcs |Attitudes about CS competency.|\n",
    "|atcsgender |Attitudes about the role of gender in computer science.|\n",
    "|atct |Understanding of computational thinking.|\n",
    "|blg |Sense of belonging in the CS classroom.|\n",
    "|clet |Attitudes about social implications and ethics. |\n",
    "|cltrcmp |Understanding around cultural competency.|\n",
    "|mtr |Access to CS Mentors.|\n",
    "|prcs |Pre-Collegiate computer science awareness.|\n"
   ]
  },
  {
   "cell_type": "code",
   "execution_count": 67,
   "metadata": {
    "collapsed": true
   },
   "outputs": [],
   "source": [
    "atcs = ['atcs_1', 'atcs_2', 'atcs_3', 'atcs_4', 'atcs_5', \n",
    "        'atcs_6', 'atcs_7', 'atcs_8', 'atcs_9']# self reported attitude about CS competency\n",
    "atct = ['atct_1', 'atct_2', 'atct_3', 'atct_4', \n",
    "        'atct_5', 'atct_6', 'atct_7', 'atct_8'] # Self reported attitudes about computational thinking\n",
    "blg = ['blg_1', 'blg_2', 'blg_3', 'blg_4'] # Sense of belonging in the class room\n",
    "clet = ['clet_1', 'clet_2'] # Social implications and ethics\n",
    "gender = ['gender_Female', 'gender_Male' ]\n",
    "atcsgender = ['atcsgender_1','atcsgender_2','atcsgender_3'] \n",
    "atcsjob = ['atcsjob_1','atcsjob_2']\n",
    "clet = ['clet_1','clet_2']\n",
    "cltrcmp = ['cltrcmp_1','cltrcmp_2']\n",
    "mtr = ['mtr_1','mtr_2','mtr_3']\n",
    "prepared = ['prepared']\n",
    "\n",
    "itemDimensions = {}\n",
    "itemDimensions['atcs'] = atcs\n",
    "itemDimensions['atct'] = atct\n",
    "itemDimensions['blg'] = blg\n",
    "itemDimensions['gender'] = gender\n",
    "itemDimensions['atcsgender'] = atcsgender\n",
    "itemDimensions['atcsjob'] = atcsjob\n",
    "itemDimensions['clet'] = clet\n",
    "itemDimensions['cltrcmp'] = cltrcmp\n",
    "itemDimensions['mtr'] = mtr\n",
    "itemDimensions['prepared'] = prepared\n",
    "\n",
    "list_of_lists = [\n",
    "itemDimensions['atcs'], \n",
    "itemDimensions['blg'],\n",
    "itemDimensions['atct'],\n",
    "itemDimensions['gender'],\n",
    "itemDimensions['atcsgender'],\n",
    "itemDimensions['atcsjob'],\n",
    "itemDimensions['clet'],\n",
    "itemDimensions['cltrcmp'],\n",
    "itemDimensions['mtr'],   \n",
    "itemDimensions['prepared']\n",
    "]\n",
    "\n",
    "flattened = [val for sublist in list_of_lists for val in sublist]"
   ]
  },
  {
   "cell_type": "code",
   "execution_count": 68,
   "metadata": {
    "collapsed": false
   },
   "outputs": [
    {
     "name": "stdout",
     "output_type": "stream",
     "text": [
      "atct_1         I am good at solving a problem by thinking about similar problems I’ve solved before.\n",
      "atct_2         I have good research skills.\n",
      "atct_3         I am good at using online search tools.\n",
      "atct_4         I am persistent at solving puzzles or logic problems.\n",
      "atct_5         I know how to write computer programs\n",
      "atct_6         I am good at building things.\n",
      "atct_7         I’m good at ignoring irrelevant details to solve a problem.\n",
      "atct_8         I know how to write a computer program to solve a problem.\n",
      "atcsgender_1   Women are less capable of success in CS than men.\n",
      "atcsgender_2   Women are smarter than men.\n",
      "atcsgender_3   Men have better math and science abilities than women.\n",
      "atcs_1         I like to use computer science to solve problems.\n",
      "atcs_2         I can learn to understand computing concepts.\n",
      "atcs_3         I can achieve good grades (C or better) in computing courses.\n",
      "atcs_4         I do not like using computer science to solve problems.\n",
      "atcs_5         I am confident that I can solve problems by using computation\n",
      "atcs_6         The challenge of solving problems using computer science appeals to me.\n",
      "atcs_7         I am comfortable with learning computing concepts.\n",
      "atcs_8         I am confident about my abilities with regards to computer science.\n",
      "atcs_9         I do think I can learn to understand computing concepts.\n",
      "mtr_1          Before I came to UC Berkeley, I knew people who have careers in Computer Science.\n",
      "mtr_2          There are people with careers in Computer Science who look like me.\n",
      "mtr_3          I have role models within the Computer Science field that look like me.\n",
      "gender         Preprocessed feature, no description\n",
      "clet_1         I work well in teams.\n",
      "clet_2         I think about the ethical, legal, and social implications of computing.\n",
      "prepared       How prepared did you feel about this class before it started?\n",
      "cltrcmp_1      I am comfortable interacting with peers from different backgrounds than my own (based on race, sexuality, income, and so on.)\n",
      "cltrcmp_2      I have good cultural competence, or the ability to interact effectively with people from diverse backgrounds.\n",
      "atcsjob_1      Knowledge of computing will allow me to secure a good job.\n",
      "atcsjob_2      My career goals do not require that I learn computing skills.\n",
      "blg_1          In this class, I feel I belong.\n",
      "blg_2          In this class, I feel awkward and out of place.\n",
      "blg_3          In this class, I feel like my ideas count.\n",
      "blg_4          In this class, I feel like I matter.\n"
     ]
    }
   ],
   "source": [
    "for key in itemDimensions:\n",
    "    try:\n",
    "        inputData.describeData(itemDimensions[key])\n",
    "    except:\n",
    "        print\"{:15}{:20}\".format(key, 'Preprocessed feature, no description')"
   ]
  },
  {
   "cell_type": "markdown",
   "metadata": {},
   "source": [
    "### Scaling\n",
    "Linearly scale each attribute to the range [0, 1].\n",
    "\n"
   ]
  },
  {
   "cell_type": "code",
   "execution_count": 69,
   "metadata": {
    "collapsed": false
   },
   "outputs": [
    {
     "data": {
      "text/html": [
       "<div>\n",
       "<table border=\"1\" class=\"dataframe\">\n",
       "  <thead>\n",
       "    <tr style=\"text-align: right;\">\n",
       "      <th></th>\n",
       "      <th>atcs_1</th>\n",
       "      <th>atcs_2</th>\n",
       "      <th>atcs_3</th>\n",
       "      <th>atcs_4</th>\n",
       "      <th>atcs_5</th>\n",
       "      <th>atcs_6</th>\n",
       "      <th>atcs_7</th>\n",
       "      <th>atcs_8</th>\n",
       "      <th>atcs_9</th>\n",
       "      <th>atcsgender_1</th>\n",
       "      <th>...</th>\n",
       "      <th>mtr_3</th>\n",
       "      <th>prcs_1</th>\n",
       "      <th>prcs_2</th>\n",
       "      <th>prcs_3</th>\n",
       "      <th>prcs_4</th>\n",
       "      <th>prcs_5</th>\n",
       "      <th>prepared</th>\n",
       "      <th>priorcs10</th>\n",
       "      <th>reason_class_Interested</th>\n",
       "      <th>reason_class_Other</th>\n",
       "    </tr>\n",
       "  </thead>\n",
       "  <tbody>\n",
       "    <tr>\n",
       "      <th>877</th>\n",
       "      <td>1.00</td>\n",
       "      <td>1.00</td>\n",
       "      <td>1.00</td>\n",
       "      <td>0.00</td>\n",
       "      <td>1.00</td>\n",
       "      <td>1.00</td>\n",
       "      <td>1.00</td>\n",
       "      <td>1.00</td>\n",
       "      <td>1.00</td>\n",
       "      <td>0.0</td>\n",
       "      <td>...</td>\n",
       "      <td>1.0</td>\n",
       "      <td>1.0</td>\n",
       "      <td>1.0</td>\n",
       "      <td>1.0</td>\n",
       "      <td>1.0</td>\n",
       "      <td>1.0</td>\n",
       "      <td>1.00</td>\n",
       "      <td>0.0</td>\n",
       "      <td>1.0</td>\n",
       "      <td>0.0</td>\n",
       "    </tr>\n",
       "    <tr>\n",
       "      <th>878</th>\n",
       "      <td>0.00</td>\n",
       "      <td>0.50</td>\n",
       "      <td>0.25</td>\n",
       "      <td>1.00</td>\n",
       "      <td>0.00</td>\n",
       "      <td>0.00</td>\n",
       "      <td>0.00</td>\n",
       "      <td>0.00</td>\n",
       "      <td>0.00</td>\n",
       "      <td>0.0</td>\n",
       "      <td>...</td>\n",
       "      <td>0.0</td>\n",
       "      <td>0.0</td>\n",
       "      <td>0.0</td>\n",
       "      <td>0.0</td>\n",
       "      <td>0.0</td>\n",
       "      <td>0.0</td>\n",
       "      <td>0.00</td>\n",
       "      <td>0.0</td>\n",
       "      <td>0.0</td>\n",
       "      <td>1.0</td>\n",
       "    </tr>\n",
       "    <tr>\n",
       "      <th>879</th>\n",
       "      <td>1.00</td>\n",
       "      <td>1.00</td>\n",
       "      <td>1.00</td>\n",
       "      <td>0.25</td>\n",
       "      <td>0.75</td>\n",
       "      <td>1.00</td>\n",
       "      <td>1.00</td>\n",
       "      <td>0.75</td>\n",
       "      <td>1.00</td>\n",
       "      <td>0.0</td>\n",
       "      <td>...</td>\n",
       "      <td>0.0</td>\n",
       "      <td>1.0</td>\n",
       "      <td>1.0</td>\n",
       "      <td>0.0</td>\n",
       "      <td>1.0</td>\n",
       "      <td>1.0</td>\n",
       "      <td>1.00</td>\n",
       "      <td>0.0</td>\n",
       "      <td>0.0</td>\n",
       "      <td>0.0</td>\n",
       "    </tr>\n",
       "    <tr>\n",
       "      <th>880</th>\n",
       "      <td>1.00</td>\n",
       "      <td>1.00</td>\n",
       "      <td>0.75</td>\n",
       "      <td>0.25</td>\n",
       "      <td>0.50</td>\n",
       "      <td>0.75</td>\n",
       "      <td>0.50</td>\n",
       "      <td>0.50</td>\n",
       "      <td>0.75</td>\n",
       "      <td>0.0</td>\n",
       "      <td>...</td>\n",
       "      <td>0.0</td>\n",
       "      <td>0.0</td>\n",
       "      <td>0.0</td>\n",
       "      <td>0.0</td>\n",
       "      <td>0.0</td>\n",
       "      <td>0.0</td>\n",
       "      <td>0.00</td>\n",
       "      <td>0.0</td>\n",
       "      <td>1.0</td>\n",
       "      <td>0.0</td>\n",
       "    </tr>\n",
       "    <tr>\n",
       "      <th>881</th>\n",
       "      <td>0.75</td>\n",
       "      <td>0.75</td>\n",
       "      <td>0.50</td>\n",
       "      <td>0.25</td>\n",
       "      <td>0.25</td>\n",
       "      <td>1.00</td>\n",
       "      <td>0.75</td>\n",
       "      <td>0.50</td>\n",
       "      <td>1.00</td>\n",
       "      <td>0.0</td>\n",
       "      <td>...</td>\n",
       "      <td>0.0</td>\n",
       "      <td>0.0</td>\n",
       "      <td>0.0</td>\n",
       "      <td>0.0</td>\n",
       "      <td>0.0</td>\n",
       "      <td>1.0</td>\n",
       "      <td>0.25</td>\n",
       "      <td>0.0</td>\n",
       "      <td>1.0</td>\n",
       "      <td>0.0</td>\n",
       "    </tr>\n",
       "  </tbody>\n",
       "</table>\n",
       "<p>5 rows × 47 columns</p>\n",
       "</div>"
      ],
      "text/plain": [
       "     atcs_1  atcs_2  atcs_3  atcs_4  atcs_5  atcs_6  atcs_7  atcs_8  atcs_9  \\\n",
       "877    1.00    1.00    1.00    0.00    1.00    1.00    1.00    1.00    1.00   \n",
       "878    0.00    0.50    0.25    1.00    0.00    0.00    0.00    0.00    0.00   \n",
       "879    1.00    1.00    1.00    0.25    0.75    1.00    1.00    0.75    1.00   \n",
       "880    1.00    1.00    0.75    0.25    0.50    0.75    0.50    0.50    0.75   \n",
       "881    0.75    0.75    0.50    0.25    0.25    1.00    0.75    0.50    1.00   \n",
       "\n",
       "     atcsgender_1         ...          mtr_3  prcs_1  prcs_2  prcs_3  prcs_4  \\\n",
       "877           0.0         ...            1.0     1.0     1.0     1.0     1.0   \n",
       "878           0.0         ...            0.0     0.0     0.0     0.0     0.0   \n",
       "879           0.0         ...            0.0     1.0     1.0     0.0     1.0   \n",
       "880           0.0         ...            0.0     0.0     0.0     0.0     0.0   \n",
       "881           0.0         ...            0.0     0.0     0.0     0.0     0.0   \n",
       "\n",
       "     prcs_5  prepared  priorcs10  reason_class_Interested  reason_class_Other  \n",
       "877     1.0      1.00        0.0                      1.0                 0.0  \n",
       "878     0.0      0.00        0.0                      0.0                 1.0  \n",
       "879     1.0      1.00        0.0                      0.0                 0.0  \n",
       "880     0.0      0.00        0.0                      1.0                 0.0  \n",
       "881     1.0      0.25        0.0                      1.0                 0.0  \n",
       "\n",
       "[5 rows x 47 columns]"
      ]
     },
     "execution_count": 69,
     "metadata": {},
     "output_type": "execute_result"
    }
   ],
   "source": [
    "from sklearn.preprocessing import MinMaxScaler\n",
    "\n",
    "scaler = MinMaxScaler()\n",
    "\n",
    "df_scaled = pd.DataFrame(scaler.fit_transform(dataset), columns=dataset.columns)\n",
    "dataset = df_scaled\n",
    "dataset.tail()\n"
   ]
  },
  {
   "cell_type": "markdown",
   "metadata": {},
   "source": [
    "### Extract features and labels \n",
    "\n",
    "Extract feature (X) and target (y) columns"
   ]
  },
  {
   "cell_type": "code",
   "execution_count": 70,
   "metadata": {
    "collapsed": false
   },
   "outputs": [
    {
     "name": "stdout",
     "output_type": "stream",
     "text": [
      "\n",
      "Label values:-\n",
      "0    1.0\n",
      "1    1.0\n",
      "2    1.0\n",
      "3    1.0\n",
      "4    1.0\n",
      "Name: gender_Female, dtype: float64\n"
     ]
    }
   ],
   "source": [
    "target_col = dataset['gender_Female']  #  column is the target/label \n",
    "y = target_col  # corresponding targets/labels\n",
    "\n",
    "print \"\\nLabel values:-\"\n",
    "print y.head()  "
   ]
  },
  {
   "cell_type": "code",
   "execution_count": 71,
   "metadata": {
    "collapsed": false
   },
   "outputs": [
    {
     "name": "stdout",
     "output_type": "stream",
     "text": [
      "\n",
      "Feature values:-\n",
      "   atcs_1  atcs_2  atcs_3  atcs_4  atcs_5  atcs_6  atcs_7  atcs_8  atcs_9  \\\n",
      "0     0.5    0.75    1.00    0.50    0.75    0.75    0.75    0.50    0.75   \n",
      "1     0.0    0.00    0.00    1.00    0.00    0.00    0.00    0.00    0.25   \n",
      "2     1.0    1.00    1.00    0.00    1.00    1.00    1.00    1.00    1.00   \n",
      "3     1.0    0.75    0.75    0.00    0.75    0.75    0.75    1.00    1.00   \n",
      "4     0.5    0.50    0.75    0.25    0.50    0.75    1.00    0.25    0.75   \n",
      "\n",
      "   atcsgender_1         ...          mtr_3  prcs_1  prcs_2  prcs_3  prcs_4  \\\n",
      "0           0.0         ...            0.0     0.0     0.0     0.0     0.0   \n",
      "1           0.0         ...            0.0     0.0     0.0     1.0     1.0   \n",
      "2           0.0         ...            1.0     0.0     0.0     0.0     0.0   \n",
      "3           0.0         ...            0.0     0.0     0.0     0.0     0.0   \n",
      "4           0.0         ...            0.0     0.0     0.0     0.0     0.0   \n",
      "\n",
      "   prcs_5  prepared  priorcs10  reason_class_Interested  reason_class_Other  \n",
      "0     1.0      0.50        0.0                      1.0                 0.0  \n",
      "1     0.0      0.25        0.0                      1.0                 0.0  \n",
      "2     1.0      0.50        0.0                      1.0                 0.0  \n",
      "3     1.0      0.75        0.0                      1.0                 0.0  \n",
      "4     0.0      0.50        0.0                      1.0                 0.0  \n",
      "\n",
      "[5 rows x 45 columns]\n"
     ]
    }
   ],
   "source": [
    "X = dataset.drop(['gender_Female', 'gender_Male'], axis=1, inplace=False)\n",
    "\n",
    "print \"\\nFeature values:-\"\n",
    "print X.head()  "
   ]
  },
  {
   "cell_type": "code",
   "execution_count": 74,
   "metadata": {
    "collapsed": false
   },
   "outputs": [
    {
     "name": "stdout",
     "output_type": "stream",
     "text": [
      "Feature column(s):- ['atcs_1', 'atcs_2', 'atcs_3', 'atcs_4', 'atcs_5', 'atcs_6', 'atcs_7', 'atcs_8', 'atcs_9', 'atcsgender_1', 'atcsgender_2', 'atcsgender_3', 'atcsjob_1', 'atcsjob_2', 'atct_1', 'atct_2', 'atct_3', 'atct_4', 'atct_5', 'atct_6', 'atct_7', 'atct_8', 'blg_1', 'blg_2', 'blg_3', 'blg_4', 'classmtr', 'clet_1', 'clet_2', 'cltrcmp_1', 'cltrcmp_2', 'grade_B_or_above', 'grade_B_or_below', 'mtr_1', 'mtr_2', 'mtr_3', 'prcs_1', 'prcs_2', 'prcs_3', 'prcs_4', 'prcs_5', 'prepared', 'priorcs10', 'reason_class_Interested', 'reason_class_Other']\n"
     ]
    }
   ],
   "source": [
    "## Make sure we drop the target from the table, otherwise we will be including the labeled data\n",
    "\n",
    "print \"Feature column(s):-\", list(X)"
   ]
  },
  {
   "cell_type": "markdown",
   "metadata": {},
   "source": [
    "### Determine if classes are balanced\n",
    "- As we can see the dataset is unbalanced, we have more males than females.\n",
    "\n",
    "\n"
   ]
  },
  {
   "cell_type": "code",
   "execution_count": 75,
   "metadata": {
    "collapsed": false
   },
   "outputs": [
    {
     "data": {
      "image/png": "[encoded data removed]",
      "text/plain": [
       "<matplotlib.figure.Figure at 0x11a601ad0>"
      ]
     },
     "metadata": {},
     "output_type": "display_data"
    }
   ],
   "source": [
    "y.plot.hist()\n",
    "\n",
    "_= pyplt.xlabel('Value')\n",
    "_= pyplt.title('Histogram of y_all')\n",
    "_= pyplt.legend(loc='upper center', shadow=True, fontsize='medium')\n",
    "_= pyplt.yticks(np.arange(0, 1000, 100))\n"
   ]
  },
  {
   "cell_type": "markdown",
   "metadata": {},
   "source": [
    "## Feature Transformation\n",
    "We will use principal component analysis (PCA) to draw conclusions about the underlying structure of the data. Since using PCA on a dataset calculates the dimensions which best maximize variance, we will find which compound combinations of features best describe students."
   ]
  },
  {
   "cell_type": "code",
   "execution_count": 91,
   "metadata": {
    "collapsed": false
   },
   "outputs": [],
   "source": [
    "# TODO: Apply PCA by fitting the good data with the same number of dimensions as features\n",
    "from sklearn.decomposition import PCA\n",
    "\n",
    "pca_data = dataset.drop(['gender_Female', 'gender_Male'], axis=1, inplace=False)\n",
    "\n",
    "pca = PCA(n_components=30)\n",
    "pca.fit(pca_data)\n",
    "\n",
    "# Generate PCA results plot\n",
    "pca_results = tools.pca_results(pca_data, pca)"
   ]
  },
  {
   "cell_type": "code",
   "execution_count": 98,
   "metadata": {
    "collapsed": false
   },
   "outputs": [
    {
     "data": {
      "image/png": "[encoded data removed]",
      "text/plain": [
       "<matplotlib.figure.Figure at 0x1198dd850>"
      ]
     },
     "metadata": {},
     "output_type": "display_data"
    }
   ],
   "source": [
    "#Explained variance\n",
    "plt.plot(np.cumsum(pca.explained_variance_ratio_))\n",
    "plt.title('Explained Variance v. Number of Principal Components')\n",
    "plt.xlabel('number of components')\n",
    "plt.ylabel('cumulative explained variance')\n",
    "plt.show()"
   ]
  },
  {
   "cell_type": "code",
   "execution_count": 99,
   "metadata": {
    "collapsed": false
   },
   "outputs": [
    {
     "name": "stdout",
     "output_type": "stream",
     "text": [
      "Projecting the input data on the eigenfaces orthonormal basis\n"
     ]
    }
   ],
   "source": [
    "\n",
    "print(\"Projecting the input data on the eigenfaces orthonormal basis\")\n",
    "X_all_pca = pca.transform(X)"
   ]
  },
  {
   "cell_type": "code",
   "execution_count": 100,
   "metadata": {
    "collapsed": false
   },
   "outputs": [
    {
     "data": {
      "text/html": [
       "<div>\n",
       "<table border=\"1\" class=\"dataframe\">\n",
       "  <thead>\n",
       "    <tr style=\"text-align: right;\">\n",
       "      <th></th>\n",
       "      <th>0</th>\n",
       "      <th>1</th>\n",
       "      <th>2</th>\n",
       "      <th>3</th>\n",
       "      <th>4</th>\n",
       "      <th>5</th>\n",
       "      <th>6</th>\n",
       "      <th>7</th>\n",
       "      <th>8</th>\n",
       "      <th>9</th>\n",
       "      <th>...</th>\n",
       "      <th>20</th>\n",
       "      <th>21</th>\n",
       "      <th>22</th>\n",
       "      <th>23</th>\n",
       "      <th>24</th>\n",
       "      <th>25</th>\n",
       "      <th>26</th>\n",
       "      <th>27</th>\n",
       "      <th>28</th>\n",
       "      <th>29</th>\n",
       "    </tr>\n",
       "  </thead>\n",
       "  <tbody>\n",
       "    <tr>\n",
       "      <th>0</th>\n",
       "      <td>-0.283988</td>\n",
       "      <td>0.602065</td>\n",
       "      <td>0.231407</td>\n",
       "      <td>0.269141</td>\n",
       "      <td>-0.544365</td>\n",
       "      <td>-0.350190</td>\n",
       "      <td>-0.301541</td>\n",
       "      <td>0.398808</td>\n",
       "      <td>-0.419712</td>\n",
       "      <td>-0.102590</td>\n",
       "      <td>...</td>\n",
       "      <td>0.067466</td>\n",
       "      <td>0.259376</td>\n",
       "      <td>0.164288</td>\n",
       "      <td>-0.142760</td>\n",
       "      <td>-0.139438</td>\n",
       "      <td>0.196345</td>\n",
       "      <td>-0.089550</td>\n",
       "      <td>0.050771</td>\n",
       "      <td>0.146434</td>\n",
       "      <td>-0.198420</td>\n",
       "    </tr>\n",
       "    <tr>\n",
       "      <th>1</th>\n",
       "      <td>-2.041676</td>\n",
       "      <td>-1.728263</td>\n",
       "      <td>-0.808885</td>\n",
       "      <td>0.588871</td>\n",
       "      <td>0.102232</td>\n",
       "      <td>-0.152583</td>\n",
       "      <td>-0.071919</td>\n",
       "      <td>0.214450</td>\n",
       "      <td>0.073262</td>\n",
       "      <td>0.972527</td>\n",
       "      <td>...</td>\n",
       "      <td>-0.125696</td>\n",
       "      <td>0.082632</td>\n",
       "      <td>0.040986</td>\n",
       "      <td>-0.251040</td>\n",
       "      <td>-0.456159</td>\n",
       "      <td>0.056429</td>\n",
       "      <td>-0.103149</td>\n",
       "      <td>0.184437</td>\n",
       "      <td>-0.031431</td>\n",
       "      <td>-0.028688</td>\n",
       "    </tr>\n",
       "    <tr>\n",
       "      <th>2</th>\n",
       "      <td>0.702112</td>\n",
       "      <td>0.529915</td>\n",
       "      <td>-0.169924</td>\n",
       "      <td>-0.435184</td>\n",
       "      <td>-0.497054</td>\n",
       "      <td>0.020241</td>\n",
       "      <td>-0.532803</td>\n",
       "      <td>-0.413040</td>\n",
       "      <td>-0.191862</td>\n",
       "      <td>-0.341198</td>\n",
       "      <td>...</td>\n",
       "      <td>0.012752</td>\n",
       "      <td>0.102812</td>\n",
       "      <td>0.142873</td>\n",
       "      <td>-0.099680</td>\n",
       "      <td>-0.067507</td>\n",
       "      <td>0.020835</td>\n",
       "      <td>-0.174881</td>\n",
       "      <td>-0.007657</td>\n",
       "      <td>0.043105</td>\n",
       "      <td>-0.145660</td>\n",
       "    </tr>\n",
       "    <tr>\n",
       "      <th>3</th>\n",
       "      <td>0.303765</td>\n",
       "      <td>0.539674</td>\n",
       "      <td>0.212410</td>\n",
       "      <td>-0.012033</td>\n",
       "      <td>-0.307927</td>\n",
       "      <td>-0.282533</td>\n",
       "      <td>-0.684295</td>\n",
       "      <td>-0.254364</td>\n",
       "      <td>0.163406</td>\n",
       "      <td>0.091393</td>\n",
       "      <td>...</td>\n",
       "      <td>0.369140</td>\n",
       "      <td>0.110583</td>\n",
       "      <td>-0.347221</td>\n",
       "      <td>0.138297</td>\n",
       "      <td>-0.280120</td>\n",
       "      <td>0.084332</td>\n",
       "      <td>-0.353381</td>\n",
       "      <td>0.052844</td>\n",
       "      <td>-0.069822</td>\n",
       "      <td>-0.142150</td>\n",
       "    </tr>\n",
       "    <tr>\n",
       "      <th>4</th>\n",
       "      <td>-0.916082</td>\n",
       "      <td>0.962346</td>\n",
       "      <td>0.136683</td>\n",
       "      <td>0.431457</td>\n",
       "      <td>0.076723</td>\n",
       "      <td>-0.168180</td>\n",
       "      <td>-0.155723</td>\n",
       "      <td>0.243797</td>\n",
       "      <td>-0.277519</td>\n",
       "      <td>0.261950</td>\n",
       "      <td>...</td>\n",
       "      <td>-0.052698</td>\n",
       "      <td>0.374943</td>\n",
       "      <td>0.021807</td>\n",
       "      <td>-0.169601</td>\n",
       "      <td>0.400790</td>\n",
       "      <td>0.168901</td>\n",
       "      <td>-0.201345</td>\n",
       "      <td>-0.091608</td>\n",
       "      <td>-0.256258</td>\n",
       "      <td>0.089369</td>\n",
       "    </tr>\n",
       "  </tbody>\n",
       "</table>\n",
       "<p>5 rows × 30 columns</p>\n",
       "</div>"
      ],
      "text/plain": [
       "         0         1         2         3         4         5         6   \\\n",
       "0 -0.283988  0.602065  0.231407  0.269141 -0.544365 -0.350190 -0.301541   \n",
       "1 -2.041676 -1.728263 -0.808885  0.588871  0.102232 -0.152583 -0.071919   \n",
       "2  0.702112  0.529915 -0.169924 -0.435184 -0.497054  0.020241 -0.532803   \n",
       "3  0.303765  0.539674  0.212410 -0.012033 -0.307927 -0.282533 -0.684295   \n",
       "4 -0.916082  0.962346  0.136683  0.431457  0.076723 -0.168180 -0.155723   \n",
       "\n",
       "         7         8         9     ...           20        21        22  \\\n",
       "0  0.398808 -0.419712 -0.102590    ...     0.067466  0.259376  0.164288   \n",
       "1  0.214450  0.073262  0.972527    ...    -0.125696  0.082632  0.040986   \n",
       "2 -0.413040 -0.191862 -0.341198    ...     0.012752  0.102812  0.142873   \n",
       "3 -0.254364  0.163406  0.091393    ...     0.369140  0.110583 -0.347221   \n",
       "4  0.243797 -0.277519  0.261950    ...    -0.052698  0.374943  0.021807   \n",
       "\n",
       "         23        24        25        26        27        28        29  \n",
       "0 -0.142760 -0.139438  0.196345 -0.089550  0.050771  0.146434 -0.198420  \n",
       "1 -0.251040 -0.456159  0.056429 -0.103149  0.184437 -0.031431 -0.028688  \n",
       "2 -0.099680 -0.067507  0.020835 -0.174881 -0.007657  0.043105 -0.145660  \n",
       "3  0.138297 -0.280120  0.084332 -0.353381  0.052844 -0.069822 -0.142150  \n",
       "4 -0.169601  0.400790  0.168901 -0.201345 -0.091608 -0.256258  0.089369  \n",
       "\n",
       "[5 rows x 30 columns]"
      ]
     },
     "execution_count": 100,
     "metadata": {},
     "output_type": "execute_result"
    }
   ],
   "source": [
    "X_all_pca = pd.DataFrame(X_all_pca)\n",
    "#X_all_pca.columns = ['pca_1', 'pca_2', 'pca_3']\n",
    "X_all_pca.head()"
   ]
  },
  {
   "cell_type": "code",
   "execution_count": 101,
   "metadata": {
    "collapsed": false
   },
   "outputs": [],
   "source": [
    "# First, decide how many training vs test samples you want\n",
    "num_all = X.shape[0]  # same as len(student_data)\n",
    "num_train = 662  # about 75% of the data\n",
    "num_test = num_all - num_train"
   ]
  },
  {
   "cell_type": "code",
   "execution_count": 102,
   "metadata": {
    "collapsed": false
   },
   "outputs": [
    {
     "data": {
      "text/plain": [
       "662"
      ]
     },
     "execution_count": 102,
     "metadata": {},
     "output_type": "execute_result"
    }
   ],
   "source": [
    "num_train"
   ]
  },
  {
   "cell_type": "code",
   "execution_count": 103,
   "metadata": {
    "collapsed": false
   },
   "outputs": [],
   "source": [
    "from sklearn import cross_validation\n",
    "\n",
    "\n",
    "\n",
    "def shuffle_split_data(X, y):\n",
    "    \"\"\" Shuffles and splits data into 75% training and 25% testing subsets,\n",
    "        then returns the training and testing subsets. \"\"\"\n",
    "    X_train, X_test, y_train, y_test = cross_validation.train_test_split(X, y, \n",
    "                                                                        train_size=num_train, random_state=42)\n",
    "    \n",
    "    \n",
    "    \n",
    "\n",
    "\n",
    "    # Return the training and testing data subsets\n",
    "    return X_train, y_train, X_test, y_test"
   ]
  },
  {
   "cell_type": "code",
   "execution_count": 104,
   "metadata": {
    "collapsed": false
   },
   "outputs": [
    {
     "name": "stdout",
     "output_type": "stream",
     "text": [
      "Successfully shuffled and split the data!\n",
      "Training set: 662 samples\n",
      "Test set: 220 samples\n"
     ]
    }
   ],
   "source": [
    "try:\n",
    "    X_train, y_train, X_test, y_test = shuffle_split_data(X, y)\n",
    "    print \"Successfully shuffled and split the data!\"\n",
    "except:\n",
    "    print \"Something went wrong with shuffling and splitting the data.\"\n",
    "\n",
    "\n",
    "print \"Training set: {} samples\".format(X_train.shape[0])\n",
    "print \"Test set: {} samples\".format(X_test.shape[0])\n",
    "# Note: If you need a validation set, extract it from within training data"
   ]
  },
  {
   "cell_type": "markdown",
   "metadata": {},
   "source": [
    "## Modeling and Validating\n",
    "\n",
    "\n"
   ]
  },
  {
   "cell_type": "markdown",
   "metadata": {},
   "source": [
    "I have created four separate tranches to investigate the data:\n",
    "- All features\n",
    "- PCA transformed features\n",
    "- A reduced dataset of features\n",
    "- All features with the exception of gendered features removed"
   ]
  },
  {
   "cell_type": "markdown",
   "metadata": {},
   "source": [
    "## Train on all features"
   ]
  },
  {
   "cell_type": "code",
   "execution_count": 123,
   "metadata": {
    "collapsed": false
   },
   "outputs": [],
   "source": [
    "X = X_train"
   ]
  },
  {
   "cell_type": "code",
   "execution_count": 112,
   "metadata": {
    "collapsed": false
   },
   "outputs": [],
   "source": [
    "\n",
    "import xgboost as xgb\n",
    "from xgboost import XGBClassifier\n",
    "from sklearn import tree\n",
    "from sklearn import svm\n",
    "from sklearn.ensemble import RandomForestClassifier\n",
    "from sklearn.metrics import accuracy_score, precision_score, recall_score\n",
    "from sklearn.cross_validation import StratifiedKFold\n",
    "from sklearn.cross_validation import cross_val_score\n",
    "\n",
    "\n",
    "models = {\n",
    "          'XGBoost': XGBClassifier(),\n",
    "          'DecisionTree': tree.DecisionTreeClassifier(),\n",
    "          'SVC': svm.SVC(),\n",
    "          'RandomForest': RandomForestClassifier()\n",
    "         }\n"
   ]
  },
  {
   "cell_type": "code",
   "execution_count": 122,
   "metadata": {
    "collapsed": false
   },
   "outputs": [
    {
     "name": "stdout",
     "output_type": "stream",
     "text": [
      "RandomForest\n",
      "Training data accuracy: 63.92% (14.41%) \n",
      "\n",
      "DecisionTree\n",
      "Training data accuracy: 58.70% (10.88%) \n",
      "\n",
      "XGBoost\n",
      "Training data accuracy: 67.95% (11.20%) \n",
      "\n",
      "SVC\n",
      "Training data accuracy: 68.14% (11.05%) \n",
      "\n"
     ]
    }
   ],
   "source": [
    "for model_name, model in models.iteritems():\n",
    "    print model_name\n",
    "    kfold = StratifiedKFold(y_train, n_folds=50, random_state=7)\n",
    "    results = cross_val_score(model, X, y_train, cv=kfold)\n",
    "    print(\"Training data accuracy: %.2f%% (%.2f%%)\" % (results.mean()*100, results.std()*100)), '\\n'\n",
    "   "
   ]
  },
  {
   "cell_type": "markdown",
   "metadata": {},
   "source": [
    "### Predict "
   ]
  },
  {
   "cell_type": "code",
   "execution_count": 125,
   "metadata": {
    "collapsed": false
   },
   "outputs": [
    {
     "name": "stdout",
     "output_type": "stream",
     "text": [
      "RandomForest\n",
      "Testing data prediction accuracy: 64.09% \n",
      "\n",
      "DecisionTree\n",
      "Testing data prediction accuracy: 60.00% \n",
      "\n",
      "XGBoost\n",
      "Testing data prediction accuracy: 72.27% \n",
      "\n",
      "SVC\n",
      "Testing data prediction accuracy: 64.55% \n",
      "\n"
     ]
    }
   ],
   "source": [
    "Features_test = X_test\n",
    "\n",
    "for model_name, model in models.iteritems():\n",
    "    print model_name\n",
    "    # make predictions for test data\n",
    "    model.fit(X, y_train)\n",
    "    y_pred = model.predict(Features_test)\n",
    "    predictions = [round(value) for value in y_pred]\n",
    "    # evaluate predictions\n",
    "    accuracy = accuracy_score(y_test, predictions)\n",
    "    print(\"Testing data prediction accuracy: %.2f%%\" % (accuracy * 100.0)), '\\n'"
   ]
  },
  {
   "cell_type": "markdown",
   "metadata": {},
   "source": [
    "#### Generate Features from XGBoost classifier "
   ]
  },
  {
   "cell_type": "code",
   "execution_count": 126,
   "metadata": {
    "collapsed": false
   },
   "outputs": [
    {
     "data": {
      "image/png": "[encoded data removed]",
      "text/plain": [
       "<matplotlib.figure.Figure at 0x11fc81650>"
      ]
     },
     "metadata": {},
     "output_type": "display_data"
    }
   ],
   "source": [
    "# plot feature importance\n",
    "from xgboost import plot_importance\n",
    "\n",
    "model = XGBClassifier()\n",
    "model.fit(X, y_train)\n",
    "plot_importance(model)\n",
    "pyplot.show()"
   ]
  },
  {
   "cell_type": "code",
   "execution_count": 116,
   "metadata": {
    "collapsed": false
   },
   "outputs": [
    {
     "data": {
      "text/plain": [
       "'report/figures/X_graph.gv.pdf'"
      ]
     },
     "execution_count": 116,
     "metadata": {},
     "output_type": "execute_result"
    }
   ],
   "source": [
    "model.fit(X, y_train)\n",
    "g = xgb.to_graphviz(model, rankdir='LR')\n",
    "g.render('report/figures/X_graph.gv', view=True)\n",
    "    "
   ]
  },
  {
   "cell_type": "markdown",
   "metadata": {},
   "source": [
    "## Train on a reduced set of features"
   ]
  },
  {
   "cell_type": "code",
   "execution_count": 127,
   "metadata": {
    "collapsed": false
   },
   "outputs": [
    {
     "name": "stdout",
     "output_type": "stream",
     "text": [
      "\n",
      "Feature values:-\n",
      "     atcsgender_2  atcsgender_3  atcs_1  atcs_8  cltrcmp_2  atcsjob_2  clet_2  \\\n",
      "292           0.0          0.00    1.00    0.50       1.00       0.00    0.75   \n",
      "596           0.5          0.25    0.75    0.75       0.75       0.75    0.50   \n",
      "516           0.0          0.25    1.00    0.75       0.50       0.00    0.00   \n",
      "447           0.0          0.25    0.75    0.75       1.00       0.00    0.50   \n",
      "813           0.0          0.00    1.00    0.75       1.00       0.75    0.75   \n",
      "\n",
      "     atct_3  blg_1  atcsgender_1  \n",
      "292    1.00   0.75           0.0  \n",
      "596    0.75   0.75           0.0  \n",
      "516    0.75   0.75           0.0  \n",
      "447    0.75   1.00           0.0  \n",
      "813    0.50   0.50           0.0  \n"
     ]
    }
   ],
   "source": [
    "# Extract feature (X) and target (y) columns\n",
    "\n",
    "\n",
    "X_all_Reduced = X_train[[ \n",
    "                'atcsgender_2', 'atcsgender_3', \n",
    "                'atcs_1', 'atcs_8',\n",
    "                'cltrcmp_2', 'atcsjob_2', 'clet_2', 'atct_3',\n",
    "                'blg_1', 'atcsgender_1']]\n",
    "\n",
    "\n",
    "print \"\\nFeature values:-\"\n",
    "print X_all_Reduced.head()  "
   ]
  },
  {
   "cell_type": "code",
   "execution_count": 128,
   "metadata": {
    "collapsed": false
   },
   "outputs": [
    {
     "name": "stdout",
     "output_type": "stream",
     "text": [
      "RandomForest\n",
      "Accuracy: 66.16% (11.39%) \n",
      "\n",
      "DecisionTree\n",
      "Accuracy: 59.05% (12.04%) \n",
      "\n",
      "XGBoost\n",
      "Accuracy: 67.12% (11.08%) \n",
      "\n",
      "SVC\n",
      "Accuracy: 68.31% (11.79%) \n",
      "\n"
     ]
    }
   ],
   "source": [
    "for model_name, model in models.iteritems():\n",
    "    print model_name\n",
    "    kfold = StratifiedKFold(y_train, n_folds=50, random_state=7)\n",
    "    results = cross_val_score(model, X_all_Reduced, y_train, cv=kfold)\n",
    "    print(\"Accuracy: %.2f%% (%.2f%%)\" % (results.mean()*100, results.std()*100)), '\\n'\n",
    "\n"
   ]
  },
  {
   "cell_type": "code",
   "execution_count": null,
   "metadata": {
    "collapsed": false
   },
   "outputs": [],
   "source": [
    "Features_test = X_test[[\n",
    "                'atcsgender_2', 'atcsgender_3', \n",
    "                'atcs_1', 'atcs_8',\n",
    "                'cltrcmp_2', 'atcsjob_2', 'clet_2', 'atct_3',\n",
    "                'blg_1', 'atcsgender_1']]\n",
    "\n",
    "\n",
    "for model_name, model in models.iteritems():\n",
    "    print model_name\n",
    "    # make predictions for test data\n",
    "    model.fit(X, y_train)\n",
    "    y_pred = model.predict(Features_test)\n",
    "    predictions = [round(value) for value in y_pred]\n",
    "    # evaluate predictions\n",
    "    accuracy = accuracy_score(y_test, predictions)\n",
    "    print(\"Testing data prediction accuracy: %.2f%%\" % (accuracy * 100.0)), '\\n'"
   ]
  },
  {
   "cell_type": "code",
   "execution_count": null,
   "metadata": {
    "collapsed": false
   },
   "outputs": [],
   "source": [
    "model.fit(X_all_Reduced, y_train)\n",
    "g = xgb.to_graphviz(model, rankdir='LR')\n",
    "g.render('report/figures/X_all_Reduced_graph.gv', view=True)"
   ]
  },
  {
   "cell_type": "markdown",
   "metadata": {},
   "source": [
    "## Train on features with the exception of gendered features "
   ]
  },
  {
   "cell_type": "code",
   "execution_count": null,
   "metadata": {
    "collapsed": false
   },
   "outputs": [],
   "source": [
    "X_all_No_Gender = X_train.drop(['pca_1','pca_2','pca_3','atcsgender_1','atcsgender_2','atcsgender_3',], \n",
    "                            axis=1, inplace=False)\n",
    "\n",
    "\n",
    "print \"\\nFeature values:-\"\n",
    "print X_all_No_Gender.head()  "
   ]
  },
  {
   "cell_type": "code",
   "execution_count": null,
   "metadata": {
    "collapsed": false
   },
   "outputs": [],
   "source": [
    "for model_name, model in models.iteritems():\n",
    "    print model_name\n",
    "    kfold = StratifiedKFold(y_train, n_folds=50, random_state=7)\n",
    "    results = cross_val_score(model, X_all_No_Gender, y_train, cv=kfold)\n",
    "    print(\"Accuracy: %.2f%% (%.2f%%)\" % (results.mean()*100, results.std()*100)), '\\n'\n"
   ]
  },
  {
   "cell_type": "code",
   "execution_count": null,
   "metadata": {
    "collapsed": false
   },
   "outputs": [],
   "source": [
    "model.fit(X_all_No_Gender, y_train)\n",
    "g = xgb.to_graphviz(model, rankdir='LR')\n",
    "g.render('report/figures/X_all_No_Gender_graph.gv', view=True)"
   ]
  },
  {
   "cell_type": "code",
   "execution_count": null,
   "metadata": {
    "collapsed": false
   },
   "outputs": [],
   "source": [
    "Features_test = X_test.drop(['pca_1','pca_2','pca_3','atcsgender_1','atcsgender_2','atcsgender_3',], \n",
    "                            axis=1, inplace=False)\n",
    "\n",
    "\n",
    "# make predictions for test data\n",
    "y_pred = model.predict(Features_test)\n",
    "predictions = [round(value) for value in y_pred]\n",
    "# evaluate predictions\n",
    "accuracy = accuracy_score(y_test, predictions)\n",
    "print(\"Accuracy: %.2f%%\" % (accuracy * 100.0))"
   ]
  },
  {
   "cell_type": "markdown",
   "metadata": {},
   "source": [
    "## Train on all data including PCA"
   ]
  },
  {
   "cell_type": "code",
   "execution_count": null,
   "metadata": {
    "collapsed": false
   },
   "outputs": [],
   "source": [
    "X_all = X_train\n",
    "\n",
    "\n",
    "print \"\\nFeature values:-\"\n",
    "print X_all.head()  "
   ]
  },
  {
   "cell_type": "code",
   "execution_count": null,
   "metadata": {
    "collapsed": false
   },
   "outputs": [],
   "source": [
    "for model_name, model in models.iteritems():\n",
    "    print model_name\n",
    "    kfold = StratifiedKFold(y_train, n_folds=50, random_state=7)\n",
    "    results = cross_val_score(model, X_all, y_train, cv=kfold)\n",
    "    print(\"Accuracy: %.2f%% (%.2f%%)\" % (results.mean()*100, results.std()*100)), '\\n'\n"
   ]
  },
  {
   "cell_type": "code",
   "execution_count": null,
   "metadata": {
    "collapsed": false
   },
   "outputs": [],
   "source": [
    "model.fit(X_all, y_train)\n",
    "g = xgb.to_graphviz(model, rankdir='LR')\n",
    "g.render('report/figures/X_all_graph.gv', view=True)"
   ]
  },
  {
   "cell_type": "code",
   "execution_count": null,
   "metadata": {
    "collapsed": false
   },
   "outputs": [],
   "source": [
    "Features_test = X_test\n",
    "\n",
    "\n",
    "# make predictions for test data\n",
    "y_pred = model.predict(Features_test)\n",
    "predictions = [round(value) for value in y_pred]\n",
    "# evaluate predictions\n",
    "accuracy = accuracy_score(y_test, predictions)\n",
    "print(\"Accuracy: %.2f%%\" % (accuracy * 100.0))"
   ]
  },
  {
   "cell_type": "code",
   "execution_count": null,
   "metadata": {
    "collapsed": true
   },
   "outputs": [],
   "source": []
  },
  {
   "cell_type": "markdown",
   "metadata": {},
   "source": [
    "## Investigate important features"
   ]
  },
  {
   "cell_type": "code",
   "execution_count": null,
   "metadata": {
    "collapsed": false
   },
   "outputs": [],
   "source": [
    "\n",
    "pre_males = dataset.query('gender_Female == 0')\n",
    "pre_males = pre_males[['atcs_1']]\n",
    "\n",
    "axes = pre_males.plot.hist()\n",
    "axes.set_xlabel('Male Students')\n",
    "axes.set_title('Measurement of atcs_1:\"I like to use computer science to solve problems\"')\n",
    "axes.set_yticks(np.arange(0, 300, 50))\n",
    "\n",
    "\n",
    "a=axes.get_xticks().tolist()\n",
    "a[0] = 'Strongly Disagree'\n",
    "a[1] = 'Disagree'\n",
    "a[3] = 'Neutral'\n",
    "a[4] = 'Agree'\n",
    "a[5] = 'Strongly Agree'\n",
    "axes.set_xticklabels(a);"
   ]
  },
  {
   "cell_type": "code",
   "execution_count": null,
   "metadata": {
    "collapsed": false
   },
   "outputs": [],
   "source": [
    "pre_females = dataset.query('gender_Female == 1')\n",
    "pre_females = pre_females[['atcs_1']]\n",
    "\n",
    "axes = pre_females.plot.hist()\n",
    "axes.set_xlabel('Female Students')\n",
    "axes.set_title('Measurement of atcs_1:\"I like to use computer science to solve problems\"')\n",
    "axes.set_yticks(np.arange(0, 300, 50))\n",
    "\n",
    "\n",
    "a=axes.get_xticks().tolist()\n",
    "a[0] = 'Strongly Disagree'\n",
    "a[1] = 'Disagree'\n",
    "a[3] = 'Neutral'\n",
    "a[4] = 'Agree'\n",
    "a[5] = 'Strongly Agree'\n",
    "axes.set_xticklabels(a);"
   ]
  },
  {
   "cell_type": "markdown",
   "metadata": {},
   "source": [
    "## Tune Estimator"
   ]
  },
  {
   "cell_type": "markdown",
   "metadata": {},
   "source": [
    "### Ideal choices of parameters as taken from Xgboost With Python ebook\n",
    "\n",
    "- Number of Trees (n estimators) set to a fixed value between 100 and 1000, depending on the dataset size.\n",
    "- Learning Rate (learning rate) simplified to the ratio: [2 to 10]/trees, depending on the trees number of trees.\n",
    "- Row Sampling (subsample) grid searched values in the range [0.5, 0.75, 1.0].\n",
    "- Column Sampling (colsample bytree and maybe colsample bylevel) grid searched values in the range [0.4, 0.6, 0.8, 1.0].\n",
    "- Min Leaf Weight (min child weight) simplified to the ratio 3/rare_events , where rare events rare events is the percentage of rare event observations in the dataset.\n",
    "- Tree Size (max depth) grid searched values in the rage [4, 6, 8, 10].\n",
    "- Min Split Gain (gamma) fixed with a value of zero.\n"
   ]
  },
  {
   "cell_type": "code",
   "execution_count": null,
   "metadata": {
    "collapsed": false
   },
   "outputs": [],
   "source": [
    "from __future__ import division\n",
    "\n",
    "\n",
    "trees = range(100, 1000, 100)\n",
    "\n",
    "lRate = range(2, 10, 2)\n",
    "lRate = [x/9 for x in lRate]\n",
    "X = X_train.drop(['pca_1','pca_2','pca_3'], axis=1, inplace=False)"
   ]
  },
  {
   "cell_type": "code",
   "execution_count": null,
   "metadata": {
    "collapsed": false
   },
   "outputs": [],
   "source": [
    "from sklearn.grid_search import GridSearchCV\n",
    "from sklearn.cross_validation import StratifiedShuffleSplit\n",
    "from sklearn.metrics import f1_score, make_scorer\n",
    "from xgboost import XGBClassifier as XGBC\n",
    "\n",
    "\n",
    "\n",
    "print '_'*20, 'Tuning XGBoost', '_'*20\n",
    "print \"Training the data\"\n",
    "\n",
    "\n",
    "# max_delta_step, Maximum delta step we allow each tree's weight estimation to be. \n",
    "# If the value is set to 0, it means there is no constraint. If it is set to a positive value, \n",
    "# it can help making the update step more conservative. Usually this parameter is not needed, \n",
    "# but it might help in logistic regression when class is extremely imbalanced. \n",
    "# Set it to value of 1-10 might help control the update\n",
    "\n",
    "cv_params = {'learning_rate': [0.2222, 0.4444, 0.6666, 0.8888],\n",
    "            'max_depth': [4, 6, 8, 10],\n",
    "            'n_estimators': range(100, 1100, 100)}\n",
    "             \n",
    "\n",
    "\n",
    "\n",
    "# Build a stratified shuffle object because of unbalanced data\n",
    "folds = 50\n",
    "ssscv = StratifiedShuffleSplit(y_train, folds, random_state = 42)\n",
    "\n",
    "# Make an appropriate scoring function\n",
    "scoring_function = make_scorer(f1_score)\n",
    "\n",
    "\n",
    "grid = GridSearchCV(XGBC(), cv_params, cv=ssscv, scoring=scoring_function, n_jobs = -1) \n",
    "grid.fit(X, y_train)\n"
   ]
  },
  {
   "cell_type": "code",
   "execution_count": null,
   "metadata": {
    "collapsed": false
   },
   "outputs": [],
   "source": [
    "model =  grid.best_estimator_\n",
    "print model"
   ]
  },
  {
   "cell_type": "code",
   "execution_count": null,
   "metadata": {
    "collapsed": false
   },
   "outputs": [],
   "source": [
    "print model\n",
    "\n",
    "Features_test = X_test.drop(['pca_1','pca_2','pca_3'], axis=1, inplace=False)\n",
    "\n",
    "\n",
    "# make predictions for test data\n",
    "y_pred = model.predict(Features_test)\n",
    "predictions = [round(value) for value in y_pred]\n",
    "# evaluate predictions\n",
    "accuracy = accuracy_score(y_test, predictions)\n",
    "print(\"Accuracy: %.2f%%\" % (accuracy * 100.0))"
   ]
  },
  {
   "cell_type": "markdown",
   "metadata": {},
   "source": [
    "## Save Model"
   ]
  },
  {
   "cell_type": "code",
   "execution_count": null,
   "metadata": {
    "collapsed": false
   },
   "outputs": [],
   "source": [
    "import pickle\n",
    "\n",
    "# save model to file\n",
    "pickle.dump(model, open(\"genderedCSExperience.pickle.dat\", \"wb\"))"
   ]
  },
  {
   "cell_type": "code",
   "execution_count": null,
   "metadata": {
    "collapsed": false
   },
   "outputs": [],
   "source": [
    "model.fit(X, y_train)\n",
    "g = xgb.to_graphviz(model, rankdir='LR')\n",
    "g.render('report/figures/Tuned_model_graph.gv', view=True)"
   ]
  },
  {
   "cell_type": "code",
   "execution_count": null,
   "metadata": {
    "collapsed": true
   },
   "outputs": [],
   "source": []
  }
 ],
 "metadata": {
  "kernelspec": {
   "display_name": "Python 2",
   "language": "python",
   "name": "python2"
  },
  "language_info": {
   "codemirror_mode": {
    "name": "ipython",
    "version": 2
   },
   "file_extension": ".py",
   "mimetype": "text/x-python",
   "name": "python",
   "nbconvert_exporter": "python",
   "pygments_lexer": "ipython2",
   "version": "2.7.12"
  }
 },
 "nbformat": 4,
 "nbformat_minor": 0
}
