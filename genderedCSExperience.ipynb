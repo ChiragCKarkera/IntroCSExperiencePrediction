{
 "cells": [
  {
   "cell_type": "markdown",
   "metadata": {},
   "source": [
    "# Task: Model the dynamics of gender in intro CS\n"
   ]
  },
  {
   "cell_type": "code",
   "execution_count": 1,
   "metadata": {
    "collapsed": false
   },
   "outputs": [
    {
     "name": "stdout",
     "output_type": "stream",
     "text": [
      "Populating the interactive namespace from numpy and matplotlib\n"
     ]
    }
   ],
   "source": [
    "%pylab inline"
   ]
  },
  {
   "cell_type": "code",
   "execution_count": 2,
   "metadata": {
    "collapsed": false
   },
   "outputs": [],
   "source": [
    "# Import libraries\n",
    "\n",
    "\n",
    "import sys\n",
    "sys.path.append('tools/')\n",
    "\n",
    "import numpy as np\n",
    "import pandas as pd\n",
    "import matplotlib.pyplot as pyplt\n",
    "import seaborn as sns\n",
    "import tools\n",
    "import inputData\n",
    "   \n",
    "plt.style.use('ggplot')"
   ]
  },
  {
   "cell_type": "markdown",
   "metadata": {},
   "source": [
    "## Exploring the Data\n",
    "\n",
    "Let's go ahead and read in the student dataset first.\n"
   ]
  },
  {
   "cell_type": "code",
   "execution_count": 3,
   "metadata": {
    "collapsed": false
   },
   "outputs": [],
   "source": [
    "dataset = inputData.preprocess()"
   ]
  },
  {
   "cell_type": "code",
   "execution_count": 4,
   "metadata": {
    "collapsed": false
   },
   "outputs": [
    {
     "name": "stdout",
     "output_type": "stream",
     "text": [
      "494 male students, and 388 female students consented to participate in this study\n"
     ]
    }
   ],
   "source": [
    "dataset = dataset.query('gender == \"Female\" or gender == \"Male\"')\n",
    "dataset = dataset.reset_index(drop=True)\n",
    "\n",
    "\n",
    "print '{:d}{:20}{:d}{:20}'.format(len(dataset.query('gender == \"Male\"')), ' male students, and ',\n",
    "                                  len(dataset.query('gender == \"Female\"')),\n",
    "                                  ' female students consented to participate in this study')\n",
    "                        "
   ]
  },
  {
   "cell_type": "markdown",
   "metadata": {},
   "source": [
    "#### Drop the columns that aren't needed for the model"
   ]
  },
  {
   "cell_type": "code",
   "execution_count": 5,
   "metadata": {
    "collapsed": false
   },
   "outputs": [],
   "source": [
    "columnsNotNeeded = ['timestamp', 'consent','name', 'name_1', 'name_2', \n",
    "                    'morecs','snap_python','hiphop_d1','hiphop_d2','song_ct', 'major'] \n",
    "dataset.drop(columnsNotNeeded, axis=1, inplace=True)\n",
    "                   "
   ]
  },
  {
   "cell_type": "markdown",
   "metadata": {},
   "source": [
    "### Preprocess feature columns\n",
    "\n",
    "To prepare our data for classification, we need to devise a scheme to transform all features into numeric data. This dataset as several non-numeric columns that need converting. Many of them are simply `yes`/`no`, e.g. `prcs_2`. We can reasonably convert these into `1`/`0` (binary) values. For the columns whose values are `Nan`, we will convert these to `0`. \n",
    "\n",
    "\n",
    "**Note**: These generated columns are sometimes called _dummy variables_, and we will use the [`pandas.get_dummies()`](http://pandas.pydata.org/pandas-docs/stable/generated/pandas.get_dummies.html?highlight=get_dummies#pandas.get_dummies) function to perform this transformation."
   ]
  },
  {
   "cell_type": "code",
   "execution_count": 6,
   "metadata": {
    "collapsed": false
   },
   "outputs": [],
   "source": [
    "# Preprocess feature columns\n",
    "def preprocess_features(X):\n",
    "    outX = pd.DataFrame(index=X.index)  # output dataframe, initially empty\n",
    "\n",
    "    # Check each column\n",
    "    for col, col_data in X.iteritems():\n",
    "        # If data type is non-numeric, try to replace all yes/no values with 1/0\n",
    "        if col_data.dtype == object:\n",
    "            col_data = col_data.replace(['Yes', 'No'], [1, 0])\n",
    "        # Note: This should change the data type for yes/no columns to int\n",
    "\n",
    "        # If still non-numeric, convert to one or more dummy variables\n",
    "        if col_data.dtype == object:\n",
    "            # e.g. 'reason' => 'reason_class_Interested' , 'reason_class_Other'\n",
    "            col_data = pd.get_dummies(col_data, prefix=col)\n",
    "\n",
    "        outX = outX.join(col_data)  # collect column(s) in output dataframe\n",
    "        outX.fillna(0, inplace=True) # make sure all NaN <missing> values are set to 0\n",
    "\n",
    "    return outX\n",
    "\n"
   ]
  },
  {
   "cell_type": "code",
   "execution_count": 7,
   "metadata": {
    "collapsed": false
   },
   "outputs": [
    {
     "name": "stdout",
     "output_type": "stream",
     "text": [
      "Processed feature columns (47):- ['atcs_1', 'atcs_2', 'atcs_3', 'atcs_4', 'atcs_5', 'atcs_6', 'atcs_7', 'atcs_8', 'atcs_9', 'atcsgender_1', 'atcsgender_2', 'atcsgender_3', 'atcsjob_1', 'atcsjob_2', 'atct_1', 'atct_2', 'atct_3', 'atct_4', 'atct_5', 'atct_6', 'atct_7', 'atct_8', 'blg_1', 'blg_2', 'blg_3', 'blg_4', 'classmtr', 'clet_1', 'clet_2', 'cltrcmp_1', 'cltrcmp_2', 'gender_Female', 'gender_Male', 'grade_B or above', 'grade_B or below', 'mtr_1', 'mtr_2', 'mtr_3', 'prcs_1', 'prcs_2', 'prcs_3', 'prcs_4', 'prcs_5', 'prepared', 'priorcs10', 'reason_class_Interested', 'reason_class_Other']\n"
     ]
    }
   ],
   "source": [
    "dataset = preprocess_features(dataset)\n",
    "print \"Processed feature columns ({}):- {}\".format(len(dataset.columns), list(dataset.columns))\n"
   ]
  },
  {
   "cell_type": "markdown",
   "metadata": {},
   "source": [
    "### Preprocess feature columns - Rename columns\n",
    "\n",
    "There are some columns that have spaces in their names, these makes it difficult for the tree plotting algorithms that we will be using later to graph these features. As a result, we will change these spaces to hypens."
   ]
  },
  {
   "cell_type": "code",
   "execution_count": 8,
   "metadata": {
    "collapsed": false
   },
   "outputs": [],
   "source": [
    "dataset.rename(columns = {'grade_B or above':'grade_B_or_above'}, inplace = True)\n",
    "dataset.rename(columns = {'grade_B or below':'grade_B_or_below'}, inplace = True)"
   ]
  },
  {
   "cell_type": "markdown",
   "metadata": {},
   "source": [
    "## Scaling\n",
    "Linearly scale each attribute to the range [−1, +1] or [0, 1].\n",
    "\n"
   ]
  },
  {
   "cell_type": "code",
   "execution_count": 9,
   "metadata": {
    "collapsed": false
   },
   "outputs": [
    {
     "data": {
      "text/html": [
       "<div>\n",
       "<table border=\"1\" class=\"dataframe\">\n",
       "  <thead>\n",
       "    <tr style=\"text-align: right;\">\n",
       "      <th></th>\n",
       "      <th>atcs_1</th>\n",
       "      <th>atcs_2</th>\n",
       "      <th>atcs_3</th>\n",
       "      <th>atcs_4</th>\n",
       "      <th>atcs_5</th>\n",
       "      <th>atcs_6</th>\n",
       "      <th>atcs_7</th>\n",
       "      <th>atcs_8</th>\n",
       "      <th>atcs_9</th>\n",
       "      <th>atcsgender_1</th>\n",
       "      <th>...</th>\n",
       "      <th>mtr_3</th>\n",
       "      <th>prcs_1</th>\n",
       "      <th>prcs_2</th>\n",
       "      <th>prcs_3</th>\n",
       "      <th>prcs_4</th>\n",
       "      <th>prcs_5</th>\n",
       "      <th>prepared</th>\n",
       "      <th>priorcs10</th>\n",
       "      <th>reason_class_Interested</th>\n",
       "      <th>reason_class_Other</th>\n",
       "    </tr>\n",
       "  </thead>\n",
       "  <tbody>\n",
       "    <tr>\n",
       "      <th>877</th>\n",
       "      <td>0.933881</td>\n",
       "      <td>0.880304</td>\n",
       "      <td>0.963209</td>\n",
       "      <td>-0.858727</td>\n",
       "      <td>1.317785</td>\n",
       "      <td>0.862523</td>\n",
       "      <td>1.064818</td>\n",
       "      <td>1.494748</td>\n",
       "      <td>0.964702</td>\n",
       "      <td>-0.421723</td>\n",
       "      <td>...</td>\n",
       "      <td>1.051195</td>\n",
       "      <td>1.603387</td>\n",
       "      <td>1.092717</td>\n",
       "      <td>1.581139</td>\n",
       "      <td>1.204159</td>\n",
       "      <td>1.206990</td>\n",
       "      <td>1.935994</td>\n",
       "      <td>-0.217959</td>\n",
       "      <td>0.317999</td>\n",
       "      <td>-0.304855</td>\n",
       "    </tr>\n",
       "    <tr>\n",
       "      <th>878</th>\n",
       "      <td>-2.731006</td>\n",
       "      <td>-1.542249</td>\n",
       "      <td>-1.816127</td>\n",
       "      <td>2.890766</td>\n",
       "      <td>-2.543632</td>\n",
       "      <td>-3.178619</td>\n",
       "      <td>-3.018527</td>\n",
       "      <td>-2.134619</td>\n",
       "      <td>-3.231930</td>\n",
       "      <td>-0.421723</td>\n",
       "      <td>...</td>\n",
       "      <td>-0.951298</td>\n",
       "      <td>-0.623680</td>\n",
       "      <td>-0.915150</td>\n",
       "      <td>-0.632456</td>\n",
       "      <td>-0.830455</td>\n",
       "      <td>-0.828507</td>\n",
       "      <td>-1.075552</td>\n",
       "      <td>-0.217959</td>\n",
       "      <td>-3.144660</td>\n",
       "      <td>3.280244</td>\n",
       "    </tr>\n",
       "    <tr>\n",
       "      <th>879</th>\n",
       "      <td>0.933881</td>\n",
       "      <td>0.880304</td>\n",
       "      <td>0.963209</td>\n",
       "      <td>0.078646</td>\n",
       "      <td>0.352431</td>\n",
       "      <td>0.862523</td>\n",
       "      <td>1.064818</td>\n",
       "      <td>0.587406</td>\n",
       "      <td>0.964702</td>\n",
       "      <td>-0.421723</td>\n",
       "      <td>...</td>\n",
       "      <td>-0.951298</td>\n",
       "      <td>1.603387</td>\n",
       "      <td>1.092717</td>\n",
       "      <td>-0.632456</td>\n",
       "      <td>1.204159</td>\n",
       "      <td>1.206990</td>\n",
       "      <td>1.935994</td>\n",
       "      <td>-0.217959</td>\n",
       "      <td>-3.144660</td>\n",
       "      <td>-0.304855</td>\n",
       "    </tr>\n",
       "    <tr>\n",
       "      <th>880</th>\n",
       "      <td>0.933881</td>\n",
       "      <td>0.880304</td>\n",
       "      <td>0.036764</td>\n",
       "      <td>0.078646</td>\n",
       "      <td>-0.612923</td>\n",
       "      <td>-0.147763</td>\n",
       "      <td>-0.976854</td>\n",
       "      <td>-0.319936</td>\n",
       "      <td>-0.084456</td>\n",
       "      <td>-0.421723</td>\n",
       "      <td>...</td>\n",
       "      <td>-0.951298</td>\n",
       "      <td>-0.623680</td>\n",
       "      <td>-0.915150</td>\n",
       "      <td>-0.632456</td>\n",
       "      <td>-0.830455</td>\n",
       "      <td>-0.828507</td>\n",
       "      <td>-1.075552</td>\n",
       "      <td>-0.217959</td>\n",
       "      <td>0.317999</td>\n",
       "      <td>-0.304855</td>\n",
       "    </tr>\n",
       "    <tr>\n",
       "      <th>881</th>\n",
       "      <td>0.017660</td>\n",
       "      <td>-0.330972</td>\n",
       "      <td>-0.889682</td>\n",
       "      <td>0.078646</td>\n",
       "      <td>-1.578278</td>\n",
       "      <td>0.862523</td>\n",
       "      <td>0.043982</td>\n",
       "      <td>-0.319936</td>\n",
       "      <td>0.964702</td>\n",
       "      <td>-0.421723</td>\n",
       "      <td>...</td>\n",
       "      <td>-0.951298</td>\n",
       "      <td>-0.623680</td>\n",
       "      <td>-0.915150</td>\n",
       "      <td>-0.632456</td>\n",
       "      <td>-0.830455</td>\n",
       "      <td>1.206990</td>\n",
       "      <td>-0.322666</td>\n",
       "      <td>-0.217959</td>\n",
       "      <td>0.317999</td>\n",
       "      <td>-0.304855</td>\n",
       "    </tr>\n",
       "  </tbody>\n",
       "</table>\n",
       "<p>5 rows × 47 columns</p>\n",
       "</div>"
      ],
      "text/plain": [
       "       atcs_1    atcs_2    atcs_3    atcs_4    atcs_5    atcs_6    atcs_7  \\\n",
       "877  0.933881  0.880304  0.963209 -0.858727  1.317785  0.862523  1.064818   \n",
       "878 -2.731006 -1.542249 -1.816127  2.890766 -2.543632 -3.178619 -3.018527   \n",
       "879  0.933881  0.880304  0.963209  0.078646  0.352431  0.862523  1.064818   \n",
       "880  0.933881  0.880304  0.036764  0.078646 -0.612923 -0.147763 -0.976854   \n",
       "881  0.017660 -0.330972 -0.889682  0.078646 -1.578278  0.862523  0.043982   \n",
       "\n",
       "       atcs_8    atcs_9  atcsgender_1         ...             mtr_3    prcs_1  \\\n",
       "877  1.494748  0.964702     -0.421723         ...          1.051195  1.603387   \n",
       "878 -2.134619 -3.231930     -0.421723         ...         -0.951298 -0.623680   \n",
       "879  0.587406  0.964702     -0.421723         ...         -0.951298  1.603387   \n",
       "880 -0.319936 -0.084456     -0.421723         ...         -0.951298 -0.623680   \n",
       "881 -0.319936  0.964702     -0.421723         ...         -0.951298 -0.623680   \n",
       "\n",
       "       prcs_2    prcs_3    prcs_4    prcs_5  prepared  priorcs10  \\\n",
       "877  1.092717  1.581139  1.204159  1.206990  1.935994  -0.217959   \n",
       "878 -0.915150 -0.632456 -0.830455 -0.828507 -1.075552  -0.217959   \n",
       "879  1.092717 -0.632456  1.204159  1.206990  1.935994  -0.217959   \n",
       "880 -0.915150 -0.632456 -0.830455 -0.828507 -1.075552  -0.217959   \n",
       "881 -0.915150 -0.632456 -0.830455  1.206990 -0.322666  -0.217959   \n",
       "\n",
       "     reason_class_Interested  reason_class_Other  \n",
       "877                 0.317999           -0.304855  \n",
       "878                -3.144660            3.280244  \n",
       "879                -3.144660           -0.304855  \n",
       "880                 0.317999           -0.304855  \n",
       "881                 0.317999           -0.304855  \n",
       "\n",
       "[5 rows x 47 columns]"
      ]
     },
     "execution_count": 9,
     "metadata": {},
     "output_type": "execute_result"
    }
   ],
   "source": [
    "from sklearn.preprocessing import StandardScaler\n",
    "\n",
    "scaler = StandardScaler()\n",
    "#df = dataset\n",
    "\n",
    "df_scaled = pd.DataFrame(scaler.fit_transform(dataset), columns=dataset.columns)\n",
    "dataset = df_scaled\n",
    "dataset.tail()\n"
   ]
  },
  {
   "cell_type": "code",
   "execution_count": 10,
   "metadata": {
    "collapsed": true
   },
   "outputs": [],
   "source": [
    "atcs = ['atcs_1', 'atcs_2', 'atcs_3', 'atcs_4', 'atcs_5', \n",
    "        'atcs_6', 'atcs_7', 'atcs_8', 'atcs_9']# self reported attitude about CS competency\n",
    "atct = ['atct_1', 'atct_2', 'atct_3', 'atct_4', \n",
    "        'atct_5', 'atct_6', 'atct_7', 'atct_8'] # Self reported attitudes about computational thinking\n",
    "blg = ['blg_1', 'blg_2', 'blg_3', 'blg_4'] # Sense of belonging in the class room\n",
    "clet = ['clet_1', 'clet_2'] # Social implications and ethics\n",
    "gender = ['gender_Female', 'gender_Male' ]\n",
    "atcsgender = ['atcsgender_1','atcsgender_2','atcsgender_3'] \n",
    "atcsjob = ['atcsjob_1','atcsjob_2']\n",
    "clet = ['clet_1','clet_2']\n",
    "cltrcmp = ['cltrcmp_1','cltrcmp_2']\n",
    "mtr = ['mtr_1','mtr_2','mtr_3']\n",
    "prepared = ['prepared']\n",
    "\n",
    "itemDimensions = {}\n",
    "itemDimensions['atcs'] = atcs\n",
    "itemDimensions['atct'] = atct\n",
    "itemDimensions['blg'] = blg\n",
    "itemDimensions['gender'] = gender\n",
    "itemDimensions['atcsgender'] = atcsgender\n",
    "itemDimensions['atcsjob'] = atcsjob\n",
    "itemDimensions['clet'] = clet\n",
    "itemDimensions['cltrcmp'] = cltrcmp\n",
    "itemDimensions['mtr'] = mtr\n",
    "itemDimensions['prepared'] = prepared\n",
    "\n"
   ]
  },
  {
   "cell_type": "code",
   "execution_count": 11,
   "metadata": {
    "collapsed": false
   },
   "outputs": [],
   "source": [
    "list_of_lists = [\n",
    "itemDimensions['atcs'], \n",
    "itemDimensions['blg'],\n",
    "itemDimensions['atct'],\n",
    "itemDimensions['gender'],\n",
    "itemDimensions['atcsgender'],\n",
    "itemDimensions['atcsjob'],\n",
    "itemDimensions['clet'],\n",
    "itemDimensions['cltrcmp'],\n",
    "itemDimensions['mtr'],   \n",
    "itemDimensions['prepared']\n",
    "]\n",
    "\n",
    "flattened = [val for sublist in list_of_lists for val in sublist]"
   ]
  },
  {
   "cell_type": "code",
   "execution_count": 12,
   "metadata": {
    "collapsed": false
   },
   "outputs": [
    {
     "name": "stdout",
     "output_type": "stream",
     "text": [
      "atct_1         I am good at solving a problem by thinking about similar problems I’ve solved before.\n",
      "atct_2         I have good research skills.\n",
      "atct_3         I am good at using online search tools.\n",
      "atct_4         I am persistent at solving puzzles or logic problems.\n",
      "atct_5         I know how to write computer programs\n",
      "atct_6         I am good at building things.\n",
      "atct_7         I’m good at ignoring irrelevant details to solve a problem.\n",
      "atct_8         I know how to write a computer program to solve a problem.\n",
      "atcsgender_1   Women are less capable of success in CS than men.\n",
      "atcsgender_2   Women are smarter than men.\n",
      "atcsgender_3   Men have better math and science abilities than women.\n",
      "atcs_1         I like to use computer science to solve problems.\n",
      "atcs_2         I can learn to understand computing concepts.\n",
      "atcs_3         I can achieve good grades (C or better) in computing courses.\n",
      "atcs_4         I do not like using computer science to solve problems.\n",
      "atcs_5         I am confident that I can solve problems by using computation\n",
      "atcs_6         The challenge of solving problems using computer science appeals to me.\n",
      "atcs_7         I am comfortable with learning computing concepts.\n",
      "atcs_8         I am confident about my abilities with regards to computer science.\n",
      "atcs_9         I do think I can learn to understand computing concepts.\n",
      "mtr_1          Before I came to UC Berkeley, I knew people who have careers in Computer Science.\n",
      "mtr_2          There are people with careers in Computer Science who look like me.\n",
      "mtr_3          I have role models within the Computer Science field that look like me.\n",
      "gender         Preprocessed feature, no description\n",
      "clet_1         I work well in teams.\n",
      "clet_2         I think about the ethical, legal, and social implications of computing.\n",
      "prepared       How prepared did you feel about this class before it started?\n",
      "cltrcmp_1      I am comfortable interacting with peers from different backgrounds than my own (based on race, sexuality, income, and so on.)\n",
      "cltrcmp_2      I have good cultural competence, or the ability to interact effectively with people from diverse backgrounds.\n",
      "atcsjob_1      Knowledge of computing will allow me to secure a good job.\n",
      "atcsjob_2      My career goals do not require that I learn computing skills.\n",
      "blg_1          In this class, I feel I belong.\n",
      "blg_2          In this class, I feel awkward and out of place.\n",
      "blg_3          In this class, I feel like my ideas count.\n",
      "blg_4          In this class, I feel like I matter.\n"
     ]
    }
   ],
   "source": [
    "for key in itemDimensions:\n",
    "    try:\n",
    "        inputData.describeData(itemDimensions[key])\n",
    "    except:\n",
    "        print\"{:15}{:20}\".format(key, 'Preprocessed feature, no description')"
   ]
  },
  {
   "cell_type": "markdown",
   "metadata": {},
   "source": [
    "### Extract features and labels \n",
    "\n",
    "Extract feature (X) and target (y) columns"
   ]
  },
  {
   "cell_type": "code",
   "execution_count": 13,
   "metadata": {
    "collapsed": false
   },
   "outputs": [
    {
     "name": "stdout",
     "output_type": "stream",
     "text": [
      "\n",
      "Label values:-\n",
      "     0\n",
      "0  1.0\n",
      "1  1.0\n",
      "2  1.0\n",
      "3  1.0\n",
      "4  1.0\n"
     ]
    }
   ],
   "source": [
    "from sklearn.preprocessing import MinMaxScaler\n",
    "\n",
    "target_col = dataset['gender_Female']  #  column is the target/label \n",
    "y = target_col  # corresponding targets/labels\n",
    "\n",
    "\n",
    "# scale target to binary so that we can use in estimators\n",
    "scaler = MinMaxScaler()\n",
    "\n",
    "y_scaled = pd.DataFrame(scaler.fit_transform(y.reshape(-1, 1)))\n",
    "y = y_scaled\n",
    "\n",
    "\n",
    "\n",
    "print \"\\nLabel values:-\"\n",
    "print y.head()  "
   ]
  },
  {
   "cell_type": "code",
   "execution_count": 14,
   "metadata": {
    "collapsed": false
   },
   "outputs": [
    {
     "name": "stdout",
     "output_type": "stream",
     "text": [
      "\n",
      "Feature values:-\n",
      "     atcs_1    atcs_2    atcs_3    atcs_4    atcs_5    atcs_6    atcs_7  \\\n",
      "0 -0.898562 -0.330972  0.963209  1.016019  0.352431 -0.147763  0.043982   \n",
      "1 -2.731006 -3.964803 -2.742573  2.890766 -2.543632 -3.178619 -3.018527   \n",
      "2  0.933881  0.880304  0.963209 -0.858727  1.317785  0.862523  1.064818   \n",
      "3  0.933881 -0.330972  0.036764 -0.858727  0.352431 -0.147763  0.043982   \n",
      "4 -0.898562 -1.542249  0.036764  0.078646 -0.612923 -0.147763  1.064818   \n",
      "\n",
      "     atcs_8    atcs_9  atcsgender_1         ...             mtr_3   prcs_1  \\\n",
      "0 -0.319936 -0.084456     -0.421723         ...         -0.951298 -0.62368   \n",
      "1 -2.134619 -2.182772     -0.421723         ...         -0.951298 -0.62368   \n",
      "2  1.494748  0.964702     -0.421723         ...          1.051195 -0.62368   \n",
      "3  1.494748  0.964702     -0.421723         ...         -0.951298 -0.62368   \n",
      "4 -1.227277 -0.084456     -0.421723         ...         -0.951298 -0.62368   \n",
      "\n",
      "    prcs_2    prcs_3    prcs_4    prcs_5  prepared  priorcs10  \\\n",
      "0 -0.91515 -0.632456 -0.830455  1.206990  0.430221  -0.217959   \n",
      "1 -0.91515  1.581139  1.204159 -0.828507 -0.322666  -0.217959   \n",
      "2 -0.91515 -0.632456 -0.830455  1.206990  0.430221  -0.217959   \n",
      "3 -0.91515 -0.632456 -0.830455  1.206990  1.183107  -0.217959   \n",
      "4 -0.91515 -0.632456 -0.830455 -0.828507  0.430221  -0.217959   \n",
      "\n",
      "   reason_class_Interested  reason_class_Other  \n",
      "0                 0.317999           -0.304855  \n",
      "1                 0.317999           -0.304855  \n",
      "2                 0.317999           -0.304855  \n",
      "3                 0.317999           -0.304855  \n",
      "4                 0.317999           -0.304855  \n",
      "\n",
      "[5 rows x 45 columns]\n"
     ]
    }
   ],
   "source": [
    "X = dataset.drop(['gender_Female', 'gender_Male'], axis=1, inplace=False)\n",
    "\n",
    "print \"\\nFeature values:-\"\n",
    "print X.head()  "
   ]
  },
  {
   "cell_type": "markdown",
   "metadata": {},
   "source": [
    "### Exploratory Visualization\n",
    "- As we can see the dataset is unbalanced, we have more males than females.\n",
    "\n",
    "\n"
   ]
  },
  {
   "cell_type": "code",
   "execution_count": 15,
   "metadata": {
    "collapsed": false
   },
   "outputs": [
    {
     "data": {
      "image/png": "[encoded data removed]",
      "text/plain": [
       "<matplotlib.figure.Figure at 0x115202a50>"
      ]
     },
     "metadata": {},
     "output_type": "display_data"
    }
   ],
   "source": [
    "y.plot.hist()\n",
    "\n",
    "_= pyplt.xlabel('Value')\n",
    "_= pyplt.title('Histogram of y_all')\n",
    "_= pyplt.legend(loc='upper center', shadow=True, fontsize='medium')\n",
    "_= pyplt.yticks(np.arange(0, 1000, 100))\n"
   ]
  },
  {
   "cell_type": "code",
   "execution_count": 16,
   "metadata": {
    "collapsed": false
   },
   "outputs": [
    {
     "name": "stdout",
     "output_type": "stream",
     "text": [
      "Feature column(s):- ['atcs_1', 'atcs_2', 'atcs_3', 'atcs_4', 'atcs_5', 'atcs_6', 'atcs_7', 'atcs_8', 'atcs_9', 'atcsgender_1', 'atcsgender_2', 'atcsgender_3', 'atcsjob_1', 'atcsjob_2', 'atct_1', 'atct_2', 'atct_3', 'atct_4', 'atct_5', 'atct_6', 'atct_7', 'atct_8', 'blg_1', 'blg_2', 'blg_3', 'blg_4', 'classmtr', 'clet_1', 'clet_2', 'cltrcmp_1', 'cltrcmp_2', 'grade_B_or_above', 'grade_B_or_below', 'mtr_1', 'mtr_2', 'mtr_3', 'prcs_1', 'prcs_2', 'prcs_3', 'prcs_4', 'prcs_5', 'prepared', 'priorcs10', 'reason_class_Interested', 'reason_class_Other']\n"
     ]
    }
   ],
   "source": [
    "## Make sure we drop the target from the table, otherwise we will be including the labeled data\n",
    "\n",
    "print \"Feature column(s):-\", list(X)"
   ]
  },
  {
   "cell_type": "code",
   "execution_count": null,
   "metadata": {
    "collapsed": true
   },
   "outputs": [],
   "source": []
  },
  {
   "cell_type": "markdown",
   "metadata": {},
   "source": [
    "## Feature Transformation\n",
    "We will use principal component analysis (PCA) to draw conclusions about the underlying structure of the data. Since using PCA on a dataset calculates the dimensions which best maximize variance, we will find which compound combinations of features best describe students."
   ]
  },
  {
   "cell_type": "code",
   "execution_count": 17,
   "metadata": {
    "collapsed": false
   },
   "outputs": [],
   "source": [
    "# TODO: Apply PCA by fitting the good data with the same number of dimensions as features\n",
    "from sklearn.decomposition import PCA\n",
    "\n",
    "pca_data = dataset.drop(['gender_Female', 'gender_Male'], axis=1, inplace=False)\n",
    "\n",
    "pca = PCA(n_components=3)\n",
    "pca.fit(pca_data)\n",
    "\n",
    "# Generate PCA results plot\n",
    "pca_results = tools.pca_results(pca_data, pca)"
   ]
  },
  {
   "cell_type": "code",
   "execution_count": 18,
   "metadata": {
    "collapsed": false
   },
   "outputs": [
    {
     "data": {
      "image/png": "[encoded data removed]",
      "text/plain": [
       "<matplotlib.figure.Figure at 0x105900c90>"
      ]
     },
     "metadata": {},
     "output_type": "display_data"
    }
   ],
   "source": [
    "pca_results['Explained Variance'].plot();"
   ]
  },
  {
   "cell_type": "code",
   "execution_count": 19,
   "metadata": {
    "collapsed": false
   },
   "outputs": [
    {
     "data": {
      "image/png": "[encoded data removed]",
      "text/plain": [
       "<matplotlib.figure.Figure at 0x1150d4350>"
      ]
     },
     "metadata": {},
     "output_type": "display_data"
    }
   ],
   "source": [
    "cols = [col for col in pca_results.columns if col not in ['Explained Variance']]\n",
    "df2 = pca_results[cols]\n",
    "\n",
    "myFileName='report/figures' + '/' + 'pcaStudentData' +'.png'\n",
    "rcParams['figure.figsize'] = 20, 10\n",
    "fig = figure(dpi=80) # no frame\n",
    "\n",
    "with sns.axes_style(\"white\"):\n",
    "    ax = sns.heatmap(df2, square=False, annot=True, vmin=-1, vmax=1, cmap='RdBu', fmt='+.1f')\n",
    "    plt.xticks(rotation=70, ha='right');\n",
    "    "
   ]
  },
  {
   "cell_type": "code",
   "execution_count": 20,
   "metadata": {
    "collapsed": false
   },
   "outputs": [
    {
     "name": "stdout",
     "output_type": "stream",
     "text": [
      "Projecting the input data on the eigenfaces orthonormal basis\n"
     ]
    }
   ],
   "source": [
    "from time import time\n",
    "\n",
    "\n",
    "print(\"Projecting the input data on the eigenfaces orthonormal basis\")\n",
    "X_all_pca = pca.transform(X)"
   ]
  },
  {
   "cell_type": "code",
   "execution_count": 21,
   "metadata": {
    "collapsed": false
   },
   "outputs": [
    {
     "data": {
      "text/html": [
       "<div>\n",
       "<table border=\"1\" class=\"dataframe\">\n",
       "  <thead>\n",
       "    <tr style=\"text-align: right;\">\n",
       "      <th></th>\n",
       "      <th>pca_1</th>\n",
       "      <th>pca_2</th>\n",
       "      <th>pca_3</th>\n",
       "    </tr>\n",
       "  </thead>\n",
       "  <tbody>\n",
       "    <tr>\n",
       "      <th>0</th>\n",
       "      <td>-0.448809</td>\n",
       "      <td>1.087570</td>\n",
       "      <td>-0.688542</td>\n",
       "    </tr>\n",
       "    <tr>\n",
       "      <th>1</th>\n",
       "      <td>-9.491030</td>\n",
       "      <td>-1.597040</td>\n",
       "      <td>2.134180</td>\n",
       "    </tr>\n",
       "    <tr>\n",
       "      <th>2</th>\n",
       "      <td>3.193847</td>\n",
       "      <td>0.813628</td>\n",
       "      <td>-0.060628</td>\n",
       "    </tr>\n",
       "    <tr>\n",
       "      <th>3</th>\n",
       "      <td>1.729576</td>\n",
       "      <td>0.734111</td>\n",
       "      <td>0.049023</td>\n",
       "    </tr>\n",
       "    <tr>\n",
       "      <th>4</th>\n",
       "      <td>-1.678727</td>\n",
       "      <td>2.671373</td>\n",
       "      <td>-0.147392</td>\n",
       "    </tr>\n",
       "  </tbody>\n",
       "</table>\n",
       "</div>"
      ],
      "text/plain": [
       "      pca_1     pca_2     pca_3\n",
       "0 -0.448809  1.087570 -0.688542\n",
       "1 -9.491030 -1.597040  2.134180\n",
       "2  3.193847  0.813628 -0.060628\n",
       "3  1.729576  0.734111  0.049023\n",
       "4 -1.678727  2.671373 -0.147392"
      ]
     },
     "execution_count": 21,
     "metadata": {},
     "output_type": "execute_result"
    }
   ],
   "source": [
    "X_all_pca = pd.DataFrame(X_all_pca)\n",
    "X_all_pca.columns = ['pca_1', 'pca_2', 'pca_3']\n",
    "X_all_pca.head()"
   ]
  },
  {
   "cell_type": "code",
   "execution_count": 22,
   "metadata": {
    "collapsed": true
   },
   "outputs": [],
   "source": [
    "\n",
    "X_all = X\n",
    "X_all['pca_1'] = X_all_pca['pca_1']\n",
    "X_all['pca_2'] = X_all_pca['pca_2']\n",
    "X_all['pca_3'] = X_all_pca['pca_3']"
   ]
  },
  {
   "cell_type": "code",
   "execution_count": 23,
   "metadata": {
    "collapsed": false
   },
   "outputs": [],
   "source": [
    "# First, decide how many training vs test samples you want\n",
    "num_all = X.shape[0]  # same as len(student_data)\n",
    "num_train = 662  # about 75% of the data\n",
    "num_test = num_all - num_train"
   ]
  },
  {
   "cell_type": "code",
   "execution_count": 24,
   "metadata": {
    "collapsed": false
   },
   "outputs": [
    {
     "data": {
      "text/plain": [
       "662"
      ]
     },
     "execution_count": 24,
     "metadata": {},
     "output_type": "execute_result"
    }
   ],
   "source": [
    "num_train"
   ]
  },
  {
   "cell_type": "code",
   "execution_count": 25,
   "metadata": {
    "collapsed": false
   },
   "outputs": [],
   "source": [
    "from sklearn import cross_validation\n",
    "\n",
    "\n",
    "\n",
    "def shuffle_split_data(X, y):\n",
    "    \"\"\" Shuffles and splits data into 75% training and 25% testing subsets,\n",
    "        then returns the training and testing subsets. \"\"\"\n",
    "    X_train, X_test, y_train, y_test = cross_validation.train_test_split(X, y, \n",
    "                                                                        train_size=num_train, random_state=42)\n",
    "    \n",
    "    \n",
    "    \n",
    "\n",
    "\n",
    "    # Return the training and testing data subsets\n",
    "    return X_train, y_train, X_test, y_test"
   ]
  },
  {
   "cell_type": "code",
   "execution_count": 26,
   "metadata": {
    "collapsed": false
   },
   "outputs": [
    {
     "name": "stdout",
     "output_type": "stream",
     "text": [
      "Successfully shuffled and split the data!\n",
      "Training set: 662 samples\n",
      "Test set: 220 samples\n"
     ]
    }
   ],
   "source": [
    "try:\n",
    "    X_train, y_train, X_test, y_test = shuffle_split_data(X, y)\n",
    "    print \"Successfully shuffled and split the data!\"\n",
    "except:\n",
    "    print \"Something went wrong with shuffling and splitting the data.\"\n",
    "\n",
    "\n",
    "print \"Training set: {} samples\".format(X_train.shape[0])\n",
    "print \"Test set: {} samples\".format(X_test.shape[0])\n",
    "# Note: If you need a validation set, extract it from within training data"
   ]
  },
  {
   "cell_type": "markdown",
   "metadata": {},
   "source": [
    "## Modeling and Validating\n",
    "\n",
    "\n"
   ]
  },
  {
   "cell_type": "markdown",
   "metadata": {},
   "source": [
    "I have created four separate tranches to investigate the data:\n",
    "- All features\n",
    "- All features with the addition of PCA transformed features\n",
    "- A reduced dataset of features\n",
    "- All features with the exception of gendered features removed"
   ]
  },
  {
   "cell_type": "code",
   "execution_count": 30,
   "metadata": {
    "collapsed": false
   },
   "outputs": [
    {
     "data": {
      "text/plain": [
       "292   -0.886242\n",
       "596    1.128360\n",
       "516   -0.886242\n",
       "447   -0.886242\n",
       "813    1.128360\n",
       "767   -0.886242\n",
       "212    1.128360\n",
       "837   -0.886242\n",
       "79     1.128360\n",
       "148   -0.886242\n",
       "417    1.128360\n",
       "519   -0.886242\n",
       "643    1.128360\n",
       "382   -0.886242\n",
       "617   -0.886242\n",
       "368   -0.886242\n",
       "433   -0.886242\n",
       "133   -0.886242\n",
       "846   -0.886242\n",
       "165    1.128360\n",
       "535   -0.886242\n",
       "55     1.128360\n",
       "734   -0.886242\n",
       "862    1.128360\n",
       "537   -0.886242\n",
       "359    1.128360\n",
       "457    1.128360\n",
       "204    1.128360\n",
       "603   -0.886242\n",
       "487   -0.886242\n",
       "         ...   \n",
       "160   -0.886242\n",
       "276    1.128360\n",
       "191    1.128360\n",
       "385   -0.886242\n",
       "805   -0.886242\n",
       "413    1.128360\n",
       "491   -0.886242\n",
       "343   -0.886242\n",
       "769   -0.886242\n",
       "308    1.128360\n",
       "661    1.128360\n",
       "130   -0.886242\n",
       "663   -0.886242\n",
       "99    -0.886242\n",
       "372    1.128360\n",
       "87     1.128360\n",
       "458   -0.886242\n",
       "330   -0.886242\n",
       "214   -0.886242\n",
       "466   -0.886242\n",
       "121   -0.886242\n",
       "614   -0.886242\n",
       "20     1.128360\n",
       "700    1.128360\n",
       "71     1.128360\n",
       "106   -0.886242\n",
       "270    1.128360\n",
       "860   -0.886242\n",
       "435   -0.886242\n",
       "102   -0.886242\n",
       "Name: gender_Female, dtype: float64"
      ]
     },
     "execution_count": 30,
     "metadata": {},
     "output_type": "execute_result"
    }
   ],
   "source": [
    "y_train"
   ]
  },
  {
   "cell_type": "markdown",
   "metadata": {},
   "source": [
    "## Train on all features"
   ]
  },
  {
   "cell_type": "code",
   "execution_count": 27,
   "metadata": {
    "collapsed": false
   },
   "outputs": [
    {
     "name": "stdout",
     "output_type": "stream",
     "text": [
      "\n",
      "Feature values:-\n",
      "       atcs_1    atcs_2    atcs_3    atcs_4    atcs_5    atcs_6    atcs_7  \\\n",
      "292  0.933881  0.880304  0.036764 -0.858727  0.352431  0.862523  1.064818   \n",
      "596  0.017660 -0.330972  0.036764  0.078646  0.352431 -0.147763  0.043982   \n",
      "516  0.933881  0.880304  0.963209 -0.858727  0.352431  0.862523  0.043982   \n",
      "447  0.017660 -0.330972  0.036764  1.016019  0.352431 -0.147763  0.043982   \n",
      "813  0.933881 -0.330972 -0.889682 -0.858727  0.352431  0.862523  0.043982   \n",
      "\n",
      "       atcs_8    atcs_9  atcsgender_1         ...             mtr_3    prcs_1  \\\n",
      "292 -0.319936 -0.084456     -0.421723         ...         -0.951298 -0.623680   \n",
      "596  0.587406 -0.084456     -0.421723         ...         -0.951298  1.603387   \n",
      "516  0.587406 -0.084456     -0.421723         ...         -0.951298 -0.623680   \n",
      "447  0.587406 -0.084456     -0.421723         ...          1.051195  1.603387   \n",
      "813  0.587406 -0.084456     -0.421723         ...          1.051195 -0.623680   \n",
      "\n",
      "       prcs_2    prcs_3    prcs_4    prcs_5  prepared  priorcs10  \\\n",
      "292 -0.915150 -0.632456 -0.830455 -0.828507 -1.075552  -0.217959   \n",
      "596  1.092717 -0.632456  1.204159  1.206990  0.430221  -0.217959   \n",
      "516 -0.915150 -0.632456 -0.830455 -0.828507 -0.322666  -0.217959   \n",
      "447  1.092717  1.581139  1.204159  1.206990  1.183107  -0.217959   \n",
      "813 -0.915150 -0.632456 -0.830455  1.206990 -0.322666   4.588028   \n",
      "\n",
      "     reason_class_Interested  reason_class_Other  \n",
      "292                 0.317999           -0.304855  \n",
      "596                 0.317999           -0.304855  \n",
      "516                 0.317999           -0.304855  \n",
      "447                 0.317999           -0.304855  \n",
      "813                 0.317999           -0.304855  \n",
      "\n",
      "[5 rows x 45 columns]\n"
     ]
    }
   ],
   "source": [
    "X = X_train.drop(['pca_1','pca_2','pca_3'], axis=1, inplace=False)\n",
    "print \"\\nFeature values:-\"\n",
    "print X.head() "
   ]
  },
  {
   "cell_type": "code",
   "execution_count": 28,
   "metadata": {
    "collapsed": true
   },
   "outputs": [],
   "source": [
    "\n",
    "import xgboost as xgb\n",
    "from xgboost import XGBClassifier\n",
    "from sklearn.metrics import accuracy_score, precision_score, recall_score\n",
    "from sklearn.cross_validation import StratifiedKFold\n",
    "from sklearn.cross_validation import cross_val_score\n",
    "\n",
    "\n",
    "models = {\n",
    "          'XGBoost': XGBClassifier()\n",
    "         }\n"
   ]
  },
  {
   "cell_type": "code",
   "execution_count": 29,
   "metadata": {
    "collapsed": false
   },
   "outputs": [
    {
     "name": "stdout",
     "output_type": "stream",
     "text": [
      "XGBoost\n"
     ]
    },
    {
     "ename": "ValueError",
     "evalue": "continuous is not supported",
     "output_type": "error",
     "traceback": [
      "\u001b[0;31m---------------------------------------------------------------------------\u001b[0m",
      "\u001b[0;31mValueError\u001b[0m                                Traceback (most recent call last)",
      "\u001b[0;32m<ipython-input-29-72bba70ea07d>\u001b[0m in \u001b[0;36m<module>\u001b[0;34m()\u001b[0m\n\u001b[1;32m      2\u001b[0m     \u001b[0;32mprint\u001b[0m \u001b[0mmodel_name\u001b[0m\u001b[0;34m\u001b[0m\u001b[0m\n\u001b[1;32m      3\u001b[0m     \u001b[0mkfold\u001b[0m \u001b[0;34m=\u001b[0m \u001b[0mStratifiedKFold\u001b[0m\u001b[0;34m(\u001b[0m\u001b[0my_train\u001b[0m\u001b[0;34m,\u001b[0m \u001b[0mn_folds\u001b[0m\u001b[0;34m=\u001b[0m\u001b[0;36m50\u001b[0m\u001b[0;34m,\u001b[0m \u001b[0mrandom_state\u001b[0m\u001b[0;34m=\u001b[0m\u001b[0;36m7\u001b[0m\u001b[0;34m)\u001b[0m\u001b[0;34m\u001b[0m\u001b[0m\n\u001b[0;32m----> 4\u001b[0;31m     \u001b[0mresults\u001b[0m \u001b[0;34m=\u001b[0m \u001b[0mcross_val_score\u001b[0m\u001b[0;34m(\u001b[0m\u001b[0mmodel\u001b[0m\u001b[0;34m,\u001b[0m \u001b[0mX\u001b[0m\u001b[0;34m,\u001b[0m \u001b[0my_train\u001b[0m\u001b[0;34m,\u001b[0m \u001b[0mcv\u001b[0m\u001b[0;34m=\u001b[0m\u001b[0mkfold\u001b[0m\u001b[0;34m)\u001b[0m\u001b[0;34m\u001b[0m\u001b[0m\n\u001b[0m\u001b[1;32m      5\u001b[0m     \u001b[0;32mprint\u001b[0m\u001b[0;34m(\u001b[0m\u001b[0;34m\"Accuracy: %.2f%% (%.2f%%)\"\u001b[0m \u001b[0;34m%\u001b[0m \u001b[0;34m(\u001b[0m\u001b[0mresults\u001b[0m\u001b[0;34m.\u001b[0m\u001b[0mmean\u001b[0m\u001b[0;34m(\u001b[0m\u001b[0;34m)\u001b[0m\u001b[0;34m*\u001b[0m\u001b[0;36m100\u001b[0m\u001b[0;34m,\u001b[0m \u001b[0mresults\u001b[0m\u001b[0;34m.\u001b[0m\u001b[0mstd\u001b[0m\u001b[0;34m(\u001b[0m\u001b[0;34m)\u001b[0m\u001b[0;34m*\u001b[0m\u001b[0;36m100\u001b[0m\u001b[0;34m)\u001b[0m\u001b[0;34m)\u001b[0m\u001b[0;34m,\u001b[0m \u001b[0;34m'\\n'\u001b[0m\u001b[0;34m\u001b[0m\u001b[0m\n\u001b[1;32m      6\u001b[0m \u001b[0;34m\u001b[0m\u001b[0m\n",
      "\u001b[0;32m/Users/omojumiller/anaconda/lib/python2.7/site-packages/sklearn/cross_validation.pyc\u001b[0m in \u001b[0;36mcross_val_score\u001b[0;34m(estimator, X, y, scoring, cv, n_jobs, verbose, fit_params, pre_dispatch)\u001b[0m\n\u001b[1;32m   1431\u001b[0m                                               \u001b[0mtrain\u001b[0m\u001b[0;34m,\u001b[0m \u001b[0mtest\u001b[0m\u001b[0;34m,\u001b[0m \u001b[0mverbose\u001b[0m\u001b[0;34m,\u001b[0m \u001b[0mNone\u001b[0m\u001b[0;34m,\u001b[0m\u001b[0;34m\u001b[0m\u001b[0m\n\u001b[1;32m   1432\u001b[0m                                               fit_params)\n\u001b[0;32m-> 1433\u001b[0;31m                       for train, test in cv)\n\u001b[0m\u001b[1;32m   1434\u001b[0m     \u001b[0;32mreturn\u001b[0m \u001b[0mnp\u001b[0m\u001b[0;34m.\u001b[0m\u001b[0marray\u001b[0m\u001b[0;34m(\u001b[0m\u001b[0mscores\u001b[0m\u001b[0;34m)\u001b[0m\u001b[0;34m[\u001b[0m\u001b[0;34m:\u001b[0m\u001b[0;34m,\u001b[0m \u001b[0;36m0\u001b[0m\u001b[0;34m]\u001b[0m\u001b[0;34m\u001b[0m\u001b[0m\n\u001b[1;32m   1435\u001b[0m \u001b[0;34m\u001b[0m\u001b[0m\n",
      "\u001b[0;32m/Users/omojumiller/anaconda/lib/python2.7/site-packages/sklearn/externals/joblib/parallel.pyc\u001b[0m in \u001b[0;36m__call__\u001b[0;34m(self, iterable)\u001b[0m\n\u001b[1;32m    798\u001b[0m             \u001b[0;31m# was dispatched. In particular this covers the edge\u001b[0m\u001b[0;34m\u001b[0m\u001b[0;34m\u001b[0m\u001b[0m\n\u001b[1;32m    799\u001b[0m             \u001b[0;31m# case of Parallel used with an exhausted iterator.\u001b[0m\u001b[0;34m\u001b[0m\u001b[0;34m\u001b[0m\u001b[0m\n\u001b[0;32m--> 800\u001b[0;31m             \u001b[0;32mwhile\u001b[0m \u001b[0mself\u001b[0m\u001b[0;34m.\u001b[0m\u001b[0mdispatch_one_batch\u001b[0m\u001b[0;34m(\u001b[0m\u001b[0miterator\u001b[0m\u001b[0;34m)\u001b[0m\u001b[0;34m:\u001b[0m\u001b[0;34m\u001b[0m\u001b[0m\n\u001b[0m\u001b[1;32m    801\u001b[0m                 \u001b[0mself\u001b[0m\u001b[0;34m.\u001b[0m\u001b[0m_iterating\u001b[0m \u001b[0;34m=\u001b[0m \u001b[0mTrue\u001b[0m\u001b[0;34m\u001b[0m\u001b[0m\n\u001b[1;32m    802\u001b[0m             \u001b[0;32melse\u001b[0m\u001b[0;34m:\u001b[0m\u001b[0;34m\u001b[0m\u001b[0m\n",
      "\u001b[0;32m/Users/omojumiller/anaconda/lib/python2.7/site-packages/sklearn/externals/joblib/parallel.pyc\u001b[0m in \u001b[0;36mdispatch_one_batch\u001b[0;34m(self, iterator)\u001b[0m\n\u001b[1;32m    656\u001b[0m                 \u001b[0;32mreturn\u001b[0m \u001b[0mFalse\u001b[0m\u001b[0;34m\u001b[0m\u001b[0m\n\u001b[1;32m    657\u001b[0m             \u001b[0;32melse\u001b[0m\u001b[0;34m:\u001b[0m\u001b[0;34m\u001b[0m\u001b[0m\n\u001b[0;32m--> 658\u001b[0;31m                 \u001b[0mself\u001b[0m\u001b[0;34m.\u001b[0m\u001b[0m_dispatch\u001b[0m\u001b[0;34m(\u001b[0m\u001b[0mtasks\u001b[0m\u001b[0;34m)\u001b[0m\u001b[0;34m\u001b[0m\u001b[0m\n\u001b[0m\u001b[1;32m    659\u001b[0m                 \u001b[0;32mreturn\u001b[0m \u001b[0mTrue\u001b[0m\u001b[0;34m\u001b[0m\u001b[0m\n\u001b[1;32m    660\u001b[0m \u001b[0;34m\u001b[0m\u001b[0m\n",
      "\u001b[0;32m/Users/omojumiller/anaconda/lib/python2.7/site-packages/sklearn/externals/joblib/parallel.pyc\u001b[0m in \u001b[0;36m_dispatch\u001b[0;34m(self, batch)\u001b[0m\n\u001b[1;32m    564\u001b[0m \u001b[0;34m\u001b[0m\u001b[0m\n\u001b[1;32m    565\u001b[0m         \u001b[0;32mif\u001b[0m \u001b[0mself\u001b[0m\u001b[0;34m.\u001b[0m\u001b[0m_pool\u001b[0m \u001b[0;32mis\u001b[0m \u001b[0mNone\u001b[0m\u001b[0;34m:\u001b[0m\u001b[0;34m\u001b[0m\u001b[0m\n\u001b[0;32m--> 566\u001b[0;31m             \u001b[0mjob\u001b[0m \u001b[0;34m=\u001b[0m \u001b[0mImmediateComputeBatch\u001b[0m\u001b[0;34m(\u001b[0m\u001b[0mbatch\u001b[0m\u001b[0;34m)\u001b[0m\u001b[0;34m\u001b[0m\u001b[0m\n\u001b[0m\u001b[1;32m    567\u001b[0m             \u001b[0mself\u001b[0m\u001b[0;34m.\u001b[0m\u001b[0m_jobs\u001b[0m\u001b[0;34m.\u001b[0m\u001b[0mappend\u001b[0m\u001b[0;34m(\u001b[0m\u001b[0mjob\u001b[0m\u001b[0;34m)\u001b[0m\u001b[0;34m\u001b[0m\u001b[0m\n\u001b[1;32m    568\u001b[0m             \u001b[0mself\u001b[0m\u001b[0;34m.\u001b[0m\u001b[0mn_dispatched_batches\u001b[0m \u001b[0;34m+=\u001b[0m \u001b[0;36m1\u001b[0m\u001b[0;34m\u001b[0m\u001b[0m\n",
      "\u001b[0;32m/Users/omojumiller/anaconda/lib/python2.7/site-packages/sklearn/externals/joblib/parallel.pyc\u001b[0m in \u001b[0;36m__init__\u001b[0;34m(self, batch)\u001b[0m\n\u001b[1;32m    178\u001b[0m         \u001b[0;31m# Don't delay the application, to avoid keeping the input\u001b[0m\u001b[0;34m\u001b[0m\u001b[0;34m\u001b[0m\u001b[0m\n\u001b[1;32m    179\u001b[0m         \u001b[0;31m# arguments in memory\u001b[0m\u001b[0;34m\u001b[0m\u001b[0;34m\u001b[0m\u001b[0m\n\u001b[0;32m--> 180\u001b[0;31m         \u001b[0mself\u001b[0m\u001b[0;34m.\u001b[0m\u001b[0mresults\u001b[0m \u001b[0;34m=\u001b[0m \u001b[0mbatch\u001b[0m\u001b[0;34m(\u001b[0m\u001b[0;34m)\u001b[0m\u001b[0;34m\u001b[0m\u001b[0m\n\u001b[0m\u001b[1;32m    181\u001b[0m \u001b[0;34m\u001b[0m\u001b[0m\n\u001b[1;32m    182\u001b[0m     \u001b[0;32mdef\u001b[0m \u001b[0mget\u001b[0m\u001b[0;34m(\u001b[0m\u001b[0mself\u001b[0m\u001b[0;34m)\u001b[0m\u001b[0;34m:\u001b[0m\u001b[0;34m\u001b[0m\u001b[0m\n",
      "\u001b[0;32m/Users/omojumiller/anaconda/lib/python2.7/site-packages/sklearn/externals/joblib/parallel.pyc\u001b[0m in \u001b[0;36m__call__\u001b[0;34m(self)\u001b[0m\n\u001b[1;32m     70\u001b[0m \u001b[0;34m\u001b[0m\u001b[0m\n\u001b[1;32m     71\u001b[0m     \u001b[0;32mdef\u001b[0m \u001b[0m__call__\u001b[0m\u001b[0;34m(\u001b[0m\u001b[0mself\u001b[0m\u001b[0;34m)\u001b[0m\u001b[0;34m:\u001b[0m\u001b[0;34m\u001b[0m\u001b[0m\n\u001b[0;32m---> 72\u001b[0;31m         \u001b[0;32mreturn\u001b[0m \u001b[0;34m[\u001b[0m\u001b[0mfunc\u001b[0m\u001b[0;34m(\u001b[0m\u001b[0;34m*\u001b[0m\u001b[0margs\u001b[0m\u001b[0;34m,\u001b[0m \u001b[0;34m**\u001b[0m\u001b[0mkwargs\u001b[0m\u001b[0;34m)\u001b[0m \u001b[0;32mfor\u001b[0m \u001b[0mfunc\u001b[0m\u001b[0;34m,\u001b[0m \u001b[0margs\u001b[0m\u001b[0;34m,\u001b[0m \u001b[0mkwargs\u001b[0m \u001b[0;32min\u001b[0m \u001b[0mself\u001b[0m\u001b[0;34m.\u001b[0m\u001b[0mitems\u001b[0m\u001b[0;34m]\u001b[0m\u001b[0;34m\u001b[0m\u001b[0m\n\u001b[0m\u001b[1;32m     73\u001b[0m \u001b[0;34m\u001b[0m\u001b[0m\n\u001b[1;32m     74\u001b[0m     \u001b[0;32mdef\u001b[0m \u001b[0m__len__\u001b[0m\u001b[0;34m(\u001b[0m\u001b[0mself\u001b[0m\u001b[0;34m)\u001b[0m\u001b[0;34m:\u001b[0m\u001b[0;34m\u001b[0m\u001b[0m\n",
      "\u001b[0;32m/Users/omojumiller/anaconda/lib/python2.7/site-packages/sklearn/cross_validation.pyc\u001b[0m in \u001b[0;36m_fit_and_score\u001b[0;34m(estimator, X, y, scorer, train, test, verbose, parameters, fit_params, return_train_score, return_parameters, error_score)\u001b[0m\n\u001b[1;32m   1548\u001b[0m \u001b[0;34m\u001b[0m\u001b[0m\n\u001b[1;32m   1549\u001b[0m     \u001b[0;32melse\u001b[0m\u001b[0;34m:\u001b[0m\u001b[0;34m\u001b[0m\u001b[0m\n\u001b[0;32m-> 1550\u001b[0;31m         \u001b[0mtest_score\u001b[0m \u001b[0;34m=\u001b[0m \u001b[0m_score\u001b[0m\u001b[0;34m(\u001b[0m\u001b[0mestimator\u001b[0m\u001b[0;34m,\u001b[0m \u001b[0mX_test\u001b[0m\u001b[0;34m,\u001b[0m \u001b[0my_test\u001b[0m\u001b[0;34m,\u001b[0m \u001b[0mscorer\u001b[0m\u001b[0;34m)\u001b[0m\u001b[0;34m\u001b[0m\u001b[0m\n\u001b[0m\u001b[1;32m   1551\u001b[0m         \u001b[0;32mif\u001b[0m \u001b[0mreturn_train_score\u001b[0m\u001b[0;34m:\u001b[0m\u001b[0;34m\u001b[0m\u001b[0m\n\u001b[1;32m   1552\u001b[0m             \u001b[0mtrain_score\u001b[0m \u001b[0;34m=\u001b[0m \u001b[0m_score\u001b[0m\u001b[0;34m(\u001b[0m\u001b[0mestimator\u001b[0m\u001b[0;34m,\u001b[0m \u001b[0mX_train\u001b[0m\u001b[0;34m,\u001b[0m \u001b[0my_train\u001b[0m\u001b[0;34m,\u001b[0m \u001b[0mscorer\u001b[0m\u001b[0;34m)\u001b[0m\u001b[0;34m\u001b[0m\u001b[0m\n",
      "\u001b[0;32m/Users/omojumiller/anaconda/lib/python2.7/site-packages/sklearn/cross_validation.pyc\u001b[0m in \u001b[0;36m_score\u001b[0;34m(estimator, X_test, y_test, scorer)\u001b[0m\n\u001b[1;32m   1604\u001b[0m         \u001b[0mscore\u001b[0m \u001b[0;34m=\u001b[0m \u001b[0mscorer\u001b[0m\u001b[0;34m(\u001b[0m\u001b[0mestimator\u001b[0m\u001b[0;34m,\u001b[0m \u001b[0mX_test\u001b[0m\u001b[0;34m)\u001b[0m\u001b[0;34m\u001b[0m\u001b[0m\n\u001b[1;32m   1605\u001b[0m     \u001b[0;32melse\u001b[0m\u001b[0;34m:\u001b[0m\u001b[0;34m\u001b[0m\u001b[0m\n\u001b[0;32m-> 1606\u001b[0;31m         \u001b[0mscore\u001b[0m \u001b[0;34m=\u001b[0m \u001b[0mscorer\u001b[0m\u001b[0;34m(\u001b[0m\u001b[0mestimator\u001b[0m\u001b[0;34m,\u001b[0m \u001b[0mX_test\u001b[0m\u001b[0;34m,\u001b[0m \u001b[0my_test\u001b[0m\u001b[0;34m)\u001b[0m\u001b[0;34m\u001b[0m\u001b[0m\n\u001b[0m\u001b[1;32m   1607\u001b[0m     \u001b[0;32mif\u001b[0m \u001b[0;32mnot\u001b[0m \u001b[0misinstance\u001b[0m\u001b[0;34m(\u001b[0m\u001b[0mscore\u001b[0m\u001b[0;34m,\u001b[0m \u001b[0mnumbers\u001b[0m\u001b[0;34m.\u001b[0m\u001b[0mNumber\u001b[0m\u001b[0;34m)\u001b[0m\u001b[0;34m:\u001b[0m\u001b[0;34m\u001b[0m\u001b[0m\n\u001b[1;32m   1608\u001b[0m         raise ValueError(\"scoring must return a number, got %s (%s) instead.\"\n",
      "\u001b[0;32m/Users/omojumiller/anaconda/lib/python2.7/site-packages/sklearn/metrics/scorer.pyc\u001b[0m in \u001b[0;36m_passthrough_scorer\u001b[0;34m(estimator, *args, **kwargs)\u001b[0m\n\u001b[1;32m    203\u001b[0m \u001b[0;32mdef\u001b[0m \u001b[0m_passthrough_scorer\u001b[0m\u001b[0;34m(\u001b[0m\u001b[0mestimator\u001b[0m\u001b[0;34m,\u001b[0m \u001b[0;34m*\u001b[0m\u001b[0margs\u001b[0m\u001b[0;34m,\u001b[0m \u001b[0;34m**\u001b[0m\u001b[0mkwargs\u001b[0m\u001b[0;34m)\u001b[0m\u001b[0;34m:\u001b[0m\u001b[0;34m\u001b[0m\u001b[0m\n\u001b[1;32m    204\u001b[0m     \u001b[0;34m\"\"\"Function that wraps estimator.score\"\"\"\u001b[0m\u001b[0;34m\u001b[0m\u001b[0m\n\u001b[0;32m--> 205\u001b[0;31m     \u001b[0;32mreturn\u001b[0m \u001b[0mestimator\u001b[0m\u001b[0;34m.\u001b[0m\u001b[0mscore\u001b[0m\u001b[0;34m(\u001b[0m\u001b[0;34m*\u001b[0m\u001b[0margs\u001b[0m\u001b[0;34m,\u001b[0m \u001b[0;34m**\u001b[0m\u001b[0mkwargs\u001b[0m\u001b[0;34m)\u001b[0m\u001b[0;34m\u001b[0m\u001b[0m\n\u001b[0m\u001b[1;32m    206\u001b[0m \u001b[0;34m\u001b[0m\u001b[0m\n\u001b[1;32m    207\u001b[0m \u001b[0;34m\u001b[0m\u001b[0m\n",
      "\u001b[0;32m/Users/omojumiller/anaconda/lib/python2.7/site-packages/sklearn/base.pyc\u001b[0m in \u001b[0;36mscore\u001b[0;34m(self, X, y, sample_weight)\u001b[0m\n\u001b[1;32m    308\u001b[0m         \"\"\"\n\u001b[1;32m    309\u001b[0m         \u001b[0;32mfrom\u001b[0m \u001b[0;34m.\u001b[0m\u001b[0mmetrics\u001b[0m \u001b[0;32mimport\u001b[0m \u001b[0maccuracy_score\u001b[0m\u001b[0;34m\u001b[0m\u001b[0m\n\u001b[0;32m--> 310\u001b[0;31m         \u001b[0;32mreturn\u001b[0m \u001b[0maccuracy_score\u001b[0m\u001b[0;34m(\u001b[0m\u001b[0my\u001b[0m\u001b[0;34m,\u001b[0m \u001b[0mself\u001b[0m\u001b[0;34m.\u001b[0m\u001b[0mpredict\u001b[0m\u001b[0;34m(\u001b[0m\u001b[0mX\u001b[0m\u001b[0;34m)\u001b[0m\u001b[0;34m,\u001b[0m \u001b[0msample_weight\u001b[0m\u001b[0;34m=\u001b[0m\u001b[0msample_weight\u001b[0m\u001b[0;34m)\u001b[0m\u001b[0;34m\u001b[0m\u001b[0m\n\u001b[0m\u001b[1;32m    311\u001b[0m \u001b[0;34m\u001b[0m\u001b[0m\n\u001b[1;32m    312\u001b[0m \u001b[0;34m\u001b[0m\u001b[0m\n",
      "\u001b[0;32m/Users/omojumiller/anaconda/lib/python2.7/site-packages/sklearn/metrics/classification.pyc\u001b[0m in \u001b[0;36maccuracy_score\u001b[0;34m(y_true, y_pred, normalize, sample_weight)\u001b[0m\n\u001b[1;32m    170\u001b[0m \u001b[0;34m\u001b[0m\u001b[0m\n\u001b[1;32m    171\u001b[0m     \u001b[0;31m# Compute accuracy for each possible representation\u001b[0m\u001b[0;34m\u001b[0m\u001b[0;34m\u001b[0m\u001b[0m\n\u001b[0;32m--> 172\u001b[0;31m     \u001b[0my_type\u001b[0m\u001b[0;34m,\u001b[0m \u001b[0my_true\u001b[0m\u001b[0;34m,\u001b[0m \u001b[0my_pred\u001b[0m \u001b[0;34m=\u001b[0m \u001b[0m_check_targets\u001b[0m\u001b[0;34m(\u001b[0m\u001b[0my_true\u001b[0m\u001b[0;34m,\u001b[0m \u001b[0my_pred\u001b[0m\u001b[0;34m)\u001b[0m\u001b[0;34m\u001b[0m\u001b[0m\n\u001b[0m\u001b[1;32m    173\u001b[0m     \u001b[0;32mif\u001b[0m \u001b[0my_type\u001b[0m\u001b[0;34m.\u001b[0m\u001b[0mstartswith\u001b[0m\u001b[0;34m(\u001b[0m\u001b[0;34m'multilabel'\u001b[0m\u001b[0;34m)\u001b[0m\u001b[0;34m:\u001b[0m\u001b[0;34m\u001b[0m\u001b[0m\n\u001b[1;32m    174\u001b[0m         \u001b[0mdiffering_labels\u001b[0m \u001b[0;34m=\u001b[0m \u001b[0mcount_nonzero\u001b[0m\u001b[0;34m(\u001b[0m\u001b[0my_true\u001b[0m \u001b[0;34m-\u001b[0m \u001b[0my_pred\u001b[0m\u001b[0;34m,\u001b[0m \u001b[0maxis\u001b[0m\u001b[0;34m=\u001b[0m\u001b[0;36m1\u001b[0m\u001b[0;34m)\u001b[0m\u001b[0;34m\u001b[0m\u001b[0m\n",
      "\u001b[0;32m/Users/omojumiller/anaconda/lib/python2.7/site-packages/sklearn/metrics/classification.pyc\u001b[0m in \u001b[0;36m_check_targets\u001b[0;34m(y_true, y_pred)\u001b[0m\n\u001b[1;32m     87\u001b[0m     \u001b[0;31m# No metrics support \"multiclass-multioutput\" format\u001b[0m\u001b[0;34m\u001b[0m\u001b[0;34m\u001b[0m\u001b[0m\n\u001b[1;32m     88\u001b[0m     \u001b[0;32mif\u001b[0m \u001b[0;34m(\u001b[0m\u001b[0my_type\u001b[0m \u001b[0;32mnot\u001b[0m \u001b[0;32min\u001b[0m \u001b[0;34m[\u001b[0m\u001b[0;34m\"binary\"\u001b[0m\u001b[0;34m,\u001b[0m \u001b[0;34m\"multiclass\"\u001b[0m\u001b[0;34m,\u001b[0m \u001b[0;34m\"multilabel-indicator\"\u001b[0m\u001b[0;34m]\u001b[0m\u001b[0;34m)\u001b[0m\u001b[0;34m:\u001b[0m\u001b[0;34m\u001b[0m\u001b[0m\n\u001b[0;32m---> 89\u001b[0;31m         \u001b[0;32mraise\u001b[0m \u001b[0mValueError\u001b[0m\u001b[0;34m(\u001b[0m\u001b[0;34m\"{0} is not supported\"\u001b[0m\u001b[0;34m.\u001b[0m\u001b[0mformat\u001b[0m\u001b[0;34m(\u001b[0m\u001b[0my_type\u001b[0m\u001b[0;34m)\u001b[0m\u001b[0;34m)\u001b[0m\u001b[0;34m\u001b[0m\u001b[0m\n\u001b[0m\u001b[1;32m     90\u001b[0m \u001b[0;34m\u001b[0m\u001b[0m\n\u001b[1;32m     91\u001b[0m     \u001b[0;32mif\u001b[0m \u001b[0my_type\u001b[0m \u001b[0;32min\u001b[0m \u001b[0;34m[\u001b[0m\u001b[0;34m\"binary\"\u001b[0m\u001b[0;34m,\u001b[0m \u001b[0;34m\"multiclass\"\u001b[0m\u001b[0;34m]\u001b[0m\u001b[0;34m:\u001b[0m\u001b[0;34m\u001b[0m\u001b[0m\n",
      "\u001b[0;31mValueError\u001b[0m: continuous is not supported"
     ]
    }
   ],
   "source": [
    "for model_name, model in models.iteritems():\n",
    "    print model_name\n",
    "    kfold = StratifiedKFold(y_train, n_folds=50, random_state=7)\n",
    "    results = cross_val_score(model, X, y_train, cv=kfold)\n",
    "    print(\"Accuracy: %.2f%% (%.2f%%)\" % (results.mean()*100, results.std()*100)), '\\n'\n",
    "    "
   ]
  },
  {
   "cell_type": "code",
   "execution_count": null,
   "metadata": {
    "collapsed": false
   },
   "outputs": [],
   "source": [
    "print model"
   ]
  },
  {
   "cell_type": "code",
   "execution_count": null,
   "metadata": {
    "collapsed": false
   },
   "outputs": [],
   "source": [
    "model.fit(X, y_train)\n",
    "g = xgb.to_graphviz(model, rankdir='LR')\n",
    "g.render('report/figures/X_graph.gv', view=True)\n",
    "    "
   ]
  },
  {
   "cell_type": "markdown",
   "metadata": {},
   "source": [
    "### Predict "
   ]
  },
  {
   "cell_type": "code",
   "execution_count": null,
   "metadata": {
    "collapsed": false
   },
   "outputs": [],
   "source": [
    "Features_test = X_test.drop(['pca_1','pca_2','pca_3'], axis=1, inplace=False)\n",
    "\n",
    "\n",
    "# make predictions for test data\n",
    "y_pred = model.predict(Features_test)\n",
    "predictions = [round(value) for value in y_pred]\n",
    "# evaluate predictions\n",
    "accuracy = accuracy_score(y_test, predictions)\n",
    "print(\"Accuracy: %.2f%%\" % (accuracy * 100.0))"
   ]
  },
  {
   "cell_type": "markdown",
   "metadata": {},
   "source": [
    "#### Generate Features from XGBoost classifier "
   ]
  },
  {
   "cell_type": "code",
   "execution_count": null,
   "metadata": {
    "collapsed": false
   },
   "outputs": [],
   "source": [
    "# plot feature importance\n",
    "from xgboost import plot_importance\n",
    "\n",
    "\n",
    "model.fit(X, y_train)\n",
    "plot_importance(model)\n",
    "pyplot.show()"
   ]
  },
  {
   "cell_type": "markdown",
   "metadata": {},
   "source": [
    "## Train on a reduced set of features"
   ]
  },
  {
   "cell_type": "code",
   "execution_count": null,
   "metadata": {
    "collapsed": false
   },
   "outputs": [],
   "source": [
    "# Extract feature (X) and target (y) columns\n",
    "\n",
    "\n",
    "X_all_Reduced = X_train[['pca_2', 'pca_3', 'pca_1', \n",
    "                'atcsgender_2', 'atcsgender_3', \n",
    "                'atcs_1', 'atcs_8',\n",
    "                'cltrcmp_2', 'atcsjob_2', 'clet_2', 'atct_3',\n",
    "                'blg_1', 'atcsgender_1']]\n",
    "\n",
    "\n",
    "print \"\\nFeature values:-\"\n",
    "print X_all_Reduced.head()  "
   ]
  },
  {
   "cell_type": "code",
   "execution_count": null,
   "metadata": {
    "collapsed": false
   },
   "outputs": [],
   "source": [
    "for model_name, model in models.iteritems():\n",
    "    print model_name\n",
    "    kfold = StratifiedKFold(y_train, n_folds=50, random_state=7)\n",
    "    results = cross_val_score(model, X_all_Reduced, y_train, cv=kfold)\n",
    "    print(\"Accuracy: %.2f%% (%.2f%%)\" % (results.mean()*100, results.std()*100)), '\\n'\n",
    "\n"
   ]
  },
  {
   "cell_type": "code",
   "execution_count": null,
   "metadata": {
    "collapsed": false
   },
   "outputs": [],
   "source": [
    "model.fit(X_all_Reduced, y_train)\n",
    "g = xgb.to_graphviz(model, rankdir='LR')\n",
    "g.render('report/figures/X_all_Reduced_graph.gv', view=True)"
   ]
  },
  {
   "cell_type": "code",
   "execution_count": null,
   "metadata": {
    "collapsed": false
   },
   "outputs": [],
   "source": [
    "Features_test = X_test[['pca_2', 'pca_3', 'pca_1', \n",
    "                'atcsgender_2', 'atcsgender_3', \n",
    "                'atcs_1', 'atcs_8',\n",
    "                'cltrcmp_2', 'atcsjob_2', 'clet_2', 'atct_3',\n",
    "                'blg_1', 'atcsgender_1']]\n",
    "\n",
    "\n",
    "# make predictions for test data\n",
    "y_pred = model.predict(Features_test)\n",
    "predictions = [round(value) for value in y_pred]\n",
    "# evaluate predictions\n",
    "accuracy = accuracy_score(y_test, predictions)\n",
    "print(\"Accuracy: %.2f%%\" % (accuracy * 100.0))"
   ]
  },
  {
   "cell_type": "markdown",
   "metadata": {},
   "source": [
    "## Train on features with the exception of gendered features "
   ]
  },
  {
   "cell_type": "code",
   "execution_count": null,
   "metadata": {
    "collapsed": false
   },
   "outputs": [],
   "source": [
    "X_all_No_Gender = X_train.drop(['pca_1','pca_2','pca_3','atcsgender_1','atcsgender_2','atcsgender_3',], \n",
    "                            axis=1, inplace=False)\n",
    "\n",
    "\n",
    "print \"\\nFeature values:-\"\n",
    "print X_all_No_Gender.head()  "
   ]
  },
  {
   "cell_type": "code",
   "execution_count": null,
   "metadata": {
    "collapsed": false
   },
   "outputs": [],
   "source": [
    "for model_name, model in models.iteritems():\n",
    "    print model_name\n",
    "    kfold = StratifiedKFold(y_train, n_folds=50, random_state=7)\n",
    "    results = cross_val_score(model, X_all_No_Gender, y_train, cv=kfold)\n",
    "    print(\"Accuracy: %.2f%% (%.2f%%)\" % (results.mean()*100, results.std()*100)), '\\n'\n"
   ]
  },
  {
   "cell_type": "code",
   "execution_count": null,
   "metadata": {
    "collapsed": false
   },
   "outputs": [],
   "source": [
    "model.fit(X_all_No_Gender, y_train)\n",
    "g = xgb.to_graphviz(model, rankdir='LR')\n",
    "g.render('report/figures/X_all_No_Gender_graph.gv', view=True)"
   ]
  },
  {
   "cell_type": "code",
   "execution_count": null,
   "metadata": {
    "collapsed": false
   },
   "outputs": [],
   "source": [
    "Features_test = X_test.drop(['pca_1','pca_2','pca_3','atcsgender_1','atcsgender_2','atcsgender_3',], \n",
    "                            axis=1, inplace=False)\n",
    "\n",
    "\n",
    "# make predictions for test data\n",
    "y_pred = model.predict(Features_test)\n",
    "predictions = [round(value) for value in y_pred]\n",
    "# evaluate predictions\n",
    "accuracy = accuracy_score(y_test, predictions)\n",
    "print(\"Accuracy: %.2f%%\" % (accuracy * 100.0))"
   ]
  },
  {
   "cell_type": "markdown",
   "metadata": {},
   "source": [
    "## Train on all data including PCA"
   ]
  },
  {
   "cell_type": "code",
   "execution_count": null,
   "metadata": {
    "collapsed": false
   },
   "outputs": [],
   "source": [
    "X_all = X_train\n",
    "\n",
    "\n",
    "print \"\\nFeature values:-\"\n",
    "print X_all.head()  "
   ]
  },
  {
   "cell_type": "code",
   "execution_count": null,
   "metadata": {
    "collapsed": false
   },
   "outputs": [],
   "source": [
    "for model_name, model in models.iteritems():\n",
    "    print model_name\n",
    "    kfold = StratifiedKFold(y_train, n_folds=50, random_state=7)\n",
    "    results = cross_val_score(model, X_all, y_train, cv=kfold)\n",
    "    print(\"Accuracy: %.2f%% (%.2f%%)\" % (results.mean()*100, results.std()*100)), '\\n'\n"
   ]
  },
  {
   "cell_type": "code",
   "execution_count": null,
   "metadata": {
    "collapsed": false
   },
   "outputs": [],
   "source": [
    "model.fit(X_all, y_train)\n",
    "g = xgb.to_graphviz(model, rankdir='LR')\n",
    "g.render('report/figures/X_all_graph.gv', view=True)"
   ]
  },
  {
   "cell_type": "code",
   "execution_count": null,
   "metadata": {
    "collapsed": false
   },
   "outputs": [],
   "source": [
    "Features_test = X_test\n",
    "\n",
    "\n",
    "# make predictions for test data\n",
    "y_pred = model.predict(Features_test)\n",
    "predictions = [round(value) for value in y_pred]\n",
    "# evaluate predictions\n",
    "accuracy = accuracy_score(y_test, predictions)\n",
    "print(\"Accuracy: %.2f%%\" % (accuracy * 100.0))"
   ]
  },
  {
   "cell_type": "code",
   "execution_count": null,
   "metadata": {
    "collapsed": true
   },
   "outputs": [],
   "source": []
  },
  {
   "cell_type": "markdown",
   "metadata": {},
   "source": [
    "## Investigate important features"
   ]
  },
  {
   "cell_type": "code",
   "execution_count": null,
   "metadata": {
    "collapsed": false
   },
   "outputs": [],
   "source": [
    "\n",
    "pre_males = dataset.query('gender_Female == 0')\n",
    "pre_males = pre_males[['atcs_1']]\n",
    "\n",
    "axes = pre_males.plot.hist()\n",
    "axes.set_xlabel('Male Students')\n",
    "axes.set_title('Measurement of atcs_1:\"I like to use computer science to solve problems\"')\n",
    "axes.set_yticks(np.arange(0, 300, 50))\n",
    "\n",
    "\n",
    "a=axes.get_xticks().tolist()\n",
    "a[0] = 'Strongly Disagree'\n",
    "a[1] = 'Disagree'\n",
    "a[3] = 'Neutral'\n",
    "a[4] = 'Agree'\n",
    "a[5] = 'Strongly Agree'\n",
    "axes.set_xticklabels(a);"
   ]
  },
  {
   "cell_type": "code",
   "execution_count": null,
   "metadata": {
    "collapsed": false
   },
   "outputs": [],
   "source": [
    "pre_females = dataset.query('gender_Female == 1')\n",
    "pre_females = pre_females[['atcs_1']]\n",
    "\n",
    "axes = pre_females.plot.hist()\n",
    "axes.set_xlabel('Female Students')\n",
    "axes.set_title('Measurement of atcs_1:\"I like to use computer science to solve problems\"')\n",
    "axes.set_yticks(np.arange(0, 300, 50))\n",
    "\n",
    "\n",
    "a=axes.get_xticks().tolist()\n",
    "a[0] = 'Strongly Disagree'\n",
    "a[1] = 'Disagree'\n",
    "a[3] = 'Neutral'\n",
    "a[4] = 'Agree'\n",
    "a[5] = 'Strongly Agree'\n",
    "axes.set_xticklabels(a);"
   ]
  },
  {
   "cell_type": "markdown",
   "metadata": {},
   "source": [
    "## Tune Estimator"
   ]
  },
  {
   "cell_type": "markdown",
   "metadata": {},
   "source": [
    "### Ideal choices of parameters as taken from Xgboost With Python ebook\n",
    "\n",
    "- Number of Trees (n estimators) set to a fixed value between 100 and 1000, depending on the dataset size.\n",
    "- Learning Rate (learning rate) simplified to the ratio: [2 to 10]/trees, depending on the trees number of trees.\n",
    "- Row Sampling (subsample) grid searched values in the range [0.5, 0.75, 1.0].\n",
    "- Column Sampling (colsample bytree and maybe colsample bylevel) grid searched values in the range [0.4, 0.6, 0.8, 1.0].\n",
    "- Min Leaf Weight (min child weight) simplified to the ratio 3/rare_events , where rare events rare events is the percentage of rare event observations in the dataset.\n",
    "- Tree Size (max depth) grid searched values in the rage [4, 6, 8, 10].\n",
    "- Min Split Gain (gamma) fixed with a value of zero.\n"
   ]
  },
  {
   "cell_type": "code",
   "execution_count": null,
   "metadata": {
    "collapsed": false
   },
   "outputs": [],
   "source": [
    "from __future__ import division\n",
    "\n",
    "\n",
    "trees = range(100, 1000, 100)\n",
    "\n",
    "lRate = range(2, 10, 2)\n",
    "lRate = [x/9 for x in lRate]\n",
    "X = X_train.drop(['pca_1','pca_2','pca_3'], axis=1, inplace=False)"
   ]
  },
  {
   "cell_type": "code",
   "execution_count": null,
   "metadata": {
    "collapsed": false
   },
   "outputs": [],
   "source": [
    "from sklearn.grid_search import GridSearchCV\n",
    "from sklearn.cross_validation import StratifiedShuffleSplit\n",
    "from sklearn.metrics import f1_score, make_scorer\n",
    "from xgboost import XGBClassifier as XGBC\n",
    "\n",
    "\n",
    "\n",
    "print '_'*20, 'Tuning XGBoost', '_'*20\n",
    "print \"Training the data\"\n",
    "\n",
    "\n",
    "# max_delta_step, Maximum delta step we allow each tree's weight estimation to be. \n",
    "# If the value is set to 0, it means there is no constraint. If it is set to a positive value, \n",
    "# it can help making the update step more conservative. Usually this parameter is not needed, \n",
    "# but it might help in logistic regression when class is extremely imbalanced. \n",
    "# Set it to value of 1-10 might help control the update\n",
    "\n",
    "cv_params = {'learning_rate': [0.2222, 0.4444, 0.6666, 0.8888],\n",
    "            'max_depth': [4, 6, 8, 10],\n",
    "            'n_estimators': range(100, 1100, 100)}\n",
    "             \n",
    "\n",
    "\n",
    "\n",
    "# Build a stratified shuffle object because of unbalanced data\n",
    "folds = 50\n",
    "ssscv = StratifiedShuffleSplit(y_train, folds, random_state = 42)\n",
    "\n",
    "# Make an appropriate scoring function\n",
    "scoring_function = make_scorer(f1_score)\n",
    "\n",
    "\n",
    "grid = GridSearchCV(XGBC(), cv_params, cv=ssscv, scoring=scoring_function, n_jobs = -1) \n",
    "grid.fit(X, y_train)\n"
   ]
  },
  {
   "cell_type": "code",
   "execution_count": null,
   "metadata": {
    "collapsed": false
   },
   "outputs": [],
   "source": [
    "model =  grid.best_estimator_\n",
    "print model"
   ]
  },
  {
   "cell_type": "code",
   "execution_count": null,
   "metadata": {
    "collapsed": false
   },
   "outputs": [],
   "source": [
    "print model\n",
    "\n",
    "Features_test = X_test.drop(['pca_1','pca_2','pca_3'], axis=1, inplace=False)\n",
    "\n",
    "\n",
    "# make predictions for test data\n",
    "y_pred = model.predict(Features_test)\n",
    "predictions = [round(value) for value in y_pred]\n",
    "# evaluate predictions\n",
    "accuracy = accuracy_score(y_test, predictions)\n",
    "print(\"Accuracy: %.2f%%\" % (accuracy * 100.0))"
   ]
  },
  {
   "cell_type": "markdown",
   "metadata": {},
   "source": [
    "## Save Model"
   ]
  },
  {
   "cell_type": "code",
   "execution_count": null,
   "metadata": {
    "collapsed": false
   },
   "outputs": [],
   "source": [
    "import pickle\n",
    "\n",
    "# save model to file\n",
    "pickle.dump(model, open(\"genderedCSExperience.pickle.dat\", \"wb\"))"
   ]
  },
  {
   "cell_type": "code",
   "execution_count": null,
   "metadata": {
    "collapsed": false
   },
   "outputs": [],
   "source": [
    "model.fit(X, y_train)\n",
    "g = xgb.to_graphviz(model, rankdir='LR')\n",
    "g.render('report/figures/Tuned_model_graph.gv', view=True)"
   ]
  },
  {
   "cell_type": "code",
   "execution_count": null,
   "metadata": {
    "collapsed": true
   },
   "outputs": [],
   "source": []
  }
 ],
 "metadata": {
  "kernelspec": {
   "display_name": "Python 2",
   "language": "python",
   "name": "python2"
  },
  "language_info": {
   "codemirror_mode": {
    "name": "ipython",
    "version": 2
   },
   "file_extension": ".py",
   "mimetype": "text/x-python",
   "name": "python",
   "nbconvert_exporter": "python",
   "pygments_lexer": "ipython2",
   "version": "2.7.12"
  }
 },
 "nbformat": 4,
 "nbformat_minor": 0
}
