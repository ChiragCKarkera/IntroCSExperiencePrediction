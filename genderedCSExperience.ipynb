{
 "cells": [
  {
   "cell_type": "markdown",
   "metadata": {},
   "source": [
    "# Identify Factors that Predict Intro CS Experience Based on Gender: Part One\n"
   ]
  },
  {
   "cell_type": "code",
   "execution_count": 1,
   "metadata": {
    "collapsed": false
   },
   "outputs": [
    {
     "data": {
      "text/html": [
       "<script>jQuery(function() {if (jQuery(\"body.notebook_app\").length == 0) { jQuery(\".input_area\").toggle(); jQuery(\".prompt\").toggle();}});</script>"
      ]
     },
     "metadata": {},
     "output_type": "display_data"
    },
    {
     "data": {
      "text/html": [
       "<button onclick=\"jQuery('.input_area').toggle(); jQuery('.prompt').toggle();\">Toggle code</button>"
      ]
     },
     "metadata": {},
     "output_type": "display_data"
    }
   ],
   "source": [
    "from IPython.display import display\n",
    "from IPython.display import HTML\n",
    "import IPython.core.display as di # Example: di.display_html('<h3>%s:</h3>' % str, raw=True)\n",
    "\n",
    "# This line will hide code by default when the notebook is exported as HTML\n",
    "di.display_html('<script>jQuery(function() {if (jQuery(\"body.notebook_app\").length == 0) { jQuery(\".input_area\").toggle(); jQuery(\".prompt\").toggle();}});</script>', raw=True)\n",
    "\n",
    "# This line will add a button to toggle visibility of code blocks, for use with the HTML export version\n",
    "di.display_html('''<button onclick=\"jQuery('.input_area').toggle(); jQuery('.prompt').toggle();\">Toggle code</button>''', raw=True)\n"
   ]
  },
  {
   "cell_type": "markdown",
   "metadata": {},
   "source": [
    "## Introduction\n",
    "\n",
    "### Problem Statement\n",
    "I am interested in identify the leading indicators of experience broken down by gender in introductory CS at an elite research university like Berkeley. In short, I want to find the attributes that split the dataset as *purely* as possible into male and female.\n",
    "\n",
    "To solve this problem, I will undertake the following course of action:\n",
    "1. Explore the dataset\n",
    "    - Usually, I would explore the dataset to ensure its integrity and understand the context. But in this case, I will skip this step since I designed the study and collected the data, as such, I am well versed of the context. Further, I have done previous work on this dataset, so I know its boundaries.\n",
    "2. Identify features that may be used. \n",
    "    - If possible, engineer features that might provide greater discrimination.\n",
    "3. With the understanding that this a `classification` task, explore a couple of classifiers that might be well suited for the problem at hand.\n",
    "    - Random Forest classifier\n",
    "    - eXtreme Gradient Boosted (XGBoost) trees classifier\n",
    "    - Support Vector Machine (SVM)\n",
    "    - Decision Tree classifier\n",
    "4.  Select appropriate classifier based on evaluation metric and tune it for optimality.\n",
    "5.  Extract top features responsible for discriminating the data.\n",
    "\n",
    "In this notebook, I will tackle steps one and two. This [notebook](https://github.com/omoju/genderCSExperience/blob/master/featureImportance.ipynb) will focus on steps three through five.\n",
    "\n"
   ]
  },
  {
   "cell_type": "markdown",
   "metadata": {},
   "source": [
    "## Preliminaries"
   ]
  },
  {
   "cell_type": "code",
   "execution_count": 2,
   "metadata": {
    "collapsed": false
   },
   "outputs": [
    {
     "name": "stdout",
     "output_type": "stream",
     "text": [
      "Populating the interactive namespace from numpy and matplotlib\n"
     ]
    }
   ],
   "source": [
    "%pylab inline"
   ]
  },
  {
   "cell_type": "code",
   "execution_count": 3,
   "metadata": {
    "collapsed": false
   },
   "outputs": [],
   "source": [
    "# Import libraries\n",
    "from __future__ import division\n",
    "import sys\n",
    "sys.path.append('tools/')\n",
    "\n",
    "import numpy as np\n",
    "import pandas as pd\n",
    "import pickle\n",
    "import tools\n",
    "\n",
    "   \n",
    "# Graphing Libraries\n",
    "import matplotlib.pyplot as pyplt\n",
    "import seaborn as sns\n",
    "sns.set_style(\"white\")    "
   ]
  },
  {
   "cell_type": "markdown",
   "metadata": {},
   "source": [
    "### Load Data\n",
    "\n",
    "Let's go ahead and read in the student dataset. There are two functions that support this dataset:\n",
    "- `dataLookUp(surveyItemCode)` This function take a string that is coded survey item. For example if you execute `dataLookUp(atcs_1)`, it prints out the corresponding survey question, I like to use computer science to solve problems. \n",
    "- `dataDescr()` This function gives you a general introduction to the dataset.\n",
    "\n",
    "Note: Majority of the questionnaire uses a 5-point Likert scale (where 1 = Strongly Disagree, 3 = Neutral and 5 = Strongly Agree)."
   ]
  },
  {
   "cell_type": "code",
   "execution_count": 4,
   "metadata": {
    "collapsed": false
   },
   "outputs": [],
   "source": [
    "# Load the student data. For this project we will restrict the analysis to male and female gender.\n",
    "\n",
    "dataset = tools.preprocess()\n",
    "\n",
    "dataset = dataset.query('gender == \"Female\" or gender == \"Male\"') #load rows with binary gender\n",
    "dataset = dataset.reset_index(drop=True)\n",
    " "
   ]
  },
  {
   "cell_type": "code",
   "execution_count": 5,
   "metadata": {
    "collapsed": false
   },
   "outputs": [
    {
     "name": "stdout",
     "output_type": "stream",
     "text": [
      "UC Berkeley Intro CS Student dataset\n",
      "\n",
      "Notes\n",
      "------\n",
      "Data Set Characteristics:\n",
      "\n",
      "Number of Instances:882\n",
      "\n",
      "Attribute Information:\n",
      "\n",
      "Self reported attitudes about CS\n",
      "- atcs_1 I like to use computer science to solve problems.\n",
      "- atcs_2 I can learn to understand computing concepts.\n",
      "- atcs_3 I can achieve good grades (C or better) in computing courses.\n",
      "- atcs_4 I do not like using computer science to solve problems.\n",
      "- atcs_5 I am confident that I can solve problems by using computation.\n",
      "- atcs_6 The challenge of solving problems using computer science appeals to me.\n",
      "- atcs_7 I am comfortable with learning computing concepts.\n",
      "- atcs_8 I am confident about my abilities with regards to computer science.\n",
      "- atcs_9 I do think I can learn to understand computing concepts.\n",
      "\n",
      "Gendered belief about CS ability\n",
      "- atcsgender_1 Women are less capable of success in CS than men.\n",
      "- atcsgender_2 Women are smarter than men.\n",
      "- atcsgender_3 Men have better math and science abilities than women.\n",
      "\n",
      "Career driven beliefs about CS\n",
      "- atcsjob_1 Knowledge of computing will allow me to secure a good job.\n",
      "- atcsjob_2 My career goals do not require that I learn computing skills.\n",
      "\n",
      "Self reported attitudes about computational thinking\n",
      "- atct_1 I am good at solving a problem by thinking about similar problems I have solved before.\n",
      "- atct_2 I have good research skills.\n",
      "- atct_3 I am good at using online search tools.\n",
      "- atct_4 I am persistent at solving puzzles or logic problems.\n",
      "- atct_5 I know how to write computer programs.\n",
      "- atct_6 I am good at building things.\n",
      "- atct_7 I am good at ignoring irrelevant details to solve a problem.\n",
      "- atct_8 I know how to write a computer program to solve a problem.\n",
      "\n",
      "Self reported attitudes about CS class belonging\n",
      "- blg_1 In this class, I feel I belong.\n",
      "- blg_2 In this class, I feel awkward and out of place.\n",
      "- blg_3 In this class, I feel like my ideas count.\n",
      "- blg_4 In this class, I feel like I matter.\n",
      "\n",
      "Self reported beliefs about collegiality\n",
      "- clet_1 I work well in teams.\n",
      "- clet_2 I think about the ethical, legal, and social implications of computing.\n",
      "- cltrcmp_1 I am comfortable interacting with peers from different backgrounds than my own (based on race, sexuality, income, and so on.)\n",
      "- cltrcmp_2 I have good cultural competence, or the ability to interact effectively with people from diverse backgrounds.\n",
      "\n",
      "Demographics\n",
      "- gender Could I please know your gender\n",
      "- reason_class What is your reason for taking this class\n",
      "- major What is your major?\n",
      "\n",
      "CS mentors and role models\n",
      "- mtr_1 Before I came to UC Berkeley, I knew people who have careers in Computer Science.\n",
      "- mtr_2 There are people with careers in Computer Science who look like me.\n",
      "- mtr_3 I have role models within the Computer Science field that look like me.\n",
      "\n",
      "Prior collegiate CS exposure\n",
      "- prcs_1 Did you take a CS course in High School?\n",
      "- prcs_2 Did you have any exposure to Computer Science before UC Berkeley?\n",
      "- prcs_3 Did a family member introduce you to Computer Science?\n",
      "- prcs_4 Did you have a close family member who is a Computer Scientist or is affiliated with computing industry?\n",
      "- prcs_5 Did your high school offer AP CS?\n",
      "\n",
      "Missing Attribute Values: None\n",
      "\n",
      "Creator: Omoju Miller\n"
     ]
    }
   ],
   "source": [
    "# Use funtion to view data description\n",
    "tools.dataDescr()"
   ]
  },
  {
   "cell_type": "markdown",
   "metadata": {},
   "source": [
    "## Preprocess Data\n",
    "\n",
    "### Preprocess feature columns\n",
    "To prepare the data for classification, I need to devise a scheme to transform all features into numeric data. This dataset as several non-numeric columns that need converting. Many of them are simply `yes`/`no`, e.g. `prcs_2`. I can reasonably convert these into `1`/`0` (binary) values. For the columns whose values are `Nan`, I will convert these to `-1`. "
   ]
  },
  {
   "cell_type": "code",
   "execution_count": 6,
   "metadata": {
    "collapsed": false
   },
   "outputs": [],
   "source": [
    "# Preprocess feature columns\n",
    "def preprocess_features(X):\n",
    "    outX = pd.DataFrame(index=X.index)  # output dataframe, initially empty\n",
    "\n",
    "    # Check each column\n",
    "    for col, col_data in X.iteritems():\n",
    "        # If data type is non-numeric, try to replace all yes/no values with 1/0\n",
    "        if col_data.dtype == object:\n",
    "            col_data = col_data.replace(['Yes', 'No'], [1, 0])\n",
    "        # Note: This should change the data type for yes/no columns to int\n",
    "\n",
    "        # If still non-numeric, convert to one or more dummy variables\n",
    "        if col_data.dtype == object:\n",
    "            # e.g. 'reason' => 'reason_class_Interested' , 'reason_class_Other'\n",
    "            col_data = pd.get_dummies(col_data, prefix=col)\n",
    "\n",
    "        outX = outX.join(col_data)  # collect column(s) in output dataframe\n",
    "        outX.fillna(-1, inplace=True) # make sure all NaN <missing> values are set to 0\n",
    "\n",
    "    return outX\n",
    "\n"
   ]
  },
  {
   "cell_type": "code",
   "execution_count": 7,
   "metadata": {
    "collapsed": false
   },
   "outputs": [],
   "source": [
    "dataset = preprocess_features(dataset)"
   ]
  },
  {
   "cell_type": "code",
   "execution_count": 8,
   "metadata": {
    "collapsed": false
   },
   "outputs": [],
   "source": [
    "# Preprocess feature columns - Rename columns\n",
    "# There are some columns that have whitespaces in their names, these makes it difficult for \n",
    "# the tree plotting algorithms that we will be using later to graph these features. \n",
    "# As a result, we will change these whitespaces to hypens.\n",
    "\n",
    "dataset.rename(columns = {'grade_B or above':'grade_B_or_above'}, inplace = True)\n",
    "dataset.rename(columns = {'grade_B or below':'grade_B_or_below'}, inplace = True)"
   ]
  },
  {
   "cell_type": "markdown",
   "metadata": {},
   "source": [
    "### Scaling\n",
    "Linearly scale each attribute to the range [0, 1] to get better output from the SVM.\n",
    "\n"
   ]
  },
  {
   "cell_type": "code",
   "execution_count": 9,
   "metadata": {
    "collapsed": false
   },
   "outputs": [
    {
     "data": {
      "text/html": [
       "<div>\n",
       "<table border=\"1\" class=\"dataframe\">\n",
       "  <thead>\n",
       "    <tr style=\"text-align: right;\">\n",
       "      <th></th>\n",
       "      <th>atcs_1</th>\n",
       "      <th>atcs_2</th>\n",
       "      <th>atcs_3</th>\n",
       "      <th>atcs_4</th>\n",
       "      <th>atcs_5</th>\n",
       "      <th>atcs_6</th>\n",
       "      <th>atcs_7</th>\n",
       "      <th>atcs_8</th>\n",
       "      <th>atcs_9</th>\n",
       "      <th>atcsgender_1</th>\n",
       "      <th>...</th>\n",
       "      <th>mtr_3</th>\n",
       "      <th>prcs_1</th>\n",
       "      <th>prcs_2</th>\n",
       "      <th>prcs_3</th>\n",
       "      <th>prcs_4</th>\n",
       "      <th>prcs_5</th>\n",
       "      <th>prepared</th>\n",
       "      <th>priorcs10</th>\n",
       "      <th>reason_class_Interested</th>\n",
       "      <th>reason_class_Other</th>\n",
       "    </tr>\n",
       "  </thead>\n",
       "  <tbody>\n",
       "    <tr>\n",
       "      <th>877</th>\n",
       "      <td>1.00</td>\n",
       "      <td>1.00</td>\n",
       "      <td>1.00</td>\n",
       "      <td>0.00</td>\n",
       "      <td>1.00</td>\n",
       "      <td>1.00</td>\n",
       "      <td>1.00</td>\n",
       "      <td>1.00</td>\n",
       "      <td>1.00</td>\n",
       "      <td>0.0</td>\n",
       "      <td>...</td>\n",
       "      <td>1.0</td>\n",
       "      <td>1.0</td>\n",
       "      <td>1.0</td>\n",
       "      <td>1.0</td>\n",
       "      <td>1.0</td>\n",
       "      <td>1.0</td>\n",
       "      <td>1.00</td>\n",
       "      <td>0.5</td>\n",
       "      <td>1.0</td>\n",
       "      <td>0.0</td>\n",
       "    </tr>\n",
       "    <tr>\n",
       "      <th>878</th>\n",
       "      <td>0.00</td>\n",
       "      <td>0.50</td>\n",
       "      <td>0.25</td>\n",
       "      <td>1.00</td>\n",
       "      <td>0.00</td>\n",
       "      <td>0.00</td>\n",
       "      <td>0.00</td>\n",
       "      <td>0.00</td>\n",
       "      <td>0.00</td>\n",
       "      <td>0.0</td>\n",
       "      <td>...</td>\n",
       "      <td>0.0</td>\n",
       "      <td>0.0</td>\n",
       "      <td>0.0</td>\n",
       "      <td>0.0</td>\n",
       "      <td>0.0</td>\n",
       "      <td>0.0</td>\n",
       "      <td>0.00</td>\n",
       "      <td>0.5</td>\n",
       "      <td>0.0</td>\n",
       "      <td>1.0</td>\n",
       "    </tr>\n",
       "    <tr>\n",
       "      <th>879</th>\n",
       "      <td>1.00</td>\n",
       "      <td>1.00</td>\n",
       "      <td>1.00</td>\n",
       "      <td>0.25</td>\n",
       "      <td>0.75</td>\n",
       "      <td>1.00</td>\n",
       "      <td>1.00</td>\n",
       "      <td>0.75</td>\n",
       "      <td>1.00</td>\n",
       "      <td>0.0</td>\n",
       "      <td>...</td>\n",
       "      <td>0.0</td>\n",
       "      <td>1.0</td>\n",
       "      <td>1.0</td>\n",
       "      <td>0.0</td>\n",
       "      <td>1.0</td>\n",
       "      <td>1.0</td>\n",
       "      <td>1.00</td>\n",
       "      <td>0.5</td>\n",
       "      <td>0.0</td>\n",
       "      <td>0.0</td>\n",
       "    </tr>\n",
       "    <tr>\n",
       "      <th>880</th>\n",
       "      <td>1.00</td>\n",
       "      <td>1.00</td>\n",
       "      <td>0.75</td>\n",
       "      <td>0.25</td>\n",
       "      <td>0.50</td>\n",
       "      <td>0.75</td>\n",
       "      <td>0.50</td>\n",
       "      <td>0.50</td>\n",
       "      <td>0.75</td>\n",
       "      <td>0.0</td>\n",
       "      <td>...</td>\n",
       "      <td>0.0</td>\n",
       "      <td>0.0</td>\n",
       "      <td>0.0</td>\n",
       "      <td>0.0</td>\n",
       "      <td>0.0</td>\n",
       "      <td>0.0</td>\n",
       "      <td>0.00</td>\n",
       "      <td>0.5</td>\n",
       "      <td>1.0</td>\n",
       "      <td>0.0</td>\n",
       "    </tr>\n",
       "    <tr>\n",
       "      <th>881</th>\n",
       "      <td>0.75</td>\n",
       "      <td>0.75</td>\n",
       "      <td>0.50</td>\n",
       "      <td>0.25</td>\n",
       "      <td>0.25</td>\n",
       "      <td>1.00</td>\n",
       "      <td>0.75</td>\n",
       "      <td>0.50</td>\n",
       "      <td>1.00</td>\n",
       "      <td>0.0</td>\n",
       "      <td>...</td>\n",
       "      <td>0.0</td>\n",
       "      <td>0.0</td>\n",
       "      <td>0.0</td>\n",
       "      <td>0.0</td>\n",
       "      <td>0.0</td>\n",
       "      <td>1.0</td>\n",
       "      <td>0.25</td>\n",
       "      <td>0.5</td>\n",
       "      <td>1.0</td>\n",
       "      <td>0.0</td>\n",
       "    </tr>\n",
       "  </tbody>\n",
       "</table>\n",
       "<p>5 rows × 47 columns</p>\n",
       "</div>"
      ],
      "text/plain": [
       "     atcs_1  atcs_2  atcs_3  atcs_4  atcs_5  atcs_6  atcs_7  atcs_8  atcs_9  \\\n",
       "877    1.00    1.00    1.00    0.00    1.00    1.00    1.00    1.00    1.00   \n",
       "878    0.00    0.50    0.25    1.00    0.00    0.00    0.00    0.00    0.00   \n",
       "879    1.00    1.00    1.00    0.25    0.75    1.00    1.00    0.75    1.00   \n",
       "880    1.00    1.00    0.75    0.25    0.50    0.75    0.50    0.50    0.75   \n",
       "881    0.75    0.75    0.50    0.25    0.25    1.00    0.75    0.50    1.00   \n",
       "\n",
       "     atcsgender_1         ...          mtr_3  prcs_1  prcs_2  prcs_3  prcs_4  \\\n",
       "877           0.0         ...            1.0     1.0     1.0     1.0     1.0   \n",
       "878           0.0         ...            0.0     0.0     0.0     0.0     0.0   \n",
       "879           0.0         ...            0.0     1.0     1.0     0.0     1.0   \n",
       "880           0.0         ...            0.0     0.0     0.0     0.0     0.0   \n",
       "881           0.0         ...            0.0     0.0     0.0     0.0     0.0   \n",
       "\n",
       "     prcs_5  prepared  priorcs10  reason_class_Interested  reason_class_Other  \n",
       "877     1.0      1.00        0.5                      1.0                 0.0  \n",
       "878     0.0      0.00        0.5                      0.0                 1.0  \n",
       "879     1.0      1.00        0.5                      0.0                 0.0  \n",
       "880     0.0      0.00        0.5                      1.0                 0.0  \n",
       "881     1.0      0.25        0.5                      1.0                 0.0  \n",
       "\n",
       "[5 rows x 47 columns]"
      ]
     },
     "execution_count": 9,
     "metadata": {},
     "output_type": "execute_result"
    }
   ],
   "source": [
    "from sklearn.preprocessing import MinMaxScaler\n",
    "\n",
    "scaler = MinMaxScaler()\n",
    "\n",
    "df_scaled = pd.DataFrame(scaler.fit_transform(dataset), columns=dataset.columns)\n",
    "dataset = df_scaled\n",
    "dataset.tail()\n"
   ]
  },
  {
   "cell_type": "markdown",
   "metadata": {},
   "source": [
    "### Frequency Distribution\n",
    "\n",
    "As an aid in understanding the data, I will create 'coded' dimensions that I am interested in investigating.    \n",
    "These dimensions are as follows:\n",
    "\n",
    "- **`mtr`**: The role of mentorship\n",
    "- **`prcs`**: The role of prior CS exposure\n",
    "- **`atcs`**: The role of self reported attitude about CS competency \n",
    "- **`atct`**: The role of self reported attitudes about computational thinking\n",
    "- **`blg`**: The role of self reported belonging in the class room\n",
    "- **`clet`**: The role of social implications and ethics \n",
    "- **`atcsgender`**: The role of gendered notions of intelligence \n",
    "- **`atcsjob`**: The role of career driven beliefs about CS\n",
    "- **`cltrcmp`** : The role of culutral competency\n",
    "- **`priorcs10`**: The role of CS10"
   ]
  },
  {
   "cell_type": "code",
   "execution_count": 10,
   "metadata": {
    "collapsed": true
   },
   "outputs": [],
   "source": [
    "mtr = ['mtr_1', 'mtr_2', 'mtr_3'] # CS Mentors\n",
    "prcs = ['prcs_1', 'prcs_2', 'prcs_3', 'prcs_4', 'prcs_5'] # Prior CS Exposure\n",
    "atcs = ['atcs_1', 'atcs_2', 'atcs_3', 'atcs_5', 'atcs_4', \n",
    "        'atcs_6', 'atcs_7', 'atcs_8', 'atcs_9']# self reported attitude about CS competency\n",
    "atct = ['atct_1', 'atct_2', 'atct_3', 'atct_4', \n",
    "        'atct_5', 'atct_6', 'atct_7', 'atct_8'] # Self reported attitudes about computational thinking\n",
    "blg = ['blg_1', 'blg_2', 'blg_3', 'blg_4'] # Sense of belonging in the class room\n",
    "clet = ['clet_1', 'clet_2'] # Social implications and ethics\n",
    "atcsgender = ['atcsgender_1', 'atcsgender_2', 'atcsgender_3'] \n",
    "atcsjob = ['atcsjob_1', 'atcsjob_2'] \n",
    "cltrcmp = ['cltrcmp_1', 'cltrcmp_2'] # Culutral competency\n",
    "priorcs10 = 'priorcs10' # had taken CS10 prior\n"
   ]
  },
  {
   "cell_type": "markdown",
   "metadata": {},
   "source": [
    "## Summarizing Data\n",
    "\n",
    "I created a density estimation for some dimensions in the data to gain an understanding of the variables and determine if I need to reject some of them, or collapse others. The distributions of most of the dimensions looked very similary to that of `atcs`. Most of the data is either skewed to the left or skewed to the right. As a result, I rejected using descriptive statistics to summarize the data in favor quantiles represented by boxplots. "
   ]
  },
  {
   "cell_type": "code",
   "execution_count": 11,
   "metadata": {
    "collapsed": false
   },
   "outputs": [],
   "source": [
    "dataset[atcs].plot(kind='kde');\n",
    "x = [-0.5, 0.0, 0.5, 1.0, 1.5]\n",
    "labels = [\"\", \"Strongly Disagree\", \"Neutral\", \"Strongly Agree\" , \"\"]\n",
    "pyplt.xticks(x, labels)\n",
    "\n",
    "pyplt.xlabel('SURVEY RESPONSES')\n",
    "pyplt.title('DENSITY ESTIMATION OF COMPUTER SCIENCE ABILITY')\n",
    "pyplt.legend(loc='upper right', shadow=True, fontsize='medium')\n",
    "pyplt.savefig('report/figures/atcs.png', dpi=100)\n",
    "pyplt.close()"
   ]
  },
  {
   "cell_type": "markdown",
   "metadata": {},
   "source": [
    "<img src=\"report/figures/atcs.png\" alt=\"Drawing\" style=\"width: 450px;\"/>\n",
    "\n",
    "#### Computer Science beliefs\n",
    "- atcs_1 I like to use computer science to solve problems.\n",
    "- atcs_2 I can learn to understand computing concepts.\n",
    "- atcs_3 I can achieve good grades (C or better) in computing courses.\n",
    "- atcs_4 I do not like using computer science to solve problems.\n",
    "- atcs_5 I am confident that I can solve problems by using computation.\n",
    "- atcs_6 The challenge of solving problems using computer science appeals to me.\n",
    "- atcs_7 I am comfortable with learning computing concepts.\n",
    "- atcs_8 I am confident about my abilities with regards to computer science.\n",
    "- atcs_9 I do think I can learn to understand computing concepts"
   ]
  },
  {
   "cell_type": "code",
   "execution_count": 12,
   "metadata": {
    "collapsed": false
   },
   "outputs": [],
   "source": [
    "dataset[atcs].plot.box();\n",
    "y = np.arange(0,1.1,0.25)\n",
    "labels = ['{} percentile'.format(int(i*100)) for i in y]\n",
    "pyplt.yticks(y, labels)\n",
    "\n",
    "pyplt.title('QUANTILES OF COMPUTER SCIENCE ABILITY')\n",
    "pyplt.savefig('report/figures/atcs_quantile.png', dpi=200)\n",
    "pyplt.close()"
   ]
  },
  {
   "cell_type": "markdown",
   "metadata": {},
   "source": [
    "<img src=\"report/figures/atcs_quantile.png\" alt=\"Drawing\" style=\"width: 450px;\"/>\n",
    "\n",
    "So what does the boxplot of `atcs_dimension` tell us about the data? From the generated figure, we can see that the **median** of this dimension is approximately at the 75 percentile, which based on our Likert scale dataset means most students generally agree with the mostly positive attitudinal questions asked about their CS beliefs. Attitudes about computational thinking also have a similar pattern.\n",
    "\n",
    "#### Computational thinking beliefs\n",
    "- atct_1 I am good at solving a problem by thinking about similar problems I have solved before.\n",
    "- atct_2 I have good research skills.\n",
    "- atct_3 I am good at using online search tools.\n",
    "- atct_4 I am persistent at solving puzzles or logic problems.\n",
    "- atct_5 I know how to write computer programs.\n",
    "- atct_6 I am good at building things.\n",
    "- atct_7 I am good at ignoring irrelevant details to solve a problem.\n",
    "- atct_8 I know how to write a computer program to solve a problem."
   ]
  },
  {
   "cell_type": "code",
   "execution_count": 13,
   "metadata": {
    "collapsed": false
   },
   "outputs": [],
   "source": [
    "dataset[atct].plot.box();\n",
    "y = np.arange(0,1.1,0.25)\n",
    "labels = ['{} percentile'.format(int(i*100)) for i in y]\n",
    "pyplt.yticks(y, labels)\n",
    "\n",
    "pyplt.title('QUANTILES OF COMPUTATIONAL THINKING ABILITY')\n",
    "pyplt.savefig('report/figures/atct_quantile.png', dpi=300)\n",
    "pyplt.close()"
   ]
  },
  {
   "cell_type": "markdown",
   "metadata": {},
   "source": [
    "<img src=\"report/figures/atct_quantile.png\" alt=\"Drawing\" style=\"width: 450px;\"/>\n",
    "\n",
    "#### Beliefs about Belonging \n",
    "- blg_1 In this class, I feel I belong.\n",
    "- blg_2 In this class, I feel awkward and out of place.\n",
    "- blg_3 In this class, I feel like my ideas count.\n",
    "- blg_4 In this class, I feel like I matter.\n",
    "\n",
    "When it comes to belonging we see a different pattern. Majority of students feel like the belong, but most of them are *neutral* when belonging becomes more specific.\n",
    "\n",
    "<img src=\"report/figures/blg_quantile.png\" alt=\"Drawing\" style=\"width: 450px;\"/>"
   ]
  },
  {
   "cell_type": "code",
   "execution_count": 14,
   "metadata": {
    "collapsed": false
   },
   "outputs": [],
   "source": [
    "dataset[blg].plot.box();\n",
    "y = np.arange(0,1.1,0.25)\n",
    "labels = ['{} percentile'.format(int(i*100)) for i in y]\n",
    "pyplt.yticks(y, labels)\n",
    "\n",
    "pyplt.title('QUANTILES OF BELONGING')\n",
    "pyplt.savefig('report/figures/blg_quantile.png', dpi=100)\n",
    "pyplt.close()"
   ]
  },
  {
   "cell_type": "markdown",
   "metadata": {},
   "source": [
    "#### Gendered notions of intelligence\n",
    "- atcsgender_1 Women are less capable of success in CS than men.\n",
    "- atcsgender_2 Women are smarter than men.\n",
    "- atcsgender_3 Men have better math and science abilities than women.\n",
    "\n",
    "<img src=\"report/figures/atcsgender.png\" alt=\"Drawing\" style=\"width: 450px;\"/>\n",
    "<img src=\"report/figures/atcsgender_quantile.png\" alt=\"Drawing\" style=\"width: 450px;\"/>\n",
    "\n",
    "From a plot of its density estimation, I can see that the distribution for this dimension is really skewed to the right, i.e., most students *strongly disagree* with the statements. That does not come as a suprise, what I found fascinating is that the median for `atcsgender_2` is at the 25 percentile, which corresponds to *neutral.* You can see this in the boxplot. While students do not agree that women are smarter than men, half of them is undecided about this statement!\n",
    "\n"
   ]
  },
  {
   "cell_type": "code",
   "execution_count": 15,
   "metadata": {
    "collapsed": false
   },
   "outputs": [],
   "source": [
    "dataset[atcsgender].plot(kind='kde');\n",
    "x = [-0.5, 0.0, 0.5, 1.0, 1.5]\n",
    "labels = [\"\", \"Strongly Disagree\", \"Neutral\", \"Strongly Agree\" , \"\"]\n",
    "pyplt.xticks(x, labels)\n",
    "\n",
    "pyplt.xlabel('SURVEY RESPONSES')\n",
    "pyplt.title('DENSITY ESTIMATION OF GENDERED NOTIONS OF INTELLIGENCE')\n",
    "pyplt.legend(loc='upper right', shadow=True, fontsize='medium')\n",
    "pyplt.savefig('report/figures/atcsgender.png', dpi=100)\n",
    "pyplt.close()"
   ]
  },
  {
   "cell_type": "code",
   "execution_count": 16,
   "metadata": {
    "collapsed": false
   },
   "outputs": [],
   "source": [
    "dataset[atcsgender].plot.box();\n",
    "y = np.arange(0,1.1,0.25)\n",
    "labels = ['{} percentile'.format(int(i*100)) for i in y]\n",
    "pyplt.yticks(y, labels)\n",
    "\n",
    "pyplt.title('QUANTILES OF GENDERED NOTIONS OF INTELLIGENCE')\n",
    "pyplt.savefig('report/figures/atcsgender_quantile.png', dpi=100)\n",
    "pyplt.close()"
   ]
  },
  {
   "cell_type": "markdown",
   "metadata": {},
   "source": [
    "### Extract features and labels for training models \n",
    "\n",
    "Extract feature (X) and target (y) columns"
   ]
  },
  {
   "cell_type": "code",
   "execution_count": 17,
   "metadata": {
    "collapsed": false
   },
   "outputs": [
    {
     "name": "stdout",
     "output_type": "stream",
     "text": [
      "\n",
      "Label values:-\n",
      "0    1.0\n",
      "1    1.0\n",
      "2    1.0\n",
      "3    1.0\n",
      "4    1.0\n",
      "Name: gender_Female, dtype: float64\n"
     ]
    }
   ],
   "source": [
    "target_col = dataset['gender_Female']  #  column is the target/label \n",
    "y = target_col  # corresponding targets/labels\n",
    "\n",
    "print \"\\nLabel values:-\"\n",
    "print y.head()  "
   ]
  },
  {
   "cell_type": "code",
   "execution_count": 18,
   "metadata": {
    "collapsed": false
   },
   "outputs": [
    {
     "name": "stdout",
     "output_type": "stream",
     "text": [
      "\n",
      "Feature values:-\n",
      "   atcs_1  atcs_2  atcs_3  atcs_4  atcs_5  atcs_6  atcs_7  atcs_8  atcs_9  \\\n",
      "0     0.5    0.75    1.00    0.50    0.75    0.75    0.75    0.50    0.75   \n",
      "1     0.0    0.00    0.00    1.00    0.00    0.00    0.00    0.00    0.25   \n",
      "2     1.0    1.00    1.00    0.00    1.00    1.00    1.00    1.00    1.00   \n",
      "3     1.0    0.75    0.75    0.00    0.75    0.75    0.75    1.00    1.00   \n",
      "4     0.5    0.50    0.75    0.25    0.50    0.75    1.00    0.25    0.75   \n",
      "\n",
      "   atcsgender_1         ...          mtr_3  prcs_1  prcs_2  prcs_3  prcs_4  \\\n",
      "0           0.0         ...            0.0     0.0     0.0     0.0     0.0   \n",
      "1           0.0         ...            0.0     0.0     0.0     1.0     1.0   \n",
      "2           0.0         ...            1.0     0.0     0.0     0.0     0.0   \n",
      "3           0.0         ...            0.0     0.0     0.0     0.0     0.0   \n",
      "4           0.0         ...            0.0     0.0     0.0     0.0     0.0   \n",
      "\n",
      "   prcs_5  prepared  priorcs10  reason_class_Interested  reason_class_Other  \n",
      "0     1.0      0.50        0.0                      1.0                 0.0  \n",
      "1     0.0      0.25        0.0                      1.0                 0.0  \n",
      "2     1.0      0.50        0.0                      1.0                 0.0  \n",
      "3     1.0      0.75        0.0                      1.0                 0.0  \n",
      "4     0.0      0.50        0.0                      1.0                 0.0  \n",
      "\n",
      "[5 rows x 45 columns]\n"
     ]
    }
   ],
   "source": [
    "X = dataset.drop(['gender_Female', 'gender_Male'], axis=1, inplace=False)\n",
    "\n",
    "print \"\\nFeature values:-\"\n",
    "print X.head()  "
   ]
  },
  {
   "cell_type": "markdown",
   "metadata": {},
   "source": [
    "### Determine if classes are balanced\n",
    "<img src=\"report/figures/targetClass.png\" alt=\"Drawing\" style=\"width: 450px;\"/>\n",
    "\n",
    "- As we can see the dataset is unbalanced, we have more males than females.\n",
    "\n",
    "\n"
   ]
  },
  {
   "cell_type": "code",
   "execution_count": 19,
   "metadata": {
    "collapsed": false
   },
   "outputs": [],
   "source": [
    "y.plot.hist()\n",
    "\n",
    "pyplt.grid(False)\n",
    "_= pyplt.xlabel('VALUE OF TARGET LABEL')\n",
    "_= pyplt.ylabel('COUNT')\n",
    "_= pyplt.title('HISTOGRAM OF TARGET CLASS')\n",
    "_= pyplt.legend(loc='upper center', shadow=True, fontsize='medium')\n",
    "_= pyplt.yticks(np.arange(0, 700, 100))\n",
    "pyplt.savefig('report/figures/targetClass.png', dpi=100)\n",
    "pyplt.close()\n"
   ]
  },
  {
   "cell_type": "code",
   "execution_count": 20,
   "metadata": {
    "collapsed": false
   },
   "outputs": [
    {
     "name": "stdout",
     "output_type": "stream",
     "text": [
      "Number of males in data 494\n",
      "Number of females in data 388\n",
      "Ratio of males to females 1.27319587629\n"
     ]
    }
   ],
   "source": [
    "num_male = y.tolist().count(0)\n",
    "num_female = y.tolist().count(1)\n",
    "\n",
    "print \"Number of males in data\", num_male\n",
    "print \"Number of females in data\", num_female\n",
    "print \"Ratio of males to females {}\".format(num_male/ num_female)\n"
   ]
  },
  {
   "cell_type": "code",
   "execution_count": 21,
   "metadata": {
    "collapsed": false
   },
   "outputs": [],
   "source": [
    "# Save dataframes to file\n",
    "\n",
    "X.to_pickle('data/features.pickle.dat')\n",
    "y.to_pickle('data/labels.pickle.dat')"
   ]
  },
  {
   "cell_type": "code",
   "execution_count": null,
   "metadata": {
    "collapsed": true
   },
   "outputs": [],
   "source": []
  }
 ],
 "metadata": {
  "kernelspec": {
   "display_name": "Python 2",
   "language": "python",
   "name": "python2"
  },
  "language_info": {
   "codemirror_mode": {
    "name": "ipython",
    "version": 2
   },
   "file_extension": ".py",
   "mimetype": "text/x-python",
   "name": "python",
   "nbconvert_exporter": "python",
   "pygments_lexer": "ipython2",
   "version": "2.7.12"
  }
 },
 "nbformat": 4,
 "nbformat_minor": 0
}
